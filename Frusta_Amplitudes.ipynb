{
 "cells": [
  {
   "cell_type": "markdown",
   "metadata": {},
   "source": [
    "Collecting the data for the quantum vertex amplitude for the 1-periodic case. In this case, the initial and final spin are equal, while on the 3-frusta spins k, no condition is imposed. This leaves us with a pair of spins (j,k), for which we need to compute the quantum amplitudes. "
   ]
  },
  {
   "cell_type": "markdown",
   "metadata": {},
   "source": [
    "From the intertwiner data, I infer that Int1j and Int5j are the 3-cubes while the other intertwiners correspond to the 3-frusta. Apparently, for the 3-frusta intertwiners, the first two spins are the ones of the initial and final spin, while the third spin is the one of the sides, k."
   ]
  },
  {
   "cell_type": "code",
   "execution_count": 1,
   "metadata": {},
   "outputs": [],
   "source": [
    "using JLD, LinearAlgebra, Cuba, SparseArrays, CSV, DataFrames, TensorOperations, BenchmarkTools, Plots, LaTeXStrings"
   ]
  },
  {
   "cell_type": "code",
   "execution_count": 2,
   "metadata": {},
   "outputs": [
    {
     "data": {
      "text/plain": [
       "QExpval_P1 (generic function with 1 method)"
      ]
     },
     "metadata": {},
     "output_type": "display_data"
    }
   ],
   "source": [
    "# Codes for the semi-classical amplitudes\n",
    "include(\"/ssd/ri47hud/codes/Spectral Dimension/basic_frusta.jl\")\n",
    "include(\"/ssd/ri47hud/codes/Spectral Dimension/laplacians_v3.jl\")\n",
    "include(\"/ssd/ri47hud/codes/Spectral Dimension/vertex_ampl.jl\")\n",
    "include(\"/ssd/ri47hud/codes/Spectral Dimension/return_prob_v2.jl\")\n",
    "\n",
    "# Codes for the intertwiners and quantum amplitudes\n",
    "include(\"/ssd/ri47hud/codes/Frusta quantum amplitude/quantum_amplitude.jl\")"
   ]
  },
  {
   "cell_type": "markdown",
   "metadata": {},
   "source": [
    "The code below visualizes the exclusion of spins due to the Riemannian EPRL-condition."
   ]
  },
  {
   "cell_type": "code",
   "execution_count": null,
   "metadata": {},
   "outputs": [],
   "source": [
    "gammas = [i for i in 0.001:0.001:0.999]\n",
    "config_ratio = [length(filter(x -> EPRL_cond(x, gamma) == 1, [0.5*(i-1)+1 for i in 1:19999]))/length([0.5*(i-1)+1 for i in 1:19999]) for gamma in gammas]\n",
    "fig = scatter(gammas, config_ratio, legend=false, fmt=:png, xlabel=\"\\\\gamma\", ylabel=\"N/N_spins\")\n",
    "savefig(fig, \"EPRL_condition.png\")"
   ]
  },
  {
   "cell_type": "markdown",
   "metadata": {},
   "source": [
    "A value for gamma of 0.5 exlcudes the smallest amount of spins, which are then evenly spaced even integers, as shown below."
   ]
  },
  {
   "cell_type": "code",
   "execution_count": 21,
   "metadata": {},
   "outputs": [
    {
     "name": "stdout",
     "output_type": "stream",
     "text": [
      "SU2-spins allowed by the EPRL-condition = [2.0, 4.0, 6.0, 8.0]\n"
     ]
    }
   ],
   "source": [
    "N = 16\n",
    "println(\"SU2-spins allowed by the EPRL-condition = \", filter(x -> EPRL_cond(x, 0.5) == 1, [0.5*(i - 1) + 0.5 for i in 1:N]))"
   ]
  },
  {
   "cell_type": "markdown",
   "metadata": {},
   "source": [
    "These are the SU2-spins that are allowed by the EPRL-condition. The Spin4-spins j+ and j- are then determined by the j. For gamma = 0.5, these are given by"
   ]
  },
  {
   "cell_type": "code",
   "execution_count": 12,
   "metadata": {},
   "outputs": [
    {
     "name": "stdout",
     "output_type": "stream",
     "text": [
      "j+ in [1.5, 3.0, 4.5, 6.0]. j- in [0.5, 1.0, 1.5, 2.0].\n"
     ]
    }
   ],
   "source": [
    "jmin = 0.5function Expval_P1_alt(alpha::Float64, G::Float64, γ::Float64, Lambda::Float64, return_prob1, j_min::Float64, j_max::Float64)\n",
    "\n",
    "len_tau_range = length(return_prob1[1,:])\n",
    "rp1 = Array(return_prob1)\n",
    "\n",
    "res = zeros(Float64, len_tau_range)\n",
    "mul!(res, transpose(rp1), Ampl_vector(alpha, G, γ, Lambda, j_min, j_max)) \n",
    "\n",
    "res *= 1/(Z1(alpha, G, γ, Lambda, j_min, j_max))\n",
    "\n",
    "return res\n",
    "grows\n",
    "end\n",
    "spins = [0.5*(i-1) + jmin for i in 1:N]\n",
    "println(\"j+ in \", [3/4*i for i in spins if EPRL_cond(i, 0.5) == 1], \". \", \"j- in \", [1/4*i for i in spins if EPRL_cond(i, 0.5) == 1], \".\")"
   ]
  },
  {
   "cell_type": "markdown",
   "metadata": {},
   "source": [
    "Going up to SU2-spin j = 8, all of the required intertwiners for the Amplitude A- are there. For the amplitude A+, there are interwiners missing, namely all those for spin 4.5 or higher. These we need to generate after the Cluster is back to life. Until then, I want to write an algorithm that can take vertex data and return the quantum vertex amplitude as a vector, ready for being contracted with the return probability."
   ]
  },
  {
   "cell_type": "code",
   "execution_count": null,
   "metadata": {},
   "outputs": [],
   "source": [
    "N = 8\n",
    "SU2_spins = [0.5*(i - 1) + 0.5 for i in 1:N]\n",
    "SU2_Vamp = zeros(ComplexF64, N, N)\n",
    "for j in 1:3\n",
    "    for k in 1:8\n",
    "        SU2_Vamp[j,k] = load(\"Cluster Files/QVertex_amp/A$j$j$k.jld\", \"A$j$j$k\")\n",
    "    end\n",
    "end\n",
    "save(\"Cluster Files/QVertex_amp/SU2_Vamp.jld\", \"SU2_Vamp\", SU2_Vamp)"
   ]
  },
  {
   "cell_type": "markdown",
   "metadata": {},
   "source": [
    "Read the CSV dataframe, turn it into array and insert the new components"
   ]
  },
  {
   "cell_type": "code",
   "execution_count": null,
   "metadata": {},
   "outputs": [],
   "source": [
    "CSV.read(\"Cluster Files/Q_amps/SU2_Vamp_full.csv\", DataFrame, header=false)\n",
    "#Vamp = CSV.File(\"Cluster Files/Q_amps/SU2_Vamp_full.csv\", header=false) |> Tables.matrix\n",
    "Vamp[5,1:7] = [real.(load(\"Cluster Files/Q_amps/A55$i.jld\", \"A55$i\")) for i in 1:7]"
   ]
  },
  {
   "cell_type": "code",
   "execution_count": 58,
   "metadata": {},
   "outputs": [
    {
     "data": {
      "text/plain": [
       "\"Cluster Files/Q_amps/SU2_Vamp_full.csv\""
      ]
     },
     "metadata": {},
     "output_type": "display_data"
    }
   ],
   "source": [
    "CSV.write(\"Cluster Files/Q_amps/SU2_Vamp_full.csv\", DataFrame((Vamp), :auto), header = false)"
   ]
  },
  {
   "cell_type": "code",
   "execution_count": 54,
   "metadata": {},
   "outputs": [],
   "source": [
    "SU2_Eamp = zeros(Float64, N, N, 8) # The first two indices label the spin of the intertwiners and the third index indicates the intertwiner\n",
    "for j in 1:3real.(SU2_Vamp[1,:])\n",
    "        end\n",
    "    end\n",
    "end\n",
    "SU2_Eamp\n",
    "save(\"Cluster Files/Q_amps/SU2_Eamp.jld\", \"SU2_Eamp\", SU2_Eamp)"
   ]
  },
  {
   "cell_type": "code",
   "execution_count": null,
   "metadata": {},
   "outputs": [],
   "source": [
    "SU2_Vamp = load(\"Cluster Files/Q_amps/SU2_Vamp.jld\", \"SU2_Vamp\")"
   ]
  },
  {
   "cell_type": "code",
   "execution_count": 12,
   "metadata": {},
   "outputs": [
    {
     "data": {
      "text/plain": [
       "\"Cluster Files/Q_amps/SU2_Vamp.csv\""
      ]
     },
     "metadata": {},
     "output_type": "display_data"
    }
   ],
   "source": [
    "CSV.write(\"Cluster Files/Q_amps/SU2_Vamp.csv\", DataFrame(real.(SU2_Vamp), :auto), header = false)"
   ]
  },
  {
   "cell_type": "markdown",
   "metadata": {},
   "source": [
    "I need to generate the correct semi-classical vertex amplitude in order to make a comparison to the full one."
   ]
  },
  {
   "cell_type": "code",
   "execution_count": 17,
   "metadata": {},
   "outputs": [
    {
     "data": {
      "text/plain": [
       "\"Cluster Files/Q_amps/SU2_Vamp_semi_large.csv\""
      ]
     },
     "execution_count": 17,
     "metadata": {},
     "output_type": "execute_result"
    }
   ],
   "source": [
    "SU2_Vamp_semi = [real(VAmpSU2(0.5*j, 0.5*j, 0.5*k)) for j in  1:8, k in 1:8]\n",
    "CSV.write(\"Cluster Files/Q_amps/SU2_Eamp_semi1.csv\", DataFrame(SU2_Eamp_semi, :auto), header = false)\n",
    "SU2_Vamp_semi_large = [real(VAmpSU2(0.5*j, 0.5*j, 0.5*k)) for j in 1:10000, k in 1:10000]\n",
    "CSV.write(\"Cluster Files/Q_amps/SU2_Vamp_semi_large.csv\", DataFrame(SU2_Vamp_semi_large, :auto), header = false)"
   ]
  },
  {
   "cell_type": "markdown",
   "metadata": {},
   "source": [
    "Let's insert the remaining elements of the quantum vertex amplitude"
   ]
  },
  {
   "cell_type": "code",
   "execution_count": 10,
   "metadata": {},
   "outputs": [
    {
     "data": {
      "text/plain": [
       "\"Cluster Files/Q_amps/SU2_Vamp_full.csv\""
      ]
     },
     "execution_count": 10,
     "metadata": {},
     "output_type": "execute_result"
    }
   ],
   "source": [
    "SU2_Vamp = CSV.File(\"Cluster Files/Q_amps/SU2_Vamp_full.csv\", header=false) |> Tables.matrix\n",
    "SU2_Vamp[6,1:7] = [Float64.(real.(load(\"Cluster Files/Q_amps/A66$i.jld\", \"A66$i\"))) for i in 1:7]\n",
    "SU2_Vamp[7,1:6] = [Float64.(real.(load(\"Cluster Files/Q_amps/A77$i.jld\", \"A77$i\"))) for i in 1:6]\n",
    "CSV.write(\"Cluster Files/Q_amps/SU2_Vamp_full.csv\", DataFrame(SU2_Vamp, :auto), header = false)"
   ]
  },
  {
   "cell_type": "markdown",
   "metadata": {},
   "source": [
    "Import the extrapolated quantum amplitude"
   ]
  },
  {
   "cell_type": "code",
   "execution_count": null,
   "metadata": {},
   "outputs": [],
   "source": [
    "SU2_Vamp_extra = CSV.File(\"Cluster Files/Q_amps/SU2_Vamp_extra.csv\", header=false) |> Tables.matrix"
   ]
  },
  {
   "cell_type": "code",
   "execution_count": null,
   "metadata": {},
   "outputs": [],
   "source": [
    "using Plots\n",
    "SU2_semi = [real(VAmpSU2(0.5*j, 0.5*j, 4.0*j)) for j in 1:1000]\n",
    "SU2_Vamp_diag = [SU2_Vamp_extra[j,8j] for j in 1:1000]\n",
    "rel_err = [(SU2_semi[i] - SU2_Vamp_diag[i])/SU2_Vamp_diag[i] for i in 1:1000]"
   ]
  },
  {
   "cell_type": "code",
   "execution_count": 38,
   "metadata": {},
   "outputs": [
    {
     "data": {
      "text/plain": [
       "\"/home/ri47hud/codes/Frusta quantum amplitude/relerr_semi_vs_extra.png\""
      ]
     },
     "execution_count": 38,
     "metadata": {},
     "output_type": "execute_result"
    }
   ],
   "source": [
    "fig = plot(rel_err, label=\"rel. error\", xlabel=\"j\", ylabel=\"\\\\epsilon\", fmt=:png)\n",
    "savefig(fig, \"relerr_semi_vs_extra\")"
   ]
  },
  {
   "cell_type": "markdown",
   "metadata": {},
   "source": [
    "Let's now come to the edge amplitude. First, we generate a matrix of semi-classical edge amplitudes."
   ]
  },
  {
   "cell_type": "code",
   "execution_count": 5,
   "metadata": {},
   "outputs": [
    {
     "data": {
      "text/plain": [
       "\"Cluster Files/Q_amps/SU2_Eamp_semi.csv\""
      ]
     },
     "execution_count": 5,
     "metadata": {},
     "output_type": "execute_result"
    }
   ],
   "source": [
    "CSV.write(\"Cluster Files/Q_amps/SU2_Eamp_semi.csv\", DataFrame([EAmpSU2(0.5*j, 0.5*j, 0.5*k) for j in 1:10000, k in 1:10000], :auto), header = false)"
   ]
  },
  {
   "cell_type": "code",
   "execution_count": 5,
   "metadata": {},
   "outputs": [
    {
     "data": {
      "text/plain": [
       "\"Cluster Files/Q_amps/SU2_Eamp_frustum.csv\""
      ]
     },
     "execution_count": 5,
     "metadata": {},
     "output_type": "execute_result"
    }
   ],
   "source": [
    "SU2_Eamp_frustum = zeros(8,8)\n",
    "for j in 1:8\n",
    "    for k in 1:8\n",
    "        name = \"Cluster Files/Intertwiners/Int2j\" * string(\"[\",j,\", \",j,\", \",k,\"]\") * \".txt\"\n",
    "        int2 = ContractionMod.fromTxt2(name,[j,j,k].+1)\n",
    "        SU2_Eamp_frustum[j,k] = 1/(sum(abs.(int2).^2))\n",
    "    end\n",
    "end\n",
    "\n",
    "CSV.write(\"Cluster Files/Q_amps/SU2_Eamp_frustum.csv\", DataFrame(SU2_Eamp_frustum, :auto), header = false)"
   ]
  },
  {
   "cell_type": "code",
   "execution_count": 7,
   "metadata": {},
   "outputs": [
    {
     "data": {
      "text/plain": [
       "\"Cluster Files/Q_amps/SU2_Eamp_semi.csv\""
      ]
     },
     "execution_count": 7,
     "metadata": {},
     "output_type": "execute_result"
    }
   ],
   "source": [
    "SU2_Eamp_semi = [EAmpSU2(0.5*j, 0.5*j, 0.5*k) for j in 1:10000, k in 1:10000]\n",
    "CSV.write(\"Cluster Files/Q_amps/SU2_Eamp_semi.csv\", DataFrame(SU2_Eamp_semi, :auto), header = false)"
   ]
  },
  {
   "cell_type": "markdown",
   "metadata": {},
   "source": [
    "Load the semi-classical and the extrapolated SU2-amplitudes"
   ]
  },
  {
   "cell_type": "code",
   "execution_count": 3,
   "metadata": {},
   "outputs": [
    {
     "data": {
      "text/plain": [
       "10000×10000 Matrix{Float64}:\n",
       "     5.01326     10.6347     17.3664  …  2.50613e6  2.5065e6   2.50688e6\n",
       "     7.51988     14.1796     21.708      2.50638e6  2.50675e6  2.50713e6\n",
       "    10.0265      17.7245     26.0496     2.50663e6  2.507e6    2.50738e6\n",
       "    12.5331      21.2694     30.3913     2.50688e6  2.50725e6  2.50763e6\n",
       "    15.0398      24.8144     34.7329     2.50713e6  2.50751e6  2.50788e6\n",
       "    17.5464      28.3593     39.0745  …  2.50738e6  2.50776e6  2.50813e6\n",
       "    20.053       31.9042     43.4161     2.50763e6  2.50801e6  2.50838e6\n",
       "    22.5597      35.4491     47.7577     2.50788e6  2.50826e6  2.50863e6\n",
       "    25.0663      38.994      52.0993     2.50813e6  2.50851e6  2.50888e6\n",
       "    27.5729      42.5389     56.4409     2.50838e6  2.50876e6  2.50913e6\n",
       "     ⋮                                ⋱                        \n",
       " 25048.7      35427.8     43394.4        5.01025e6  5.01075e6  5.01125e6\n",
       " 25051.2      35431.4     43398.7        5.0105e6   5.011e6    5.0115e6\n",
       " 25053.7      35434.9     43403.1        5.01075e6  5.01125e6  5.01175e6\n",
       " 25056.3      35438.4     43407.4        5.011e6    5.0115e6   5.012e6\n",
       " 25058.8      35442.0     43411.7     …  5.01125e6  5.01175e6  5.01225e6\n",
       " 25061.3      35445.5     43416.1        5.0115e6   5.012e6    5.0125e6\n",
       " 25063.8      35449.1     43420.4        5.01175e6  5.01225e6  5.01276e6\n",
       " 25066.3      35452.6     43424.8        5.012e6    5.0125e6   5.01301e6\n",
       " 25068.8      35456.2     43429.1        5.01225e6  5.01276e6  5.01326e6"
      ]
     },
     "metadata": {},
     "output_type": "display_data"
    }
   ],
   "source": [
    "SU2_Vamp_full   = CSV.File(\"/ssd/ri47hud/codes/Frusta quantum amplitude/Cluster Files/SU2_Vamp_full.csv\", header=false) |> Tables.matrix\n",
    "SU2_Vamp_extra  = CSV.File(\"/ssd/ri47hud/codes/Frusta quantum amplitude/Cluster Files/SU2_Vamp_extra.csv\", header=false) |> Tables.matrix\n",
    "SU2_Vamp_semi   = CSV.File(\"/ssd/ri47hud/codes/Frusta quantum amplitude/Cluster Files/SU2_Vamp_semi.csv\", header=false) |> Tables.matrix\n",
    "SU2_Eamp_full   = CSV.File(\"/ssd/ri47hud/codes/Frusta quantum amplitude/Cluster Files/SU2_Eamp_full.csv\", header=false) |> Tables.matrix\n",
    "SU2_Eamp_extra  = CSV.File(\"/ssd/ri47hud/codes/Frusta quantum amplitude/Cluster Files/SU2_Eamp_extra.csv\", header=false) |> Tables.matrix\n",
    "SU2_Eamp_semi   = CSV.File(\"/ssd/ri47hud/codes/Frusta quantum amplitude/Cluster Files/SU2_Eamp_semi.csv\", header=false) |> Tables.matrix\n",
    "#SU2_Vamp_full = Nothing\n",
    "#SU2_Vamp_extra = Nothing\n",
    "#SU2_Vamp_semi = Nothing\n",
    "#U2_Eamp_full = Nothing\n",
    "#SU2_Eamp_extra = Nothing\n",
    "#SU2_Eamp_semi = Nothing\n",
    "#GC.gc()"
   ]
  },
  {
   "cell_type": "code",
   "execution_count": 80,
   "metadata": {},
   "outputs": [
    {
     "data": {
      "text/plain": [
       "6-element Vector{Float64}:\n",
       " 6.316181269393273e-6\n",
       " 1.4181788919893659e-8\n",
       " 2.8199371662135267e-10\n",
       " 1.6269492771127778e-11\n",
       " 1.7364989401666487e-12\n",
       " 2.7609762717467353e-13"
      ]
     },
     "metadata": {},
     "output_type": "display_data"
    }
   ],
   "source": [
    "diag(SU2_Vamp_full)[1:6]"
   ]
  },
  {
   "cell_type": "markdown",
   "metadata": {},
   "source": [
    "Plot the relative error of the SU2-vertex amplitude"
   ]
  },
  {
   "cell_type": "code",
   "execution_count": 23,
   "metadata": {},
   "outputs": [
    {
     "data": {
      "text/plain": [
       "\"/ssd/ri47hud/codes/Frusta quantum amplitude/figures/SU2Vamp_sc_vs_qu.png\""
      ]
     },
     "metadata": {},
     "output_type": "display_data"
    }
   ],
   "source": [
    "spins = [0.5*i for i in 1:10000]\n",
    "SU2_Vamp_relerr_1 = [abs(SU2_Vamp_semi[i,i] - SU2_Vamp_extra[i,i])/SU2_Vamp_semi[i,i] for i in 1:10000]\n",
    "nz = findall(x -> x!= 0, SU2_Vamp_relerr_1)\n",
    "spins_nz = [spins[i] for i in nz]\n",
    "SU2_Vamp_relerr_1_nz = [SU2_Vamp_relerr_1[i] for i in nz]\n",
    "#SU2_Vamp_relerr_2 = [abs(SU2_Vamp_semi[2i,i] - SU2_Vamp_extra[2i,i])/SU2_Vamp_extra[2i,i] for i in 1:5000]\n",
    "#SU2_Vamp_relerr_3 = [abs(SU2_Vamp_semi[4i,i] - SU2_Vamp_extra[4i,i])/SU2_Vamp_extra[4i,i] for i in 1:2500]\n",
    "#SU2_Vamp_relerr_4 = [abs(SU2_Vamp_semi[i,2i] - SU2_Vamp_extra[i,2i])/SU2_Vamp_extra[i,2i] for i in 1:5000]\n",
    "#SU2_Vamp_relerr_5 = [abs(SU2_Vamp_semi[i,4i] - SU2_Vamp_extra[i,4i])/SU2_Vamp_extra[i,4i] for i in 1:2500]\n",
    "fig_SU2Vamp_relerr = scatter(spins_nz, SU2_Vamp_relerr_1_nz, xaxis=:log, yaxis=:log, xlabel=L\"$\\lambda$\", ylabel=L\"$\\varepsilon_v$\", fmt=:png, legend=false, markersize=:3.0, xticks=[10.0^(i) for i in -2:0.5:2], yticks=[10.0^(i) for i in -20:2:0])\n",
    "hline!([0.01], lc=:black, xtickfontsize=12, ytickfontsize=12, labelfontsize=16, legendfontsize=10)\n",
    "fig_SU2Vamp_sc_vs_qu = plot(spins, [diag(SU2_Vamp_extra), diag(SU2_Vamp_semi)], label=[\"extrapolated\" \"semi-classical\"], xaxis=:log, yaxis=:log, xlabel=L\"$\\lambda$\", ylabel=L\"$\\mathcal{A}_v$\", xticks=[10.0^(i) for i in -2:5], \n",
    "yticks=[10.0^(i) for i in -50:5:0], fmt=:png)\n",
    "scatter!(spins[1:6], diag(SU2_Vamp_full)[1:6], markersize=:3.0, markerstrokewidth=:0.5, label=\"quantum\", xtickfontsize=12, ytickfontsize=12, labelfontsize=16, legendfontsize=10)\n",
    "savefig(fig_SU2Vamp_relerr, \"/ssd/ri47hud/codes/Frusta quantum amplitude/figures/SU2Vamp_relerr\")\n",
    "savefig(fig_SU2Vamp_sc_vs_qu, \"/ssd/ri47hud/codes/Frusta quantum amplitude/figures/SU2Vamp_sc_vs_qu\")"
   ]
  },
  {
   "cell_type": "markdown",
   "metadata": {},
   "source": [
    "Plot the effective scaling of the SU2-vertex amplitude"
   ]
  },
  {
   "cell_type": "code",
   "execution_count": null,
   "metadata": {},
   "outputs": [],
   "source": [
    "logder_semi = [(log(SU2_Vamp_semi[i+1,4*(i+1)]) - log(SU2_Vamp_semi[i,4i]))/(log(i+1) - log(i)) for i in 1:2499]\n",
    "logder_extra = [(log(SU2_Vamp_extra[i+1,4*(i+1)]) - log(SU2_Vamp_extra[i,4i]))/(log(i+1) - log(i)) for i in 1:2499]\n",
    "fig_SU2Vamp_scaling = plot([logder_semi, logder_extra], label=[\"semi-classical\" \"quantum\"], xaxis=:log, legend=:topright, ylabel=\"\\\\ dlog A_v/dlog j\", xlabel=\"lambda\", fmt=:png)\n",
    "#savefig(fig_SU2Vamp_scaling, \"/home/ri47hud/codes/Frusta quantum amplitude/figures/SU2_Vamp_scaling\")"
   ]
  },
  {
   "cell_type": "markdown",
   "metadata": {},
   "source": [
    "Plot relative error of extrapolated and semi-classical amplitude w.r.t.  exact quantum amplitude."
   ]
  },
  {
   "cell_type": "code",
   "execution_count": 29,
   "metadata": {},
   "outputs": [
    {
     "data": {
      "text/plain": [
       "\"/ssd/ri47hud/codes/Frusta quantum amplitude/figures/SU2_Vamp_relerr_exact.png\""
      ]
     },
     "metadata": {},
     "output_type": "display_data"
    }
   ],
   "source": [
    "SU2_Vamp_relerr_exact_1 = [abs(SU2_Vamp_full[i,i] - SU2_Vamp_extra[i,i])/SU2_Vamp_full[i,i] for i in 1:6]\n",
    "SU2_Vamp_relerr_exact_2 = [abs(SU2_Vamp_full[i,i] - VAmpSU2(0.5*i, 0.5*i, 0.5*i))/SU2_Vamp_full[i,i] for i in 1:6]\n",
    "fig_SU2_Vamp_relerr_exact = scatter(0.5:0.5:3, [SU2_Vamp_relerr_exact_1, SU2_Vamp_relerr_exact_2], yaxis=:log, xlabel=L\"$\\lambda$\", ylabel=L\"$\\varepsilon$\", label=[\"extrapolated\" \"semi-classical\"], yticks=[10.0^(i) for i in -6:1], fmt=:png,\n",
    "xtickfontsize=12, ytickfontsize=12, labelfontsize=16, legendfontsize=10, legend=:bottomleft)\n",
    "savefig(fig_SU2_Vamp_relerr_exact, \"/ssd/ri47hud/codes/Frusta quantum amplitude/figures/SU2_Vamp_relerr_exact\")"
   ]
  },
  {
   "cell_type": "markdown",
   "metadata": {},
   "source": [
    "Plot the relative error of the SU2-edge amplitude"
   ]
  },
  {
   "cell_type": "code",
   "execution_count": 33,
   "metadata": {},
   "outputs": [
    {
     "data": {
      "text/plain": [
       "\"/ssd/ri47hud/codes/Frusta quantum amplitude/figures/SU2Eamp_relerr.png\""
      ]
     },
     "metadata": {},
     "output_type": "display_data"
    }
   ],
   "source": [
    "spins = [0.5*i for i in 1:10000]\n",
    "SU2_Eamp_relerr_1 = [abs(SU2_Eamp_semi[i,i] - SU2_Eamp_extra[i,i])/SU2_Eamp_extra[i,i] for i in 1:10000]\n",
    "nz = findall(x -> x!=0, SU2_Eamp_relerr_1)\n",
    "spins_nz = [spins[i] for i in nz]\n",
    "SU2_Eamp_relerr_1_nz = [SU2_Eamp_relerr_1[i] for i in nz]\n",
    "#SU2_Eamp_relerr_2 = [abs(SU2_Eamp_semi[2i,i] - SU2_Eamp_extra[2i,i])/SU2_Eamp_extra[2i,i] for i in 1:5000]\n",
    "#SU2_Eamp_relerr_3 = [abs(SU2_Eamp_semi[4i,i] - SU2_Eamp_extra[4i,i])/SU2_Eamp_extra[4i,i] for i in 1:2500]\n",
    "#SU2_Eamp_relerr_4 = [abs(SU2_Eamp_semi[i,2i] - SU2_Eamp_extra[i,2i])/SU2_Eamp_extra[i,2i] for i in 1:5000]\n",
    "#SU2_Eamp_relerr_5 = [abs(SU2_Eamp_semi[i,4i] - SU2_Eamp_extra[i,4i])/SU2_Eamp_extra[i,4i] for i in 1:2500]\n",
    "fig_SU2Eamp_relerr = scatter(spins_nz, SU2_Eamp_relerr_1_nz, xaxis=:log, yaxis=:log, xlabel=L\"$\\lambda$\", ylabel=L\"$\\varepsilon_e$\", xticks=[10.0^i for i in -1:0.5:3], yticks=[10.0^i for i in -16:2:2], legend=false, markersize=:3.0, fmt=:png)\n",
    "hline!([0.01], lc=:black, xtickfontsize=12, ytickfontsize=12, labelfontsize=16, legendfontsize=10)\n",
    "#fig_SU2Eamp_sc_vs_qu = plot(spins[1:509],[diag(SU2_Eamp_extra)[1:509], diag(SU2_Eamp_semi)[1:509]], fmt=:png, label=[\"extrapolated\" \"semi-classical\"], xaxis=:log, yaxis=:log, xlabel=L\"$\\lambda$\", ylabel=L\"$\\mathcal{A}_e$\", \n",
    "#xticks=[10.0^i for i in -1:0.5:3], yticks=[10.0^i for i in 0:0.5:5])\n",
    "#scatter!(spins[1:8], diag(SU2_Eamp_full)[1:8], markersize=:3.0, markerstrokewidth=:0.5, label=\"quantum\", xtickfontsize=12, ytickfontsize=12, labelfontsize=16, legendfontsize=10)\n",
    "#fig_SU2Eamp_relerr_2 = plot([SU2_Eamp_relerr_1, SU2_Eamp_relerr_4, SU2_Eamp_relerr_5], fmt=:png, label=[\"j = k\" \"j = 2k\" \"j = 4k\"], xaxis=:log, yaxis=:log, xlabel=\"2j\", ylabel=\"\\\\epsilon\")\n",
    "savefig(fig_SU2Eamp_relerr, \"/ssd/ri47hud/codes/Frusta quantum amplitude/figures/SU2Eamp_relerr\")\n",
    "#savefig(fig_SU2Eamp_sc_vs_qu, \"/ssd/ri47hud/codes/Frusta quantum amplitude/figures/SU2Eamp_sc_vs_qu\")"
   ]
  },
  {
   "cell_type": "markdown",
   "metadata": {},
   "source": [
    "Plot the effective scaling of the SU2-edge amplitude"
   ]
  },
  {
   "cell_type": "code",
   "execution_count": null,
   "metadata": {},
   "outputs": [],
   "source": [
    "Eamp_logder_semi = [(log(SU2_Eamp_semi[i+1,i+1]) - log(SU2_Eamp_semi[i,i]))/(log(i+1) - log(i)) for i in 1:9999]\n",
    "Eamp_logder_extra = [(log(SU2_Eamp_extra[i+1,i+1]) - log(SU2_Eamp_extra[i,i]))/(log(i+1) - log(i)) for i in 1:9999]\n",
    "fig_SU2Eamp_scaling = plot([Eamp_logder_semi, Eamp_logder_extra], label=[\"semi-classical\" \"quantum\"], xaxis=:log, legend=:topright, ylabel=\"\\\\beta_e\", xlabel=\"2j\", fmt=:png)\n",
    "#savefig(fig_SU2Eamp_scaling, \"/home/ri47hud/codes/Frusta quantum amplitude/figures/SU2_Eamp_scaling\")"
   ]
  },
  {
   "cell_type": "markdown",
   "metadata": {},
   "source": [
    "Plot the comparison of full, extrapolated and semi-classical edge amplitude"
   ]
  },
  {
   "cell_type": "code",
   "execution_count": 35,
   "metadata": {},
   "outputs": [
    {
     "data": {
      "text/plain": [
       "\"/ssd/ri47hud/codes/Frusta quantum amplitude/figures/SU2_Eamp_relerr_exact.png\""
      ]
     },
     "metadata": {},
     "output_type": "display_data"
    }
   ],
   "source": [
    "SU2_Eamp_relerr_exact_1 = [abs(SU2_Eamp_full[i,i] - SU2_Eamp_extra[i,i])/SU2_Eamp_full[i,i] for i in 1:8]\n",
    "SU2_Eamp_relerr_exact_2 = [abs(SU2_Eamp_full[i,i] - EAmpSU2(0.5*i, 0.5*i, 0.5*i))/SU2_Eamp_full[i,i] for i in 1:8]\n",
    "fig_SU2_Eamp_relerr_exact = scatter(0.5:0.5:4, [SU2_Eamp_relerr_exact_1, SU2_Eamp_relerr_exact_2], yaxis=:log, xlabel=L\"$\\lambda$\", ylabel=L\"$\\varepsilon$\", label=[\"extrapolated\" \"semi-classical\"], \n",
    "xticks=[0.5*i for i in 1:8], yticks=[10.0^i for i in -5:0.5:1], xtickfontsize=12, ytickfontsize=12, labelfontsize=16, legendfontsize=10)\n",
    "savefig(fig_SU2_Eamp_relerr_exact, \"/ssd/ri47hud/codes/Frusta quantum amplitude/figures/SU2_Eamp_relerr_exact\")"
   ]
  },
  {
   "cell_type": "markdown",
   "metadata": {},
   "source": [
    "Let's compute the dressed quantum vertex amplitude for alpha = [0.3, 0.5, 0.7, 0.9]"
   ]
  },
  {
   "cell_type": "code",
   "execution_count": null,
   "metadata": {},
   "outputs": [],
   "source": [
    "gamma = 1/3\n",
    "alphas = [0.3, 0.5, 0.7, 0.9]\n",
    "G = 1.0\n",
    "Lambda = 0.0\n",
    "dressed_Vamp_semi = [CSV.File(\"/ssd/ri47hud/codes/Frusta quantum amplitude/Cluster Files/dressed_Vamp_semi_$i.csv\", header=false) |> Tables.matrix for i in 1:4]\n",
    "dressed_Vamp_extra = [dressed_QVAmp(SU2_Eamp_extra, SU2_Vamp_extra, alpha, gamma) for alpha in alphas]\n",
    "dressed_Vamp_full = [dressed_QVAmp(SU2_Eamp_full[1:6,1:6], SU2_Vamp_full[1:6,1:6], alpha, gamma) for alpha in alphas]"
   ]
  },
  {
   "cell_type": "markdown",
   "metadata": {},
   "source": [
    "Compute dressed vertex amplitude for alpha = [0.0, 0.5, 0.75, 1.0]"
   ]
  },
  {
   "cell_type": "code",
   "execution_count": 4,
   "metadata": {},
   "outputs": [
    {
     "data": {
      "text/plain": [
       "5-element Vector{Matrix{Float64}}:\n",
       " [0.0 0.0 … 0.0 0.0; 0.0 0.0 … 0.0 0.0; … ; 0.0 0.0 … 0.0 0.0; 0.0 0.0 … 0.0 3.443481780420289e-38]\n",
       " [0.0 0.0 … 0.0 0.0; 0.0 0.0 … 0.0 0.0; … ; 0.0 0.0 … 0.0 0.0; 0.0 0.0 … 0.0 1.2180025911264261e-26]\n",
       " [0.0 0.0 … 0.0 0.0; 0.0 0.0 … 0.0 0.0; … ; 0.0 0.0 … 0.0 0.0; 0.0 0.0 … 0.0 4.308227563235771e-15]\n",
       " [0.0 0.0 … 0.0 0.0; 0.0 0.0 … 0.0 0.0; … ; 0.0 0.0 … 0.0 0.0; 0.0 0.0 … 0.0 0.0015238739943450464]\n",
       " [0.0 0.0 … 0.0 0.0; 0.0 0.0 … 0.0 0.0; … ; 0.0 0.0 … 0.0 0.0; 0.0 0.0 … 0.0 5.390132987536533e8]"
      ]
     },
     "metadata": {},
     "output_type": "display_data"
    }
   ],
   "source": [
    "gamma = 1/3\n",
    "alphas = [0.0, 0.25, 0.5, 0.75, 1.0]\n",
    "G = 1.0\n",
    "Lambda = 0.0\n",
    "#dressed_Vamp_full = [dressed_QVAmp(SU2_Eamp_full[1:6,1:6], SU2_Vamp_full[1:6,1:6], alpha, gamma) for alpha in alphas]\n",
    "dressed_Vamp_extra = [dressed_QVAmp(SU2_Eamp_extra, SU2_Vamp_extra, alpha, gamma) for alpha in alphas]\n",
    "#dressed_Vamp_semi = load(\"/ssd/ri47hud/codes/Frusta quantum amplitude/Cluster Files/dressed_Vamp_semi.jld\", \"dressed_Vamp_semi\")"
   ]
  },
  {
   "cell_type": "code",
   "execution_count": 110,
   "metadata": {},
   "outputs": [],
   "source": [
    "dressed_Vamp_semi = [Ampl_resc_tensor(alpha, G, gamma, Lambda, 7500.0) for alpha in alphas]\n",
    "save(\"/ssd/ri47hud/codes/Frusta quantum amplitude/Cluster Files/dressed_Vamp_semi.jld\", \"dressed_Vamp_semi\", dressed_Vamp_semi)"
   ]
  },
  {
   "cell_type": "markdown",
   "metadata": {},
   "source": [
    "Plot the relative error of semi-classical and quantum dressed vertex amplitude, represented by alpha = 0.3, 0.5, 0.7, 0.9"
   ]
  },
  {
   "cell_type": "code",
   "execution_count": 40,
   "metadata": {},
   "outputs": [
    {
     "data": {
      "text/plain": [
       "\"/ssd/ri47hud/codes/Frusta quantum amplitude/figures/dVamp_relerr.png\""
      ]
     },
     "metadata": {},
     "output_type": "display_data"
    }
   ],
   "source": [
    "spins = [0.5*i for i in 1:15000 if EPRL_cond(0.5*i, rationalize(gamma)) == 1]\n",
    "dVamp_relerr = [[abs(dressed_Vamp_semi[a][Int(2*spin),Int(2*spin)] - dressed_Vamp_extra[a][Int(2*spin),Int(2*spin)])/dressed_Vamp_semi[a][Int(2*spin),Int(2*spin)] for spin in spins] for a in 1:4]\n",
    "fig_dVamp_relerr = plot(spins, [dVamp_relerr[a] for a in 2:4], xaxis=:log, yaxis=:log, label=[L\"$\\alpha = 0.5$\" L\"$\\alpha = 0.75$\" L\"$\\alpha = 1.0$\"], fmt=:png, xlabel=L\"$\\lambda$\", ylabel=L\"$\\varepsilon$\", \n",
    "xticks=[10.0^i for i in 0:4], yticks=[10.0^i for i in -3:2])\n",
    "hline!([0.01], lc=:black, label=false, xtickfontsize=12, ytickfontsize=12, labelfontsize=16, legendfontsize=10)\n",
    "savefig(fig_dVamp_relerr,\"/ssd/ri47hud/codes/Frusta quantum amplitude/figures/dVamp_relerr\")"
   ]
  },
  {
   "cell_type": "markdown",
   "metadata": {},
   "source": [
    "Plot a comparison of the extrapolated and semi-classical dressed vertex amplitude "
   ]
  },
  {
   "cell_type": "code",
   "execution_count": 41,
   "metadata": {},
   "outputs": [
    {
     "data": {
      "text/plain": [
       "\"/ssd/ri47hud/codes/Frusta quantum amplitude/figures/dVamp_a10.png\""
      ]
     },
     "metadata": {},
     "output_type": "display_data"
    }
   ],
   "source": [
    "fig_dVamp_sc_vs_qu_a00 = plot(spins, [[dressed_Vamp_extra[1][Int(2*spin),Int(2*spin)] for spin in spins], [dressed_Vamp_semi[1][Int(2*spin),Int(2*spin)] for spin in spins]], \n",
    "xaxis=:log, yaxis=:log, label=[\"extrapolated\" \"semi-classical\"], xlabel=L\"$\\lambda$\", ylabel=L\"$\\mathcal{A}_v$\", yticks=[10.0^i for i in -45:5:0])\n",
    "scatter!(spins[1:3],[dressed_Vamp_full[1][Int(2*spin),Int(2*spin)] for spin in spins[1:3]], markersize=3.0, markerstrokewidth=0.5, label=\"quantum\", xtickfontsize=12, ytickfontsize=12, labelfontsize=16, legendfontsize=10)\n",
    "fig_dVamp_sc_vs_qu_a05 = plot(spins, [[dressed_Vamp_extra[2][Int(2*spin),Int(2*spin)] for spin in spins], [dressed_Vamp_semi[2][Int(2*spin),Int(2*spin)] for spin in spins]], \n",
    "xaxis=:log, yaxis=:log, label=[\"extrapolated\" \"semi-classical\"], xlabel=L\"$\\lambda$\", ylabel=L\"$\\mathcal{A}_v$\", yticks=[10.0^i for i in -14:2:0])\n",
    "scatter!(spins[1:3],[dressed_Vamp_full[2][Int(2*spin),Int(2*spin)] for spin in spins[1:3]], markersize=3.0, markerstrokewidth=0.5, label=\"quantum\", xtickfontsize=12, ytickfontsize=12, labelfontsize=16, legendfontsize=10)\n",
    "fig_dVamp_sc_vs_qu_a075 = plot(spins, [[dressed_Vamp_extra[3][Int(2*spin),Int(2*spin)] for spin in spins], [dressed_Vamp_semi[3][Int(2*spin),Int(2*spin)] for spin in spins]], \n",
    "xaxis=:log, yaxis=:log, label=[\"extrapolated\" \"semi-classical\"], xlabel=L\"$\\lambda$\", ylabel=L\"$\\mathcal{A}_v$\", yticks=[10.0^i for i in -4:0.25:0])\n",
    "scatter!(spins[1:3],[dressed_Vamp_full[3][Int(2*spin),Int(2*spin)] for spin in spins[1:3]], markersize=3.0, markerstrokewidth=0.5, label=\"quantum\", xtickfontsize=12, ytickfontsize=12, labelfontsize=16, legendfontsize=10)\n",
    "fig_dVamp_sc_vs_qu_a10 = plot(spins, [[dressed_Vamp_extra[4][Int(2*spin),Int(2*spin)] for spin in spins], [dressed_Vamp_semi[4][Int(2*spin),Int(2*spin)] for spin in spins]], \n",
    "xaxis=:log, yaxis=:log, label=[\"extrapolated\" \"semi-classical\"], xlabel=L\"$\\lambda$\", ylabel=L\"$\\mathcal{A}_v$\", legend=:bottomright, yticks=[10.0^i for i in -4:2:10])\n",
    "scatter!(spins[1:3],[dressed_Vamp_full[4][Int(2*spin),Int(2*spin)] for spin in spins[1:3]], markersize=3.0, markerstrokewidth=0.5, label=\"quantum\", xtickfontsize=12, ytickfontsize=12, labelfontsize=16, legendfontsize=10)\n",
    "savefig(fig_dVamp_sc_vs_qu_a00, \"/ssd/ri47hud/codes/Frusta quantum amplitude/figures/dVamp_a00\")\n",
    "savefig(fig_dVamp_sc_vs_qu_a05, \"/ssd/ri47hud/codes/Frusta quantum amplitude/figures/dVamp_a05\")\n",
    "savefig(fig_dVamp_sc_vs_qu_a075, \"/ssd/ri47hud/codes/Frusta quantum amplitude/figures/dVamp_a075\")\n",
    "savefig(fig_dVamp_sc_vs_qu_a10, \"/ssd/ri47hud/codes/Frusta quantum amplitude/figures/dVamp_a10\")"
   ]
  },
  {
   "cell_type": "markdown",
   "metadata": {},
   "source": [
    "Plot the scaling of the extrapolated dressed vertex amplitude"
   ]
  },
  {
   "cell_type": "code",
   "execution_count": 7,
   "metadata": {},
   "outputs": [
    {
     "data": {
      "text/plain": [
       "\"/ssd/ri47hud/codes/Frusta quantum amplitude/figures/dVamp_scaling.png\""
      ]
     },
     "metadata": {},
     "output_type": "display_data"
    }
   ],
   "source": [
    "#ns = [i for i in 1:15000 if EPRL_cond(0.5*i, rationalize(gamma)) == 1]\n",
    "#spins = [0.5*i for i in ns]\n",
    "#logder_extra = [-(log(diag(dressed_Vamp_extra[a])[ns[i+1]]) - log(diag(dressed_Vamp_extra[a])[ns[i]]))/(log(ns[i+1]) - log(ns[i])) for a in 1:5, i in 1:(length(ns) - 1)]\n",
    "p = plot(spins[1:4999], [logder_extra[a,:] for a in 1:5], xaxis=:log,  label=[L\"$\\alpha = 0$\" L\"$\\alpha = 0.25$\" L\"$\\alpha = 0.5$\" L\"$\\alpha = 0.75$\" L\"$\\alpha = 1.0$\"], fmt=:png, xlabel=L\"$\\lambda$\", ylabel=L\"$\\gamma$\", legend=:outerright)\n",
    "hline!([-3.0, 0.0, 3.0, 6.0, 9.0], lc=:black, label=false, xtickfontsize=12, ytickfontsize=12, labelfontsize=16, legendfontsize=12)\n",
    "savefig(p, \"/ssd/ri47hud/codes/Frusta quantum amplitude/figures/dVamp_scaling\")"
   ]
  },
  {
   "cell_type": "markdown",
   "metadata": {},
   "source": [
    "Plot a comparison of quantum, extrapolated and semi-classical dressed vertex amplitude and the two relative errors"
   ]
  },
  {
   "cell_type": "code",
   "execution_count": 259,
   "metadata": {},
   "outputs": [
    {
     "data": {
      "image/png": "[encoded data removed]",
      "image/svg+xml": "<?xml version=\"1.0\" encoding=\"utf-8\"?>\n<svg xmlns=\"http://www.w3.org/2000/svg\" xmlns:xlink=\"http://www.w3.org/1999/xlink\" width=\"600\" height=\"400\" viewBox=\"0 0 2400 1600\">\n<defs>\n  <clipPath id=\"clip860\">\n    <rect x=\"0\" y=\"0\" width=\"2400\" height=\"1600\"/>\n  </clipPath>\n</defs>\n<path clip-path=\"url(#clip860)\" d=\"M0 1600 L2400 1600 L2400 0 L0 0  Z\" fill=\"#ffffff\" fill-rule=\"evenodd\" fill-opacity=\"1\"/>\n<defs>\n  <clipPath id=\"clip861\">\n    <rect x=\"480\" y=\"0\" width=\"1681\" height=\"1600\"/>\n  </clipPath>\n</defs>\n<defs>\n  <clipPath id=\"clip862\">\n    <rect x=\"213\" y=\"47\" width=\"2140\" height=\"1440\"/>\n  </clipPath>\n</defs>\n<path clip-path=\"url(#clip860)\" d=\"M252.764 1423.18 L2352.76 1423.18 L2352.76 47.2441 L252.764 47.2441  Z\" fill=\"#ffffff\" fill-rule=\"evenodd\" fill-opacity=\"1\"/>\n<defs>\n  <clipPath id=\"clip863\">\n    <rect x=\"252\" y=\"47\" width=\"2101\" height=\"1377\"/>\n  </clipPath>\n</defs>\n<polyline clip-path=\"url(#clip863)\" style=\"stroke:#000000; stroke-linecap:round; stroke-linejoin:round; stroke-width:2; stroke-opacity:0.1; fill:none\" points=\"312.198,1423.18 312.198,47.2441 \"/>\n<polyline clip-path=\"url(#clip863)\" style=\"stroke:#000000; stroke-linecap:round; stroke-linejoin:round; stroke-width:2; stroke-opacity:0.1; fill:none\" points=\"642.385,1423.18 642.385,47.2441 \"/>\n<polyline clip-path=\"url(#clip863)\" style=\"stroke:#000000; stroke-linecap:round; stroke-linejoin:round; stroke-width:2; stroke-opacity:0.1; fill:none\" points=\"972.573,1423.18 972.573,47.2441 \"/>\n<polyline clip-path=\"url(#clip863)\" style=\"stroke:#000000; stroke-linecap:round; stroke-linejoin:round; stroke-width:2; stroke-opacity:0.1; fill:none\" points=\"1302.76,1423.18 1302.76,47.2441 \"/>\n<polyline clip-path=\"url(#clip863)\" style=\"stroke:#000000; stroke-linecap:round; stroke-linejoin:round; stroke-width:2; stroke-opacity:0.1; fill:none\" points=\"1632.95,1423.18 1632.95,47.2441 \"/>\n<polyline clip-path=\"url(#clip863)\" style=\"stroke:#000000; stroke-linecap:round; stroke-linejoin:round; stroke-width:2; stroke-opacity:0.1; fill:none\" points=\"1963.13,1423.18 1963.13,47.2441 \"/>\n<polyline clip-path=\"url(#clip863)\" style=\"stroke:#000000; stroke-linecap:round; stroke-linejoin:round; stroke-width:2; stroke-opacity:0.1; fill:none\" points=\"2293.32,1423.18 2293.32,47.2441 \"/>\n<polyline clip-path=\"url(#clip860)\" style=\"stroke:#000000; stroke-linecap:round; stroke-linejoin:round; stroke-width:4; stroke-opacity:1; fill:none\" points=\"252.764,1423.18 2352.76,1423.18 \"/>\n<polyline clip-path=\"url(#clip860)\" style=\"stroke:#000000; stroke-linecap:round; stroke-linejoin:round; stroke-width:4; stroke-opacity:1; fill:none\" points=\"312.198,1423.18 312.198,1404.28 \"/>\n<polyline clip-path=\"url(#clip860)\" style=\"stroke:#000000; stroke-linecap:round; stroke-linejoin:round; stroke-width:4; stroke-opacity:1; fill:none\" points=\"642.385,1423.18 642.385,1404.28 \"/>\n<polyline clip-path=\"url(#clip860)\" style=\"stroke:#000000; stroke-linecap:round; stroke-linejoin:round; stroke-width:4; stroke-opacity:1; fill:none\" points=\"972.573,1423.18 972.573,1404.28 \"/>\n<polyline clip-path=\"url(#clip860)\" style=\"stroke:#000000; stroke-linecap:round; stroke-linejoin:round; stroke-width:4; stroke-opacity:1; fill:none\" points=\"1302.76,1423.18 1302.76,1404.28 \"/>\n<polyline clip-path=\"url(#clip860)\" style=\"stroke:#000000; stroke-linecap:round; stroke-linejoin:round; stroke-width:4; stroke-opacity:1; fill:none\" points=\"1632.95,1423.18 1632.95,1404.28 \"/>\n<polyline clip-path=\"url(#clip860)\" style=\"stroke:#000000; stroke-linecap:round; stroke-linejoin:round; stroke-width:4; stroke-opacity:1; fill:none\" points=\"1963.13,1423.18 1963.13,1404.28 \"/>\n<polyline clip-path=\"url(#clip860)\" style=\"stroke:#000000; stroke-linecap:round; stroke-linejoin:round; stroke-width:4; stroke-opacity:1; fill:none\" points=\"2293.32,1423.18 2293.32,1404.28 \"/>\n<path clip-path=\"url(#clip860)\" d=\"M279.848 1481.64 L287.487 1481.64 L287.487 1455.28 L279.177 1456.95 L279.177 1452.69 L287.441 1451.02 L292.117 1451.02 L292.117 1481.64 L299.756 1481.64 L299.756 1485.58 L279.848 1485.58 L279.848 1481.64 Z\" fill=\"#000000\" fill-rule=\"evenodd\" fill-opacity=\"1\" /><path clip-path=\"url(#clip860)\" d=\"M309.2 1479.7 L314.084 1479.7 L314.084 1485.58 L309.2 1485.58 L309.2 1479.7 Z\" fill=\"#000000\" fill-rule=\"evenodd\" fill-opacity=\"1\" /><path clip-path=\"url(#clip860)\" d=\"M324.316 1451.02 L342.672 1451.02 L342.672 1454.96 L328.598 1454.96 L328.598 1463.43 Q329.617 1463.08 330.635 1462.92 Q331.654 1462.73 332.672 1462.73 Q338.459 1462.73 341.839 1465.9 Q345.218 1469.08 345.218 1474.49 Q345.218 1480.07 341.746 1483.17 Q338.274 1486.25 331.955 1486.25 Q329.779 1486.25 327.51 1485.88 Q325.265 1485.51 322.857 1484.77 L322.857 1480.07 Q324.941 1481.2 327.163 1481.76 Q329.385 1482.32 331.862 1482.32 Q335.867 1482.32 338.204 1480.21 Q340.542 1478.1 340.542 1474.49 Q340.542 1470.88 338.204 1468.77 Q335.867 1466.67 331.862 1466.67 Q329.987 1466.67 328.112 1467.08 Q326.26 1467.5 324.316 1468.38 L324.316 1451.02 Z\" fill=\"#000000\" fill-rule=\"evenodd\" fill-opacity=\"1\" /><path clip-path=\"url(#clip860)\" d=\"M613.624 1481.64 L629.943 1481.64 L629.943 1485.58 L607.999 1485.58 L607.999 1481.64 Q610.661 1478.89 615.244 1474.26 Q619.85 1469.61 621.031 1468.27 Q623.276 1465.74 624.156 1464.01 Q625.059 1462.25 625.059 1460.56 Q625.059 1457.8 623.114 1456.07 Q621.193 1454.33 618.091 1454.33 Q615.892 1454.33 613.438 1455.09 Q611.008 1455.86 608.23 1457.41 L608.23 1452.69 Q611.054 1451.55 613.508 1450.97 Q615.962 1450.39 617.999 1450.39 Q623.369 1450.39 626.563 1453.08 Q629.758 1455.77 629.758 1460.26 Q629.758 1462.39 628.948 1464.31 Q628.161 1466.2 626.054 1468.8 Q625.475 1469.47 622.374 1472.69 Q619.272 1475.88 613.624 1481.64 Z\" fill=\"#000000\" fill-rule=\"evenodd\" fill-opacity=\"1\" /><path clip-path=\"url(#clip860)\" d=\"M639.758 1479.7 L644.642 1479.7 L644.642 1485.58 L639.758 1485.58 L639.758 1479.7 Z\" fill=\"#000000\" fill-rule=\"evenodd\" fill-opacity=\"1\" /><path clip-path=\"url(#clip860)\" d=\"M664.827 1454.1 Q661.216 1454.1 659.387 1457.66 Q657.582 1461.2 657.582 1468.33 Q657.582 1475.44 659.387 1479.01 Q661.216 1482.55 664.827 1482.55 Q668.461 1482.55 670.267 1479.01 Q672.096 1475.44 672.096 1468.33 Q672.096 1461.2 670.267 1457.66 Q668.461 1454.1 664.827 1454.1 M664.827 1450.39 Q670.637 1450.39 673.693 1455 Q676.771 1459.58 676.771 1468.33 Q676.771 1477.06 673.693 1481.67 Q670.637 1486.25 664.827 1486.25 Q659.017 1486.25 655.938 1481.67 Q652.883 1477.06 652.883 1468.33 Q652.883 1459.58 655.938 1455 Q659.017 1450.39 664.827 1450.39 Z\" fill=\"#000000\" fill-rule=\"evenodd\" fill-opacity=\"1\" /><path clip-path=\"url(#clip860)\" d=\"M944.309 1481.64 L960.628 1481.64 L960.628 1485.58 L938.684 1485.58 L938.684 1481.64 Q941.346 1478.89 945.929 1474.26 Q950.536 1469.61 951.716 1468.27 Q953.962 1465.74 954.841 1464.01 Q955.744 1462.25 955.744 1460.56 Q955.744 1457.8 953.799 1456.07 Q951.878 1454.33 948.776 1454.33 Q946.577 1454.33 944.124 1455.09 Q941.693 1455.86 938.915 1457.41 L938.915 1452.69 Q941.739 1451.55 944.193 1450.97 Q946.647 1450.39 948.684 1450.39 Q954.054 1450.39 957.249 1453.08 Q960.443 1455.77 960.443 1460.26 Q960.443 1462.39 959.633 1464.31 Q958.846 1466.2 956.739 1468.8 Q956.161 1469.47 953.059 1472.69 Q949.957 1475.88 944.309 1481.64 Z\" fill=\"#000000\" fill-rule=\"evenodd\" fill-opacity=\"1\" /><path clip-path=\"url(#clip860)\" d=\"M970.443 1479.7 L975.327 1479.7 L975.327 1485.58 L970.443 1485.58 L970.443 1479.7 Z\" fill=\"#000000\" fill-rule=\"evenodd\" fill-opacity=\"1\" /><path clip-path=\"url(#clip860)\" d=\"M985.559 1451.02 L1003.91 1451.02 L1003.91 1454.96 L989.841 1454.96 L989.841 1463.43 Q990.859 1463.08 991.878 1462.92 Q992.896 1462.73 993.915 1462.73 Q999.702 1462.73 1003.08 1465.9 Q1006.46 1469.08 1006.46 1474.49 Q1006.46 1480.07 1002.99 1483.17 Q999.517 1486.25 993.197 1486.25 Q991.021 1486.25 988.753 1485.88 Q986.508 1485.51 984.1 1484.77 L984.1 1480.07 Q986.184 1481.2 988.406 1481.76 Q990.628 1482.32 993.105 1482.32 Q997.109 1482.32 999.447 1480.21 Q1001.79 1478.1 1001.79 1474.49 Q1001.79 1470.88 999.447 1468.77 Q997.109 1466.67 993.105 1466.67 Q991.23 1466.67 989.355 1467.08 Q987.503 1467.5 985.559 1468.38 L985.559 1451.02 Z\" fill=\"#000000\" fill-rule=\"evenodd\" fill-opacity=\"1\" /><path clip-path=\"url(#clip860)\" d=\"M1284.07 1466.95 Q1287.42 1467.66 1289.3 1469.93 Q1291.2 1472.2 1291.2 1475.53 Q1291.2 1480.65 1287.68 1483.45 Q1284.16 1486.25 1277.68 1486.25 Q1275.5 1486.25 1273.19 1485.81 Q1270.9 1485.39 1268.44 1484.54 L1268.44 1480.02 Q1270.39 1481.16 1272.7 1481.74 Q1275.02 1482.32 1277.54 1482.32 Q1281.94 1482.32 1284.23 1480.58 Q1286.54 1478.84 1286.54 1475.53 Q1286.54 1472.48 1284.39 1470.77 Q1282.26 1469.03 1278.44 1469.03 L1274.42 1469.03 L1274.42 1465.19 L1278.63 1465.19 Q1282.08 1465.19 1283.91 1463.82 Q1285.73 1462.43 1285.73 1459.84 Q1285.73 1457.18 1283.84 1455.77 Q1281.96 1454.33 1278.44 1454.33 Q1276.52 1454.33 1274.32 1454.75 Q1272.12 1455.16 1269.48 1456.04 L1269.48 1451.88 Q1272.15 1451.14 1274.46 1450.77 Q1276.8 1450.39 1278.86 1450.39 Q1284.18 1450.39 1287.29 1452.83 Q1290.39 1455.23 1290.39 1459.35 Q1290.39 1462.22 1288.74 1464.21 Q1287.1 1466.18 1284.07 1466.95 Z\" fill=\"#000000\" fill-rule=\"evenodd\" fill-opacity=\"1\" /><path clip-path=\"url(#clip860)\" d=\"M1300.06 1479.7 L1304.95 1479.7 L1304.95 1485.58 L1300.06 1485.58 L1300.06 1479.7 Z\" fill=\"#000000\" fill-rule=\"evenodd\" fill-opacity=\"1\" /><path clip-path=\"url(#clip860)\" d=\"M1325.13 1454.1 Q1321.52 1454.1 1319.69 1457.66 Q1317.89 1461.2 1317.89 1468.33 Q1317.89 1475.44 1319.69 1479.01 Q1321.52 1482.55 1325.13 1482.55 Q1328.77 1482.55 1330.57 1479.01 Q1332.4 1475.44 1332.4 1468.33 Q1332.4 1461.2 1330.57 1457.66 Q1328.77 1454.1 1325.13 1454.1 M1325.13 1450.39 Q1330.94 1450.39 1334 1455 Q1337.08 1459.58 1337.08 1468.33 Q1337.08 1477.06 1334 1481.67 Q1330.94 1486.25 1325.13 1486.25 Q1319.32 1486.25 1316.24 1481.67 Q1313.19 1477.06 1313.19 1468.33 Q1313.19 1459.58 1316.24 1455 Q1319.32 1450.39 1325.13 1450.39 Z\" fill=\"#000000\" fill-rule=\"evenodd\" fill-opacity=\"1\" /><path clip-path=\"url(#clip860)\" d=\"M1614.75 1466.95 Q1618.11 1467.66 1619.98 1469.93 Q1621.88 1472.2 1621.88 1475.53 Q1621.88 1480.65 1618.36 1483.45 Q1614.85 1486.25 1608.36 1486.25 Q1606.19 1486.25 1603.87 1485.81 Q1601.58 1485.39 1599.13 1484.54 L1599.13 1480.02 Q1601.07 1481.16 1603.39 1481.74 Q1605.7 1482.32 1608.23 1482.32 Q1612.62 1482.32 1614.92 1480.58 Q1617.23 1478.84 1617.23 1475.53 Q1617.23 1472.48 1615.08 1470.77 Q1612.95 1469.03 1609.13 1469.03 L1605.1 1469.03 L1605.1 1465.19 L1609.31 1465.19 Q1612.76 1465.19 1614.59 1463.82 Q1616.42 1462.43 1616.42 1459.84 Q1616.42 1457.18 1614.52 1455.77 Q1612.65 1454.33 1609.13 1454.33 Q1607.21 1454.33 1605.01 1454.75 Q1602.81 1455.16 1600.17 1456.04 L1600.17 1451.88 Q1602.83 1451.14 1605.15 1450.77 Q1607.48 1450.39 1609.54 1450.39 Q1614.87 1450.39 1617.97 1452.83 Q1621.07 1455.23 1621.07 1459.35 Q1621.07 1462.22 1619.43 1464.21 Q1617.79 1466.18 1614.75 1466.95 Z\" fill=\"#000000\" fill-rule=\"evenodd\" fill-opacity=\"1\" /><path clip-path=\"url(#clip860)\" d=\"M1630.75 1479.7 L1635.63 1479.7 L1635.63 1485.58 L1630.75 1485.58 L1630.75 1479.7 Z\" fill=\"#000000\" fill-rule=\"evenodd\" fill-opacity=\"1\" /><path clip-path=\"url(#clip860)\" d=\"M1645.86 1451.02 L1664.22 1451.02 L1664.22 1454.96 L1650.15 1454.96 L1650.15 1463.43 Q1651.16 1463.08 1652.18 1462.92 Q1653.2 1462.73 1654.22 1462.73 Q1660.01 1462.73 1663.39 1465.9 Q1666.77 1469.08 1666.77 1474.49 Q1666.77 1480.07 1663.29 1483.17 Q1659.82 1486.25 1653.5 1486.25 Q1651.33 1486.25 1649.06 1485.88 Q1646.81 1485.51 1644.41 1484.77 L1644.41 1480.07 Q1646.49 1481.2 1648.71 1481.76 Q1650.93 1482.32 1653.41 1482.32 Q1657.41 1482.32 1659.75 1480.21 Q1662.09 1478.1 1662.09 1474.49 Q1662.09 1470.88 1659.75 1468.77 Q1657.41 1466.67 1653.41 1466.67 Q1651.54 1466.67 1649.66 1467.08 Q1647.81 1467.5 1645.86 1468.38 L1645.86 1451.02 Z\" fill=\"#000000\" fill-rule=\"evenodd\" fill-opacity=\"1\" /><path clip-path=\"url(#clip860)\" d=\"M1943.77 1455.09 L1931.97 1473.54 L1943.77 1473.54 L1943.77 1455.09 M1942.54 1451.02 L1948.42 1451.02 L1948.42 1473.54 L1953.35 1473.54 L1953.35 1477.43 L1948.42 1477.43 L1948.42 1485.58 L1943.77 1485.58 L1943.77 1477.43 L1928.17 1477.43 L1928.17 1472.92 L1942.54 1451.02 Z\" fill=\"#000000\" fill-rule=\"evenodd\" fill-opacity=\"1\" /><path clip-path=\"url(#clip860)\" d=\"M1961.09 1479.7 L1965.97 1479.7 L1965.97 1485.58 L1961.09 1485.58 L1961.09 1479.7 Z\" fill=\"#000000\" fill-rule=\"evenodd\" fill-opacity=\"1\" /><path clip-path=\"url(#clip860)\" d=\"M1986.16 1454.1 Q1982.54 1454.1 1980.72 1457.66 Q1978.91 1461.2 1978.91 1468.33 Q1978.91 1475.44 1980.72 1479.01 Q1982.54 1482.55 1986.16 1482.55 Q1989.79 1482.55 1991.6 1479.01 Q1993.42 1475.44 1993.42 1468.33 Q1993.42 1461.2 1991.6 1457.66 Q1989.79 1454.1 1986.16 1454.1 M1986.16 1450.39 Q1991.97 1450.39 1995.02 1455 Q1998.1 1459.58 1998.1 1468.33 Q1998.1 1477.06 1995.02 1481.67 Q1991.97 1486.25 1986.16 1486.25 Q1980.35 1486.25 1977.27 1481.67 Q1974.21 1477.06 1974.21 1468.33 Q1974.21 1459.58 1977.27 1455 Q1980.35 1450.39 1986.16 1450.39 Z\" fill=\"#000000\" fill-rule=\"evenodd\" fill-opacity=\"1\" /><path clip-path=\"url(#clip860)\" d=\"M2274.46 1455.09 L2262.65 1473.54 L2274.46 1473.54 L2274.46 1455.09 M2273.23 1451.02 L2279.11 1451.02 L2279.11 1473.54 L2284.04 1473.54 L2284.04 1477.43 L2279.11 1477.43 L2279.11 1485.58 L2274.46 1485.58 L2274.46 1477.43 L2258.85 1477.43 L2258.85 1472.92 L2273.23 1451.02 Z\" fill=\"#000000\" fill-rule=\"evenodd\" fill-opacity=\"1\" /><path clip-path=\"url(#clip860)\" d=\"M2291.77 1479.7 L2296.66 1479.7 L2296.66 1485.58 L2291.77 1485.58 L2291.77 1479.7 Z\" fill=\"#000000\" fill-rule=\"evenodd\" fill-opacity=\"1\" /><path clip-path=\"url(#clip860)\" d=\"M2306.89 1451.02 L2325.24 1451.02 L2325.24 1454.96 L2311.17 1454.96 L2311.17 1463.43 Q2312.19 1463.08 2313.21 1462.92 Q2314.22 1462.73 2315.24 1462.73 Q2321.03 1462.73 2324.41 1465.9 Q2327.79 1469.08 2327.79 1474.49 Q2327.79 1480.07 2324.32 1483.17 Q2320.85 1486.25 2314.53 1486.25 Q2312.35 1486.25 2310.08 1485.88 Q2307.84 1485.51 2305.43 1484.77 L2305.43 1480.07 Q2307.51 1481.2 2309.73 1481.76 Q2311.96 1482.32 2314.43 1482.32 Q2318.44 1482.32 2320.78 1480.21 Q2323.11 1478.1 2323.11 1474.49 Q2323.11 1470.88 2320.78 1468.77 Q2318.44 1466.67 2314.43 1466.67 Q2312.56 1466.67 2310.68 1467.08 Q2308.83 1467.5 2306.89 1468.38 L2306.89 1451.02 Z\" fill=\"#000000\" fill-rule=\"evenodd\" fill-opacity=\"1\" /><path clip-path=\"url(#clip860)\" d=\"M1316.36 1561.83 Q1316.36 1562.44 1315.65 1562.51 L1314.2 1562.51 Q1312.72 1562.51 1312.07 1562.28 Q1311.43 1562.06 1310.69 1561.03 Q1310.24 1560.38 1309.11 1557.39 Q1308.02 1554.36 1306.41 1549.79 Q1304.83 1545.21 1303.76 1542.51 L1287.89 1561.25 Q1286.79 1562.64 1285.7 1562.64 Q1284.89 1562.64 1284.31 1562.09 Q1283.73 1561.54 1283.73 1560.7 Q1283.73 1560.09 1283.96 1559.74 Q1284.22 1559.38 1284.89 1558.67 L1303.12 1540.61 L1296.71 1522.67 Q1295.49 1519.35 1294.78 1518.51 Q1294.1 1517.68 1292.43 1517.39 Q1291.82 1517.23 1291.82 1516.71 Q1291.82 1516 1293.01 1516 Q1299.38 1516 1301.06 1520.67 L1314.52 1558.19 Q1315.26 1560.35 1316.03 1561.25 Q1316.36 1561.67 1316.36 1561.83 Z\" fill=\"#000000\" fill-rule=\"evenodd\" fill-opacity=\"1\" /><polyline clip-path=\"url(#clip863)\" style=\"stroke:#000000; stroke-linecap:round; stroke-linejoin:round; stroke-width:2; stroke-opacity:0.1; fill:none\" points=\"252.764,977.006 2352.76,977.006 \"/>\n<polyline clip-path=\"url(#clip863)\" style=\"stroke:#000000; stroke-linecap:round; stroke-linejoin:round; stroke-width:2; stroke-opacity:0.1; fill:none\" points=\"252.764,395.699 2352.76,395.699 \"/>\n<polyline clip-path=\"url(#clip860)\" style=\"stroke:#000000; stroke-linecap:round; stroke-linejoin:round; stroke-width:4; stroke-opacity:1; fill:none\" points=\"252.764,1423.18 252.764,47.2441 \"/>\n<polyline clip-path=\"url(#clip860)\" style=\"stroke:#000000; stroke-linecap:round; stroke-linejoin:round; stroke-width:4; stroke-opacity:1; fill:none\" points=\"252.764,977.006 271.662,977.006 \"/>\n<polyline clip-path=\"url(#clip860)\" style=\"stroke:#000000; stroke-linecap:round; stroke-linejoin:round; stroke-width:4; stroke-opacity:1; fill:none\" points=\"252.764,395.699 271.662,395.699 \"/>\n<path clip-path=\"url(#clip860)\" d=\"M114.931 996.798 L122.57 996.798 L122.57 970.433 L114.26 972.099 L114.26 967.84 L122.524 966.174 L127.2 966.174 L127.2 996.798 L134.839 996.798 L134.839 1000.73 L114.931 1000.73 L114.931 996.798 Z\" fill=\"#000000\" fill-rule=\"evenodd\" fill-opacity=\"1\" /><path clip-path=\"url(#clip860)\" d=\"M154.283 969.252 Q150.672 969.252 148.843 972.817 Q147.038 976.359 147.038 983.488 Q147.038 990.595 148.843 994.159 Q150.672 997.701 154.283 997.701 Q157.917 997.701 159.723 994.159 Q161.552 990.595 161.552 983.488 Q161.552 976.359 159.723 972.817 Q157.917 969.252 154.283 969.252 M154.283 965.549 Q160.093 965.549 163.149 970.155 Q166.227 974.738 166.227 983.488 Q166.227 992.215 163.149 996.822 Q160.093 1001.4 154.283 1001.4 Q148.473 1001.4 145.394 996.822 Q142.339 992.215 142.339 983.488 Q142.339 974.738 145.394 970.155 Q148.473 965.549 154.283 965.549 Z\" fill=\"#000000\" fill-rule=\"evenodd\" fill-opacity=\"1\" /><path clip-path=\"url(#clip860)\" d=\"M166.227 959.65 L190.339 959.65 L190.339 962.847 L166.227 962.847 L166.227 959.65 Z\" fill=\"#000000\" fill-rule=\"evenodd\" fill-opacity=\"1\" /><path clip-path=\"url(#clip860)\" d=\"M208.978 948.553 L199.386 963.543 L208.978 963.543 L208.978 948.553 M207.981 945.243 L212.758 945.243 L212.758 963.543 L216.764 963.543 L216.764 966.703 L212.758 966.703 L212.758 973.323 L208.978 973.323 L208.978 966.703 L196.301 966.703 L196.301 963.035 L207.981 945.243 Z\" fill=\"#000000\" fill-rule=\"evenodd\" fill-opacity=\"1\" /><path clip-path=\"url(#clip860)\" d=\"M115.853 415.491 L123.492 415.491 L123.492 389.126 L115.182 390.792 L115.182 386.533 L123.446 384.866 L128.121 384.866 L128.121 415.491 L135.76 415.491 L135.76 419.426 L115.853 419.426 L115.853 415.491 Z\" fill=\"#000000\" fill-rule=\"evenodd\" fill-opacity=\"1\" /><path clip-path=\"url(#clip860)\" d=\"M155.205 387.945 Q151.594 387.945 149.765 391.51 Q147.959 395.052 147.959 402.181 Q147.959 409.288 149.765 412.852 Q151.594 416.394 155.205 416.394 Q158.839 416.394 160.644 412.852 Q162.473 409.288 162.473 402.181 Q162.473 395.052 160.644 391.51 Q158.839 387.945 155.205 387.945 M155.205 384.241 Q161.015 384.241 164.07 388.848 Q167.149 393.431 167.149 402.181 Q167.149 410.908 164.07 415.514 Q161.015 420.098 155.205 420.098 Q149.395 420.098 146.316 415.514 Q143.26 410.908 143.26 402.181 Q143.26 393.431 146.316 388.848 Q149.395 384.241 155.205 384.241 Z\" fill=\"#000000\" fill-rule=\"evenodd\" fill-opacity=\"1\" /><path clip-path=\"url(#clip860)\" d=\"M167.149 378.343 L191.261 378.343 L191.261 381.54 L167.149 381.54 L167.149 378.343 Z\" fill=\"#000000\" fill-rule=\"evenodd\" fill-opacity=\"1\" /><path clip-path=\"url(#clip860)\" d=\"M210.971 376.876 Q213.698 377.459 215.222 379.302 Q216.764 381.145 216.764 383.853 Q216.764 388.01 213.905 390.286 Q211.046 392.561 205.78 392.561 Q204.012 392.561 202.132 392.204 Q200.27 391.866 198.276 391.17 L198.276 387.502 Q199.856 388.424 201.737 388.894 Q203.617 389.364 205.667 389.364 Q209.241 389.364 211.103 387.954 Q212.984 386.543 212.984 383.853 Q212.984 381.371 211.234 379.979 Q209.504 378.568 206.401 378.568 L203.128 378.568 L203.128 375.446 L206.551 375.446 Q209.354 375.446 210.84 374.337 Q212.325 373.208 212.325 371.102 Q212.325 368.939 210.783 367.792 Q209.26 366.626 206.401 366.626 Q204.84 366.626 203.053 366.964 Q201.266 367.303 199.122 368.017 L199.122 364.632 Q201.285 364.03 203.166 363.729 Q205.066 363.428 206.739 363.428 Q211.065 363.428 213.585 365.403 Q216.106 367.359 216.106 370.707 Q216.106 373.039 214.77 374.656 Q213.435 376.255 210.971 376.876 Z\" fill=\"#000000\" fill-rule=\"evenodd\" fill-opacity=\"1\" /><path clip-path=\"url(#clip860)\" d=\"M27.4115 711.512 L27.9912 712.575 Q28.6354 713.509 30.3745 713.896 L49.5048 718.694 Q58.0071 720.788 63.4177 721.722 Q66.4772 722.205 67.7011 721.271 Q68.2164 720.852 68.2164 719.886 Q68.2164 718.823 67.3146 717.31 Q66.7671 716.408 65.1246 714.153 L66.2518 713.413 Q69.2147 716.601 71.1793 720.272 Q72.9184 723.3 72.9184 725.168 Q72.9184 726.714 71.9844 727.261 Q71.4047 727.68 70.0199 727.809 Q68.6994 727.809 66.7671 727.261 L56.3646 724.685 L56.3646 739.274 Q60.2937 741.722 63.8686 744.91 Q67.4112 748.098 69.408 750.546 Q72.5641 754.54 72.5641 758.211 Q72.5641 760.626 70.9217 761.979 Q69.1503 763.203 66.3162 762.559 Q64.7381 762.076 63.8686 760.916 Q63.2889 760.208 63.2889 758.791 Q63.2889 757.535 64.1906 757.019 Q64.6093 756.601 65.3822 756.826 Q65.6399 756.891 66.445 757.213 Q67.1858 757.599 68.0231 757.792 Q68.474 757.921 69.2147 757.47 Q69.8911 756.891 69.8911 755.957 Q69.8911 754.411 68.635 752.865 Q67.0892 750.932 63.4821 748.163 Q62.8702 747.68 61.1633 746.552 Q59.4564 745.425 57.8461 744.427 Q56.2358 743.396 53.5627 741.754 Q50.8896 740.079 49.8268 739.403 Q41.7753 734.443 37.3631 731.222 Q32.2746 727.551 30.3745 724.363 Q28.6676 721.529 27.6048 718.694 Q26.6386 716.15 26.1555 711.512 L27.4115 711.512 M29.827 718.115 L29.1184 718.501 Q29.5371 720.498 31.083 722.462 Q32.017 723.654 33.4662 724.91 Q34.9155 726.166 35.7851 726.778 Q36.6224 727.358 38.6192 728.71 Q44.062 732.35 53.5305 737.438 L53.5305 724.041 L29.827 718.115 Z\" fill=\"#000000\" fill-rule=\"evenodd\" fill-opacity=\"1\" /><circle clip-path=\"url(#clip863)\" cx=\"312.198\" cy=\"86.1857\" r=\"14.4\" fill=\"#009af9\" fill-rule=\"evenodd\" fill-opacity=\"1\" stroke=\"#000000\" stroke-opacity=\"1\" stroke-width=\"3.2\"/>\n<circle clip-path=\"url(#clip863)\" cx=\"1302.76\" cy=\"767.285\" r=\"14.4\" fill=\"#009af9\" fill-rule=\"evenodd\" fill-opacity=\"1\" stroke=\"#000000\" stroke-opacity=\"1\" stroke-width=\"3.2\"/>\n<circle clip-path=\"url(#clip863)\" cx=\"2293.32\" cy=\"1166.35\" r=\"14.4\" fill=\"#009af9\" fill-rule=\"evenodd\" fill-opacity=\"1\" stroke=\"#000000\" stroke-opacity=\"1\" stroke-width=\"3.2\"/>\n<circle clip-path=\"url(#clip863)\" cx=\"312.198\" cy=\"111.442\" r=\"14.4\" fill=\"#e26f46\" fill-rule=\"evenodd\" fill-opacity=\"1\" stroke=\"#000000\" stroke-opacity=\"1\" stroke-width=\"3.2\"/>\n<circle clip-path=\"url(#clip863)\" cx=\"1302.76\" cy=\"765.621\" r=\"14.4\" fill=\"#e26f46\" fill-rule=\"evenodd\" fill-opacity=\"1\" stroke=\"#000000\" stroke-opacity=\"1\" stroke-width=\"3.2\"/>\n<circle clip-path=\"url(#clip863)\" cx=\"2293.32\" cy=\"1165.67\" r=\"14.4\" fill=\"#e26f46\" fill-rule=\"evenodd\" fill-opacity=\"1\" stroke=\"#000000\" stroke-opacity=\"1\" stroke-width=\"3.2\"/>\n<circle clip-path=\"url(#clip863)\" cx=\"312.198\" cy=\"552.176\" r=\"14.4\" fill=\"#3da44d\" fill-rule=\"evenodd\" fill-opacity=\"1\" stroke=\"#000000\" stroke-opacity=\"1\" stroke-width=\"3.2\"/>\n<circle clip-path=\"url(#clip863)\" cx=\"1302.76\" cy=\"1077.15\" r=\"14.4\" fill=\"#3da44d\" fill-rule=\"evenodd\" fill-opacity=\"1\" stroke=\"#000000\" stroke-opacity=\"1\" stroke-width=\"3.2\"/>\n<circle clip-path=\"url(#clip863)\" cx=\"2293.32\" cy=\"1384.24\" r=\"14.4\" fill=\"#3da44d\" fill-rule=\"evenodd\" fill-opacity=\"1\" stroke=\"#000000\" stroke-opacity=\"1\" stroke-width=\"3.2\"/>\n<path clip-path=\"url(#clip860)\" d=\"M1750.31 300.469 L2282.76 300.469 L2282.76 93.1086 L1750.31 93.1086  Z\" fill=\"#ffffff\" fill-rule=\"evenodd\" fill-opacity=\"1\"/>\n<polyline clip-path=\"url(#clip860)\" style=\"stroke:#000000; stroke-linecap:round; stroke-linejoin:round; stroke-width:4; stroke-opacity:1; fill:none\" points=\"1750.31,300.469 2282.76,300.469 2282.76,93.1086 1750.31,93.1086 1750.31,300.469 \"/>\n<circle clip-path=\"url(#clip860)\" cx=\"1843.64\" cy=\"144.949\" r=\"23.04\" fill=\"#009af9\" fill-rule=\"evenodd\" fill-opacity=\"1\" stroke=\"#000000\" stroke-opacity=\"1\" stroke-width=\"5.12\"/>\n<path clip-path=\"url(#clip860)\" d=\"M1941.37 149.289 Q1941.37 153.988 1943.29 156.673 Q1945.23 159.335 1948.61 159.335 Q1951.99 159.335 1953.94 156.673 Q1955.88 153.988 1955.88 149.289 Q1955.88 144.59 1953.94 141.928 Q1951.99 139.243 1948.61 139.243 Q1945.23 139.243 1943.29 141.928 Q1941.37 144.59 1941.37 149.289 M1955.88 158.34 Q1954.54 160.655 1952.48 161.789 Q1950.44 162.9 1947.57 162.9 Q1942.87 162.9 1939.91 159.15 Q1936.97 155.4 1936.97 149.289 Q1936.97 143.178 1939.91 139.428 Q1942.87 135.678 1947.57 135.678 Q1950.44 135.678 1952.48 136.812 Q1954.54 137.923 1955.88 140.238 L1955.88 136.303 L1960.14 136.303 L1960.14 172.09 L1955.88 172.09 L1955.88 158.34 Z\" fill=\"#000000\" fill-rule=\"evenodd\" fill-opacity=\"1\" /><path clip-path=\"url(#clip860)\" d=\"M1968.48 151.997 L1968.48 136.303 L1972.73 136.303 L1972.73 151.835 Q1972.73 155.516 1974.17 157.368 Q1975.61 159.196 1978.48 159.196 Q1981.92 159.196 1983.92 156.997 Q1985.93 154.798 1985.93 151.002 L1985.93 136.303 L1990.19 136.303 L1990.19 162.229 L1985.93 162.229 L1985.93 158.247 Q1984.38 160.608 1982.32 161.766 Q1980.28 162.9 1977.57 162.9 Q1973.11 162.9 1970.79 160.122 Q1968.48 157.344 1968.48 151.997 M1979.19 135.678 L1979.19 135.678 Z\" fill=\"#000000\" fill-rule=\"evenodd\" fill-opacity=\"1\" /><path clip-path=\"url(#clip860)\" d=\"M2010.74 149.196 Q2005.58 149.196 2003.59 150.377 Q2001.6 151.557 2001.6 154.405 Q2001.6 156.673 2003.08 158.016 Q2004.59 159.335 2007.16 159.335 Q2010.7 159.335 2012.83 156.835 Q2014.98 154.312 2014.98 150.145 L2014.98 149.196 L2010.74 149.196 M2019.24 147.437 L2019.24 162.229 L2014.98 162.229 L2014.98 158.293 Q2013.52 160.655 2011.35 161.789 Q2009.17 162.9 2006.02 162.9 Q2002.04 162.9 1999.68 160.678 Q1997.34 158.432 1997.34 154.682 Q1997.34 150.307 2000.26 148.085 Q2003.2 145.863 2009.01 145.863 L2014.98 145.863 L2014.98 145.446 Q2014.98 142.507 2013.04 140.909 Q2011.11 139.289 2007.62 139.289 Q2005.4 139.289 2003.29 139.821 Q2001.18 140.354 1999.24 141.419 L1999.24 137.483 Q2001.58 136.581 2003.78 136.141 Q2005.98 135.678 2008.06 135.678 Q2013.68 135.678 2016.46 138.594 Q2019.24 141.511 2019.24 147.437 Z\" fill=\"#000000\" fill-rule=\"evenodd\" fill-opacity=\"1\" /><path clip-path=\"url(#clip860)\" d=\"M2049.56 146.581 L2049.56 162.229 L2045.3 162.229 L2045.3 146.719 Q2045.3 143.039 2043.87 141.21 Q2042.43 139.382 2039.56 139.382 Q2036.11 139.382 2034.12 141.581 Q2032.13 143.78 2032.13 147.576 L2032.13 162.229 L2027.85 162.229 L2027.85 136.303 L2032.13 136.303 L2032.13 140.331 Q2033.66 137.993 2035.72 136.835 Q2037.8 135.678 2040.51 135.678 Q2044.98 135.678 2047.27 138.456 Q2049.56 141.21 2049.56 146.581 Z\" fill=\"#000000\" fill-rule=\"evenodd\" fill-opacity=\"1\" /><path clip-path=\"url(#clip860)\" d=\"M2062.27 128.942 L2062.27 136.303 L2071.04 136.303 L2071.04 139.613 L2062.27 139.613 L2062.27 153.687 Q2062.27 156.858 2063.13 157.761 Q2064.01 158.664 2066.67 158.664 L2071.04 158.664 L2071.04 162.229 L2066.67 162.229 Q2061.74 162.229 2059.86 160.4 Q2057.99 158.548 2057.99 153.687 L2057.99 139.613 L2054.86 139.613 L2054.86 136.303 L2057.99 136.303 L2057.99 128.942 L2062.27 128.942 Z\" fill=\"#000000\" fill-rule=\"evenodd\" fill-opacity=\"1\" /><path clip-path=\"url(#clip860)\" d=\"M2076.21 151.997 L2076.21 136.303 L2080.47 136.303 L2080.47 151.835 Q2080.47 155.516 2081.9 157.368 Q2083.34 159.196 2086.21 159.196 Q2089.66 159.196 2091.65 156.997 Q2093.66 154.798 2093.66 151.002 L2093.66 136.303 L2097.92 136.303 L2097.92 162.229 L2093.66 162.229 L2093.66 158.247 Q2092.11 160.608 2090.05 161.766 Q2088.01 162.9 2085.3 162.9 Q2080.84 162.9 2078.52 160.122 Q2076.21 157.344 2076.21 151.997 M2086.92 135.678 L2086.92 135.678 Z\" fill=\"#000000\" fill-rule=\"evenodd\" fill-opacity=\"1\" /><path clip-path=\"url(#clip860)\" d=\"M2126.88 141.28 Q2128.47 138.409 2130.7 137.044 Q2132.92 135.678 2135.93 135.678 Q2139.98 135.678 2142.18 138.525 Q2144.38 141.349 2144.38 146.581 L2144.38 162.229 L2140.09 162.229 L2140.09 146.719 Q2140.09 142.993 2138.78 141.187 Q2137.46 139.382 2134.75 139.382 Q2131.44 139.382 2129.52 141.581 Q2127.59 143.78 2127.59 147.576 L2127.59 162.229 L2123.31 162.229 L2123.31 146.719 Q2123.31 142.969 2121.99 141.187 Q2120.67 139.382 2117.92 139.382 Q2114.66 139.382 2112.73 141.604 Q2110.81 143.803 2110.81 147.576 L2110.81 162.229 L2106.53 162.229 L2106.53 136.303 L2110.81 136.303 L2110.81 140.331 Q2112.27 137.946 2114.31 136.812 Q2116.34 135.678 2119.15 135.678 Q2121.97 135.678 2123.94 137.113 Q2125.93 138.548 2126.88 141.28 Z\" fill=\"#000000\" fill-rule=\"evenodd\" fill-opacity=\"1\" /><circle clip-path=\"url(#clip860)\" cx=\"1843.64\" cy=\"196.789\" r=\"23.04\" fill=\"#e26f46\" fill-rule=\"evenodd\" fill-opacity=\"1\" stroke=\"#000000\" stroke-opacity=\"1\" stroke-width=\"5.12\"/>\n<path clip-path=\"url(#clip860)\" d=\"M1961 200.041 L1961 202.124 L1941.42 202.124 Q1941.69 206.522 1944.05 208.837 Q1946.44 211.129 1950.67 211.129 Q1953.13 211.129 1955.42 210.527 Q1957.73 209.925 1960 208.721 L1960 212.749 Q1957.71 213.721 1955.3 214.231 Q1952.9 214.74 1950.42 214.74 Q1944.22 214.74 1940.58 211.129 Q1936.97 207.518 1936.97 201.36 Q1936.97 194.995 1940.4 191.268 Q1943.85 187.518 1949.68 187.518 Q1954.91 187.518 1957.94 190.897 Q1961 194.254 1961 200.041 M1956.74 198.791 Q1956.69 195.296 1954.77 193.212 Q1952.87 191.129 1949.73 191.129 Q1946.16 191.129 1944.01 193.143 Q1941.88 195.157 1941.55 198.814 L1956.74 198.791 Z\" fill=\"#000000\" fill-rule=\"evenodd\" fill-opacity=\"1\" /><path clip-path=\"url(#clip860)\" d=\"M1988.71 188.143 L1979.33 200.759 L1989.19 214.069 L1984.17 214.069 L1976.62 203.883 L1969.08 214.069 L1964.05 214.069 L1974.12 200.504 L1964.91 188.143 L1969.93 188.143 L1976.81 197.379 L1983.68 188.143 L1988.71 188.143 Z\" fill=\"#000000\" fill-rule=\"evenodd\" fill-opacity=\"1\" /><path clip-path=\"url(#clip860)\" d=\"M1999.42 180.782 L1999.42 188.143 L2008.2 188.143 L2008.2 191.453 L1999.42 191.453 L1999.42 205.527 Q1999.42 208.698 2000.28 209.601 Q2001.16 210.504 2003.82 210.504 L2008.2 210.504 L2008.2 214.069 L2003.82 214.069 Q1998.89 214.069 1997.02 212.24 Q1995.14 210.388 1995.14 205.527 L1995.14 191.453 L1992.02 191.453 L1992.02 188.143 L1995.14 188.143 L1995.14 180.782 L1999.42 180.782 Z\" fill=\"#000000\" fill-rule=\"evenodd\" fill-opacity=\"1\" /><path clip-path=\"url(#clip860)\" d=\"M2028.82 192.124 Q2028.1 191.708 2027.25 191.522 Q2026.41 191.314 2025.4 191.314 Q2021.79 191.314 2019.84 193.675 Q2017.92 196.013 2017.92 200.411 L2017.92 214.069 L2013.64 214.069 L2013.64 188.143 L2017.92 188.143 L2017.92 192.171 Q2019.26 189.809 2021.41 188.675 Q2023.57 187.518 2026.65 187.518 Q2027.09 187.518 2027.62 187.587 Q2028.15 187.634 2028.8 187.749 L2028.82 192.124 Z\" fill=\"#000000\" fill-rule=\"evenodd\" fill-opacity=\"1\" /><path clip-path=\"url(#clip860)\" d=\"M2045.07 201.036 Q2039.91 201.036 2037.92 202.217 Q2035.93 203.397 2035.93 206.245 Q2035.93 208.513 2037.41 209.856 Q2038.91 211.175 2041.48 211.175 Q2045.03 211.175 2047.16 208.675 Q2049.31 206.152 2049.31 201.985 L2049.31 201.036 L2045.07 201.036 M2053.57 199.277 L2053.57 214.069 L2049.31 214.069 L2049.31 210.133 Q2047.85 212.495 2045.67 213.629 Q2043.5 214.74 2040.35 214.74 Q2036.37 214.74 2034.01 212.518 Q2031.67 210.272 2031.67 206.522 Q2031.67 202.147 2034.59 199.925 Q2037.53 197.703 2043.34 197.703 L2049.31 197.703 L2049.31 197.286 Q2049.31 194.347 2047.36 192.749 Q2045.44 191.129 2041.95 191.129 Q2039.73 191.129 2037.62 191.661 Q2035.51 192.194 2033.57 193.259 L2033.57 189.323 Q2035.91 188.421 2038.1 187.981 Q2040.3 187.518 2042.39 187.518 Q2048.01 187.518 2050.79 190.434 Q2053.57 193.351 2053.57 199.277 Z\" fill=\"#000000\" fill-rule=\"evenodd\" fill-opacity=\"1\" /><path clip-path=\"url(#clip860)\" d=\"M2066.46 210.18 L2066.46 223.93 L2062.18 223.93 L2062.18 188.143 L2066.46 188.143 L2066.46 192.078 Q2067.8 189.763 2069.84 188.652 Q2071.9 187.518 2074.75 187.518 Q2079.47 187.518 2082.41 191.268 Q2085.37 195.018 2085.37 201.129 Q2085.37 207.24 2082.41 210.99 Q2079.47 214.74 2074.75 214.74 Q2071.9 214.74 2069.84 213.629 Q2067.8 212.495 2066.46 210.18 M2080.95 201.129 Q2080.95 196.43 2079.01 193.768 Q2077.09 191.083 2073.71 191.083 Q2070.33 191.083 2068.38 193.768 Q2066.46 196.43 2066.46 201.129 Q2066.46 205.828 2068.38 208.513 Q2070.33 211.175 2073.71 211.175 Q2077.09 211.175 2079.01 208.513 Q2080.95 205.828 2080.95 201.129 Z\" fill=\"#000000\" fill-rule=\"evenodd\" fill-opacity=\"1\" /><path clip-path=\"url(#clip860)\" d=\"M2102.48 191.129 Q2099.05 191.129 2097.06 193.814 Q2095.07 196.476 2095.07 201.129 Q2095.07 205.782 2097.04 208.467 Q2099.03 211.129 2102.48 211.129 Q2105.88 211.129 2107.87 208.444 Q2109.86 205.758 2109.86 201.129 Q2109.86 196.522 2107.87 193.837 Q2105.88 191.129 2102.48 191.129 M2102.48 187.518 Q2108.03 187.518 2111.21 191.129 Q2114.38 194.74 2114.38 201.129 Q2114.38 207.495 2111.21 211.129 Q2108.03 214.74 2102.48 214.74 Q2096.9 214.74 2093.73 211.129 Q2090.58 207.495 2090.58 201.129 Q2090.58 194.74 2093.73 191.129 Q2096.9 187.518 2102.48 187.518 Z\" fill=\"#000000\" fill-rule=\"evenodd\" fill-opacity=\"1\" /><path clip-path=\"url(#clip860)\" d=\"M2121.44 178.05 L2125.7 178.05 L2125.7 214.069 L2121.44 214.069 L2121.44 178.05 Z\" fill=\"#000000\" fill-rule=\"evenodd\" fill-opacity=\"1\" /><path clip-path=\"url(#clip860)\" d=\"M2146.39 201.036 Q2141.23 201.036 2139.24 202.217 Q2137.25 203.397 2137.25 206.245 Q2137.25 208.513 2138.73 209.856 Q2140.23 211.175 2142.8 211.175 Q2146.34 211.175 2148.47 208.675 Q2150.63 206.152 2150.63 201.985 L2150.63 201.036 L2146.39 201.036 M2154.89 199.277 L2154.89 214.069 L2150.63 214.069 L2150.63 210.133 Q2149.17 212.495 2146.99 213.629 Q2144.82 214.74 2141.67 214.74 Q2137.69 214.74 2135.33 212.518 Q2132.99 210.272 2132.99 206.522 Q2132.99 202.147 2135.91 199.925 Q2138.84 197.703 2144.66 197.703 L2150.63 197.703 L2150.63 197.286 Q2150.63 194.347 2148.68 192.749 Q2146.76 191.129 2143.27 191.129 Q2141.04 191.129 2138.94 191.661 Q2136.83 192.194 2134.89 193.259 L2134.89 189.323 Q2137.22 188.421 2139.42 187.981 Q2141.62 187.518 2143.71 187.518 Q2149.33 187.518 2152.11 190.434 Q2154.89 193.351 2154.89 199.277 Z\" fill=\"#000000\" fill-rule=\"evenodd\" fill-opacity=\"1\" /><path clip-path=\"url(#clip860)\" d=\"M2167.87 180.782 L2167.87 188.143 L2176.65 188.143 L2176.65 191.453 L2167.87 191.453 L2167.87 205.527 Q2167.87 208.698 2168.73 209.601 Q2169.61 210.504 2172.27 210.504 L2176.65 210.504 L2176.65 214.069 L2172.27 214.069 Q2167.34 214.069 2165.47 212.24 Q2163.59 210.388 2163.59 205.527 L2163.59 191.453 L2160.47 191.453 L2160.47 188.143 L2163.59 188.143 L2163.59 180.782 L2167.87 180.782 Z\" fill=\"#000000\" fill-rule=\"evenodd\" fill-opacity=\"1\" /><path clip-path=\"url(#clip860)\" d=\"M2204.42 200.041 L2204.42 202.124 L2184.84 202.124 Q2185.12 206.522 2187.48 208.837 Q2189.86 211.129 2194.1 211.129 Q2196.55 211.129 2198.84 210.527 Q2201.16 209.925 2203.43 208.721 L2203.43 212.749 Q2201.14 213.721 2198.73 214.231 Q2196.32 214.74 2193.84 214.74 Q2187.64 214.74 2184.01 211.129 Q2180.4 207.518 2180.4 201.36 Q2180.4 194.995 2183.82 191.268 Q2187.27 187.518 2193.1 187.518 Q2198.34 187.518 2201.37 190.897 Q2204.42 194.254 2204.42 200.041 M2200.16 198.791 Q2200.12 195.296 2198.2 193.212 Q2196.3 191.129 2193.15 191.129 Q2189.59 191.129 2187.43 193.143 Q2185.3 195.157 2184.98 198.814 L2200.16 198.791 Z\" fill=\"#000000\" fill-rule=\"evenodd\" fill-opacity=\"1\" /><path clip-path=\"url(#clip860)\" d=\"M2228.47 192.078 L2228.47 178.05 L2232.73 178.05 L2232.73 214.069 L2228.47 214.069 L2228.47 210.18 Q2227.13 212.495 2225.07 213.629 Q2223.03 214.74 2220.16 214.74 Q2215.46 214.74 2212.5 210.99 Q2209.56 207.24 2209.56 201.129 Q2209.56 195.018 2212.5 191.268 Q2215.46 187.518 2220.16 187.518 Q2223.03 187.518 2225.07 188.652 Q2227.13 189.763 2228.47 192.078 M2213.96 201.129 Q2213.96 205.828 2215.88 208.513 Q2217.83 211.175 2221.21 211.175 Q2224.59 211.175 2226.53 208.513 Q2228.47 205.828 2228.47 201.129 Q2228.47 196.43 2226.53 193.768 Q2224.59 191.083 2221.21 191.083 Q2217.83 191.083 2215.88 193.768 Q2213.96 196.43 2213.96 201.129 Z\" fill=\"#000000\" fill-rule=\"evenodd\" fill-opacity=\"1\" /><circle clip-path=\"url(#clip860)\" cx=\"1843.64\" cy=\"248.629\" r=\"23.04\" fill=\"#3da44d\" fill-rule=\"evenodd\" fill-opacity=\"1\" stroke=\"#000000\" stroke-opacity=\"1\" stroke-width=\"5.12\"/>\n<path clip-path=\"url(#clip860)\" d=\"M1955.4 240.747 L1955.4 244.774 Q1953.59 243.849 1951.65 243.386 Q1949.7 242.923 1947.62 242.923 Q1944.45 242.923 1942.85 243.895 Q1941.28 244.867 1941.28 246.811 Q1941.28 248.293 1942.41 249.149 Q1943.54 249.983 1946.97 250.747 L1948.43 251.071 Q1952.97 252.043 1954.86 253.825 Q1956.79 255.585 1956.79 258.756 Q1956.79 262.367 1953.92 264.473 Q1951.07 266.58 1946.07 266.58 Q1943.98 266.58 1941.72 266.163 Q1939.47 265.77 1936.97 264.96 L1936.97 260.561 Q1939.33 261.788 1941.62 262.413 Q1943.92 263.015 1946.16 263.015 Q1949.17 263.015 1950.79 261.997 Q1952.41 260.955 1952.41 259.08 Q1952.41 257.344 1951.23 256.418 Q1950.07 255.492 1946.11 254.636 L1944.63 254.288 Q1940.67 253.455 1938.92 251.742 Q1937.16 250.006 1937.16 246.997 Q1937.16 243.339 1939.75 241.349 Q1942.34 239.358 1947.11 239.358 Q1949.47 239.358 1951.55 239.705 Q1953.64 240.052 1955.4 240.747 Z\" fill=\"#000000\" fill-rule=\"evenodd\" fill-opacity=\"1\" /><path clip-path=\"url(#clip860)\" d=\"M1985.74 251.881 L1985.74 253.964 L1966.16 253.964 Q1966.44 258.362 1968.8 260.677 Q1971.18 262.969 1975.42 262.969 Q1977.87 262.969 1980.17 262.367 Q1982.48 261.765 1984.75 260.561 L1984.75 264.589 Q1982.46 265.561 1980.05 266.071 Q1977.64 266.58 1975.17 266.58 Q1968.96 266.58 1965.33 262.969 Q1961.72 259.358 1961.72 253.2 Q1961.72 246.835 1965.14 243.108 Q1968.59 239.358 1974.42 239.358 Q1979.66 239.358 1982.69 242.737 Q1985.74 246.094 1985.74 251.881 M1981.48 250.631 Q1981.44 247.136 1979.52 245.052 Q1977.62 242.969 1974.47 242.969 Q1970.91 242.969 1968.75 244.983 Q1966.62 246.997 1966.3 250.654 L1981.48 250.631 Z\" fill=\"#000000\" fill-rule=\"evenodd\" fill-opacity=\"1\" /><path clip-path=\"url(#clip860)\" d=\"M2012.92 244.96 Q2014.52 242.089 2016.74 240.724 Q2018.96 239.358 2021.97 239.358 Q2026.02 239.358 2028.22 242.205 Q2030.42 245.029 2030.42 250.261 L2030.42 265.909 L2026.14 265.909 L2026.14 250.399 Q2026.14 246.673 2024.82 244.867 Q2023.5 243.062 2020.79 243.062 Q2017.48 243.062 2015.56 245.261 Q2013.64 247.46 2013.64 251.256 L2013.64 265.909 L2009.35 265.909 L2009.35 250.399 Q2009.35 246.649 2008.04 244.867 Q2006.72 243.062 2003.96 243.062 Q2000.7 243.062 1998.78 245.284 Q1996.85 247.483 1996.85 251.256 L1996.85 265.909 L1992.57 265.909 L1992.57 239.983 L1996.85 239.983 L1996.85 244.011 Q1998.31 241.626 2000.35 240.492 Q2002.39 239.358 2005.19 239.358 Q2008.01 239.358 2009.98 240.793 Q2011.97 242.228 2012.92 244.96 Z\" fill=\"#000000\" fill-rule=\"evenodd\" fill-opacity=\"1\" /><path clip-path=\"url(#clip860)\" d=\"M2038.91 239.983 L2043.17 239.983 L2043.17 265.909 L2038.91 265.909 L2038.91 239.983 M2038.91 229.89 L2043.17 229.89 L2043.17 235.284 L2038.91 235.284 L2038.91 229.89 Z\" fill=\"#000000\" fill-rule=\"evenodd\" fill-opacity=\"1\" /><path clip-path=\"url(#clip860)\" d=\"M2049.93 251.024 L2062.41 251.024 L2062.41 254.821 L2049.93 254.821 L2049.93 251.024 Z\" fill=\"#000000\" fill-rule=\"evenodd\" fill-opacity=\"1\" /><path clip-path=\"url(#clip860)\" d=\"M2087.85 240.978 L2087.85 244.96 Q2086.04 243.964 2084.22 243.478 Q2082.41 242.969 2080.56 242.969 Q2076.41 242.969 2074.12 245.608 Q2071.83 248.224 2071.83 252.969 Q2071.83 257.714 2074.12 260.353 Q2076.41 262.969 2080.56 262.969 Q2082.41 262.969 2084.22 262.483 Q2086.04 261.973 2087.85 260.978 L2087.85 264.913 Q2086.07 265.747 2084.15 266.163 Q2082.25 266.58 2080.1 266.58 Q2074.24 266.58 2070.79 262.899 Q2067.34 259.219 2067.34 252.969 Q2067.34 246.626 2070.81 242.992 Q2074.31 239.358 2080.37 239.358 Q2082.34 239.358 2084.22 239.775 Q2086.09 240.168 2087.85 240.978 Z\" fill=\"#000000\" fill-rule=\"evenodd\" fill-opacity=\"1\" /><path clip-path=\"url(#clip860)\" d=\"M2095.26 229.89 L2099.52 229.89 L2099.52 265.909 L2095.26 265.909 L2095.26 229.89 Z\" fill=\"#000000\" fill-rule=\"evenodd\" fill-opacity=\"1\" /><path clip-path=\"url(#clip860)\" d=\"M2120.21 252.876 Q2115.05 252.876 2113.06 254.057 Q2111.07 255.237 2111.07 258.085 Q2111.07 260.353 2112.55 261.696 Q2114.05 263.015 2116.62 263.015 Q2120.16 263.015 2122.29 260.515 Q2124.45 257.992 2124.45 253.825 L2124.45 252.876 L2120.21 252.876 M2128.71 251.117 L2128.71 265.909 L2124.45 265.909 L2124.45 261.973 Q2122.99 264.335 2120.81 265.469 Q2118.64 266.58 2115.49 266.58 Q2111.51 266.58 2109.15 264.358 Q2106.81 262.112 2106.81 258.362 Q2106.81 253.987 2109.72 251.765 Q2112.66 249.543 2118.47 249.543 L2124.45 249.543 L2124.45 249.126 Q2124.45 246.187 2122.5 244.589 Q2120.58 242.969 2117.09 242.969 Q2114.86 242.969 2112.76 243.501 Q2110.65 244.034 2108.71 245.099 L2108.71 241.163 Q2111.04 240.261 2113.24 239.821 Q2115.44 239.358 2117.53 239.358 Q2123.15 239.358 2125.93 242.274 Q2128.71 245.191 2128.71 251.117 Z\" fill=\"#000000\" fill-rule=\"evenodd\" fill-opacity=\"1\" /><path clip-path=\"url(#clip860)\" d=\"M2154.01 240.747 L2154.01 244.774 Q2152.2 243.849 2150.26 243.386 Q2148.31 242.923 2146.23 242.923 Q2143.06 242.923 2141.46 243.895 Q2139.89 244.867 2139.89 246.811 Q2139.89 248.293 2141.02 249.149 Q2142.16 249.983 2145.58 250.747 L2147.04 251.071 Q2151.58 252.043 2153.47 253.825 Q2155.4 255.585 2155.4 258.756 Q2155.4 262.367 2152.53 264.473 Q2149.68 266.58 2144.68 266.58 Q2142.59 266.58 2140.33 266.163 Q2138.08 265.77 2135.58 264.96 L2135.58 260.561 Q2137.94 261.788 2140.23 262.413 Q2142.53 263.015 2144.77 263.015 Q2147.78 263.015 2149.4 261.997 Q2151.02 260.955 2151.02 259.08 Q2151.02 257.344 2149.84 256.418 Q2148.68 255.492 2144.72 254.636 L2143.24 254.288 Q2139.28 253.455 2137.53 251.742 Q2135.77 250.006 2135.77 246.997 Q2135.77 243.339 2138.36 241.349 Q2140.95 239.358 2145.72 239.358 Q2148.08 239.358 2150.16 239.705 Q2152.25 240.052 2154.01 240.747 Z\" fill=\"#000000\" fill-rule=\"evenodd\" fill-opacity=\"1\" /><path clip-path=\"url(#clip860)\" d=\"M2178.71 240.747 L2178.71 244.774 Q2176.9 243.849 2174.96 243.386 Q2173.01 242.923 2170.93 242.923 Q2167.76 242.923 2166.16 243.895 Q2164.59 244.867 2164.59 246.811 Q2164.59 248.293 2165.72 249.149 Q2166.85 249.983 2170.28 250.747 L2171.74 251.071 Q2176.28 252.043 2178.17 253.825 Q2180.09 255.585 2180.09 258.756 Q2180.09 262.367 2177.22 264.473 Q2174.38 266.58 2169.38 266.58 Q2167.29 266.58 2165.03 266.163 Q2162.78 265.77 2160.28 264.96 L2160.28 260.561 Q2162.64 261.788 2164.93 262.413 Q2167.22 263.015 2169.47 263.015 Q2172.48 263.015 2174.1 261.997 Q2175.72 260.955 2175.72 259.08 Q2175.72 257.344 2174.54 256.418 Q2173.38 255.492 2169.42 254.636 L2167.94 254.288 Q2163.98 253.455 2162.22 251.742 Q2160.47 250.006 2160.47 246.997 Q2160.47 243.339 2163.06 241.349 Q2165.65 239.358 2170.42 239.358 Q2172.78 239.358 2174.86 239.705 Q2176.95 240.052 2178.71 240.747 Z\" fill=\"#000000\" fill-rule=\"evenodd\" fill-opacity=\"1\" /><path clip-path=\"url(#clip860)\" d=\"M2186.88 239.983 L2191.14 239.983 L2191.14 265.909 L2186.88 265.909 L2186.88 239.983 M2186.88 229.89 L2191.14 229.89 L2191.14 235.284 L2186.88 235.284 L2186.88 229.89 Z\" fill=\"#000000\" fill-rule=\"evenodd\" fill-opacity=\"1\" /><path clip-path=\"url(#clip860)\" d=\"M2218.71 240.978 L2218.71 244.96 Q2216.9 243.964 2215.07 243.478 Q2213.27 242.969 2211.41 242.969 Q2207.27 242.969 2204.98 245.608 Q2202.69 248.224 2202.69 252.969 Q2202.69 257.714 2204.98 260.353 Q2207.27 262.969 2211.41 262.969 Q2213.27 262.969 2215.07 262.483 Q2216.9 261.973 2218.71 260.978 L2218.71 264.913 Q2216.92 265.747 2215 266.163 Q2213.1 266.58 2210.95 266.58 Q2205.09 266.58 2201.65 262.899 Q2198.2 259.219 2198.2 252.969 Q2198.2 246.626 2201.67 242.992 Q2205.16 239.358 2211.23 239.358 Q2213.2 239.358 2215.07 239.775 Q2216.95 240.168 2218.71 240.978 Z\" fill=\"#000000\" fill-rule=\"evenodd\" fill-opacity=\"1\" /><path clip-path=\"url(#clip860)\" d=\"M2237.9 252.876 Q2232.73 252.876 2230.74 254.057 Q2228.75 255.237 2228.75 258.085 Q2228.75 260.353 2230.23 261.696 Q2231.74 263.015 2234.31 263.015 Q2237.85 263.015 2239.98 260.515 Q2242.13 257.992 2242.13 253.825 L2242.13 252.876 L2237.9 252.876 M2246.39 251.117 L2246.39 265.909 L2242.13 265.909 L2242.13 261.973 Q2240.67 264.335 2238.5 265.469 Q2236.32 266.58 2233.17 266.58 Q2229.19 266.58 2226.83 264.358 Q2224.49 262.112 2224.49 258.362 Q2224.49 253.987 2227.41 251.765 Q2230.35 249.543 2236.16 249.543 L2242.13 249.543 L2242.13 249.126 Q2242.13 246.187 2240.19 244.589 Q2238.27 242.969 2234.77 242.969 Q2232.55 242.969 2230.44 243.501 Q2228.34 244.034 2226.39 245.099 L2226.39 241.163 Q2228.73 240.261 2230.93 239.821 Q2233.13 239.358 2235.21 239.358 Q2240.84 239.358 2243.61 242.274 Q2246.39 245.191 2246.39 251.117 Z\" fill=\"#000000\" fill-rule=\"evenodd\" fill-opacity=\"1\" /><path clip-path=\"url(#clip860)\" d=\"M2255.16 229.89 L2259.42 229.89 L2259.42 265.909 L2255.16 265.909 L2255.16 229.89 Z\" fill=\"#000000\" fill-rule=\"evenodd\" fill-opacity=\"1\" /></svg>\n",
      "text/html": [
       "<?xml version=\"1.0\" encoding=\"utf-8\"?>\n",
       "<svg xmlns=\"http://www.w3.org/2000/svg\" xmlns:xlink=\"http://www.w3.org/1999/xlink\" width=\"600\" height=\"400\" viewBox=\"0 0 2400 1600\">\n",
       "<defs>\n",
       "  <clipPath id=\"clip910\">\n",
       "    <rect x=\"0\" y=\"0\" width=\"2400\" height=\"1600\"/>\n",
       "  </clipPath>\n",
       "</defs>\n",
       "<path clip-path=\"url(#clip910)\" d=\"M0 1600 L2400 1600 L2400 0 L0 0  Z\" fill=\"#ffffff\" fill-rule=\"evenodd\" fill-opacity=\"1\"/>\n",
       "<defs>\n",
       "  <clipPath id=\"clip911\">\n",
       "    <rect x=\"480\" y=\"0\" width=\"1681\" height=\"1600\"/>\n",
       "  </clipPath>\n",
       "</defs>\n",
       "<defs>\n",
       "  <clipPath id=\"clip912\">\n",
       "    <rect x=\"252\" y=\"47\" width=\"2101\" height=\"1377\"/>\n",
       "  </clipPath>\n",
       "</defs>\n",
       "<path clip-path=\"url(#clip910)\" d=\"M252.764 1423.18 L2352.76 1423.18 L2352.76 47.2441 L252.764 47.2441  Z\" fill=\"#ffffff\" fill-rule=\"evenodd\" fill-opacity=\"1\"/>\n",
       "<polyline clip-path=\"url(#clip912)\" style=\"stroke:#000000; stroke-linecap:round; stroke-linejoin:round; stroke-width:2; stroke-opacity:0.1; fill:none\" points=\"312.198,1423.18 312.198,47.2441 \"/>\n",
       "<polyline clip-path=\"url(#clip912)\" style=\"stroke:#000000; stroke-linecap:round; stroke-linejoin:round; stroke-width:2; stroke-opacity:0.1; fill:none\" points=\"642.385,1423.18 642.385,47.2441 \"/>\n",
       "<polyline clip-path=\"url(#clip912)\" style=\"stroke:#000000; stroke-linecap:round; stroke-linejoin:round; stroke-width:2; stroke-opacity:0.1; fill:none\" points=\"972.573,1423.18 972.573,47.2441 \"/>\n",
       "<polyline clip-path=\"url(#clip912)\" style=\"stroke:#000000; stroke-linecap:round; stroke-linejoin:round; stroke-width:2; stroke-opacity:0.1; fill:none\" points=\"1302.76,1423.18 1302.76,47.2441 \"/>\n",
       "<polyline clip-path=\"url(#clip912)\" style=\"stroke:#000000; stroke-linecap:round; stroke-linejoin:round; stroke-width:2; stroke-opacity:0.1; fill:none\" points=\"1632.95,1423.18 1632.95,47.2441 \"/>\n",
       "<polyline clip-path=\"url(#clip912)\" style=\"stroke:#000000; stroke-linecap:round; stroke-linejoin:round; stroke-width:2; stroke-opacity:0.1; fill:none\" points=\"1963.13,1423.18 1963.13,47.2441 \"/>\n",
       "<polyline clip-path=\"url(#clip912)\" style=\"stroke:#000000; stroke-linecap:round; stroke-linejoin:round; stroke-width:2; stroke-opacity:0.1; fill:none\" points=\"2293.32,1423.18 2293.32,47.2441 \"/>\n",
       "<polyline clip-path=\"url(#clip910)\" style=\"stroke:#000000; stroke-linecap:round; stroke-linejoin:round; stroke-width:4; stroke-opacity:1; fill:none\" points=\"252.764,1423.18 2352.76,1423.18 \"/>\n",
       "<polyline clip-path=\"url(#clip910)\" style=\"stroke:#000000; stroke-linecap:round; stroke-linejoin:round; stroke-width:4; stroke-opacity:1; fill:none\" points=\"312.198,1423.18 312.198,1404.28 \"/>\n",
       "<polyline clip-path=\"url(#clip910)\" style=\"stroke:#000000; stroke-linecap:round; stroke-linejoin:round; stroke-width:4; stroke-opacity:1; fill:none\" points=\"642.385,1423.18 642.385,1404.28 \"/>\n",
       "<polyline clip-path=\"url(#clip910)\" style=\"stroke:#000000; stroke-linecap:round; stroke-linejoin:round; stroke-width:4; stroke-opacity:1; fill:none\" points=\"972.573,1423.18 972.573,1404.28 \"/>\n",
       "<polyline clip-path=\"url(#clip910)\" style=\"stroke:#000000; stroke-linecap:round; stroke-linejoin:round; stroke-width:4; stroke-opacity:1; fill:none\" points=\"1302.76,1423.18 1302.76,1404.28 \"/>\n",
       "<polyline clip-path=\"url(#clip910)\" style=\"stroke:#000000; stroke-linecap:round; stroke-linejoin:round; stroke-width:4; stroke-opacity:1; fill:none\" points=\"1632.95,1423.18 1632.95,1404.28 \"/>\n",
       "<polyline clip-path=\"url(#clip910)\" style=\"stroke:#000000; stroke-linecap:round; stroke-linejoin:round; stroke-width:4; stroke-opacity:1; fill:none\" points=\"1963.13,1423.18 1963.13,1404.28 \"/>\n",
       "<polyline clip-path=\"url(#clip910)\" style=\"stroke:#000000; stroke-linecap:round; stroke-linejoin:round; stroke-width:4; stroke-opacity:1; fill:none\" points=\"2293.32,1423.18 2293.32,1404.28 \"/>\n",
       "<path clip-path=\"url(#clip910)\" d=\"M279.848 1481.64 L287.487 1481.64 L287.487 1455.28 L279.177 1456.95 L279.177 1452.69 L287.441 1451.02 L292.117 1451.02 L292.117 1481.64 L299.756 1481.64 L299.756 1485.58 L279.848 1485.58 L279.848 1481.64 Z\" fill=\"#000000\" fill-rule=\"evenodd\" fill-opacity=\"1\" /><path clip-path=\"url(#clip910)\" d=\"M309.2 1479.7 L314.084 1479.7 L314.084 1485.58 L309.2 1485.58 L309.2 1479.7 Z\" fill=\"#000000\" fill-rule=\"evenodd\" fill-opacity=\"1\" /><path clip-path=\"url(#clip910)\" d=\"M324.316 1451.02 L342.672 1451.02 L342.672 1454.96 L328.598 1454.96 L328.598 1463.43 Q329.617 1463.08 330.635 1462.92 Q331.654 1462.73 332.672 1462.73 Q338.459 1462.73 341.839 1465.9 Q345.218 1469.08 345.218 1474.49 Q345.218 1480.07 341.746 1483.17 Q338.274 1486.25 331.955 1486.25 Q329.779 1486.25 327.51 1485.88 Q325.265 1485.51 322.857 1484.77 L322.857 1480.07 Q324.941 1481.2 327.163 1481.76 Q329.385 1482.32 331.862 1482.32 Q335.867 1482.32 338.204 1480.21 Q340.542 1478.1 340.542 1474.49 Q340.542 1470.88 338.204 1468.77 Q335.867 1466.67 331.862 1466.67 Q329.987 1466.67 328.112 1467.08 Q326.26 1467.5 324.316 1468.38 L324.316 1451.02 Z\" fill=\"#000000\" fill-rule=\"evenodd\" fill-opacity=\"1\" /><path clip-path=\"url(#clip910)\" d=\"M613.624 1481.64 L629.943 1481.64 L629.943 1485.58 L607.999 1485.58 L607.999 1481.64 Q610.661 1478.89 615.244 1474.26 Q619.85 1469.61 621.031 1468.27 Q623.276 1465.74 624.156 1464.01 Q625.059 1462.25 625.059 1460.56 Q625.059 1457.8 623.114 1456.07 Q621.193 1454.33 618.091 1454.33 Q615.892 1454.33 613.438 1455.09 Q611.008 1455.86 608.23 1457.41 L608.23 1452.69 Q611.054 1451.55 613.508 1450.97 Q615.962 1450.39 617.999 1450.39 Q623.369 1450.39 626.563 1453.08 Q629.758 1455.77 629.758 1460.26 Q629.758 1462.39 628.948 1464.31 Q628.161 1466.2 626.054 1468.8 Q625.475 1469.47 622.374 1472.69 Q619.272 1475.88 613.624 1481.64 Z\" fill=\"#000000\" fill-rule=\"evenodd\" fill-opacity=\"1\" /><path clip-path=\"url(#clip910)\" d=\"M639.758 1479.7 L644.642 1479.7 L644.642 1485.58 L639.758 1485.58 L639.758 1479.7 Z\" fill=\"#000000\" fill-rule=\"evenodd\" fill-opacity=\"1\" /><path clip-path=\"url(#clip910)\" d=\"M664.827 1454.1 Q661.216 1454.1 659.387 1457.66 Q657.582 1461.2 657.582 1468.33 Q657.582 1475.44 659.387 1479.01 Q661.216 1482.55 664.827 1482.55 Q668.461 1482.55 670.267 1479.01 Q672.096 1475.44 672.096 1468.33 Q672.096 1461.2 670.267 1457.66 Q668.461 1454.1 664.827 1454.1 M664.827 1450.39 Q670.637 1450.39 673.693 1455 Q676.771 1459.58 676.771 1468.33 Q676.771 1477.06 673.693 1481.67 Q670.637 1486.25 664.827 1486.25 Q659.017 1486.25 655.938 1481.67 Q652.883 1477.06 652.883 1468.33 Q652.883 1459.58 655.938 1455 Q659.017 1450.39 664.827 1450.39 Z\" fill=\"#000000\" fill-rule=\"evenodd\" fill-opacity=\"1\" /><path clip-path=\"url(#clip910)\" d=\"M944.309 1481.64 L960.628 1481.64 L960.628 1485.58 L938.684 1485.58 L938.684 1481.64 Q941.346 1478.89 945.929 1474.26 Q950.536 1469.61 951.716 1468.27 Q953.962 1465.74 954.841 1464.01 Q955.744 1462.25 955.744 1460.56 Q955.744 1457.8 953.799 1456.07 Q951.878 1454.33 948.776 1454.33 Q946.577 1454.33 944.124 1455.09 Q941.693 1455.86 938.915 1457.41 L938.915 1452.69 Q941.739 1451.55 944.193 1450.97 Q946.647 1450.39 948.684 1450.39 Q954.054 1450.39 957.249 1453.08 Q960.443 1455.77 960.443 1460.26 Q960.443 1462.39 959.633 1464.31 Q958.846 1466.2 956.739 1468.8 Q956.161 1469.47 953.059 1472.69 Q949.957 1475.88 944.309 1481.64 Z\" fill=\"#000000\" fill-rule=\"evenodd\" fill-opacity=\"1\" /><path clip-path=\"url(#clip910)\" d=\"M970.443 1479.7 L975.327 1479.7 L975.327 1485.58 L970.443 1485.58 L970.443 1479.7 Z\" fill=\"#000000\" fill-rule=\"evenodd\" fill-opacity=\"1\" /><path clip-path=\"url(#clip910)\" d=\"M985.559 1451.02 L1003.91 1451.02 L1003.91 1454.96 L989.841 1454.96 L989.841 1463.43 Q990.859 1463.08 991.878 1462.92 Q992.896 1462.73 993.915 1462.73 Q999.702 1462.73 1003.08 1465.9 Q1006.46 1469.08 1006.46 1474.49 Q1006.46 1480.07 1002.99 1483.17 Q999.517 1486.25 993.197 1486.25 Q991.021 1486.25 988.753 1485.88 Q986.508 1485.51 984.1 1484.77 L984.1 1480.07 Q986.184 1481.2 988.406 1481.76 Q990.628 1482.32 993.105 1482.32 Q997.109 1482.32 999.447 1480.21 Q1001.79 1478.1 1001.79 1474.49 Q1001.79 1470.88 999.447 1468.77 Q997.109 1466.67 993.105 1466.67 Q991.23 1466.67 989.355 1467.08 Q987.503 1467.5 985.559 1468.38 L985.559 1451.02 Z\" fill=\"#000000\" fill-rule=\"evenodd\" fill-opacity=\"1\" /><path clip-path=\"url(#clip910)\" d=\"M1284.07 1466.95 Q1287.42 1467.66 1289.3 1469.93 Q1291.2 1472.2 1291.2 1475.53 Q1291.2 1480.65 1287.68 1483.45 Q1284.16 1486.25 1277.68 1486.25 Q1275.5 1486.25 1273.19 1485.81 Q1270.9 1485.39 1268.44 1484.54 L1268.44 1480.02 Q1270.39 1481.16 1272.7 1481.74 Q1275.02 1482.32 1277.54 1482.32 Q1281.94 1482.32 1284.23 1480.58 Q1286.54 1478.84 1286.54 1475.53 Q1286.54 1472.48 1284.39 1470.77 Q1282.26 1469.03 1278.44 1469.03 L1274.42 1469.03 L1274.42 1465.19 L1278.63 1465.19 Q1282.08 1465.19 1283.91 1463.82 Q1285.73 1462.43 1285.73 1459.84 Q1285.73 1457.18 1283.84 1455.77 Q1281.96 1454.33 1278.44 1454.33 Q1276.52 1454.33 1274.32 1454.75 Q1272.12 1455.16 1269.48 1456.04 L1269.48 1451.88 Q1272.15 1451.14 1274.46 1450.77 Q1276.8 1450.39 1278.86 1450.39 Q1284.18 1450.39 1287.29 1452.83 Q1290.39 1455.23 1290.39 1459.35 Q1290.39 1462.22 1288.74 1464.21 Q1287.1 1466.18 1284.07 1466.95 Z\" fill=\"#000000\" fill-rule=\"evenodd\" fill-opacity=\"1\" /><path clip-path=\"url(#clip910)\" d=\"M1300.06 1479.7 L1304.95 1479.7 L1304.95 1485.58 L1300.06 1485.58 L1300.06 1479.7 Z\" fill=\"#000000\" fill-rule=\"evenodd\" fill-opacity=\"1\" /><path clip-path=\"url(#clip910)\" d=\"M1325.13 1454.1 Q1321.52 1454.1 1319.69 1457.66 Q1317.89 1461.2 1317.89 1468.33 Q1317.89 1475.44 1319.69 1479.01 Q1321.52 1482.55 1325.13 1482.55 Q1328.77 1482.55 1330.57 1479.01 Q1332.4 1475.44 1332.4 1468.33 Q1332.4 1461.2 1330.57 1457.66 Q1328.77 1454.1 1325.13 1454.1 M1325.13 1450.39 Q1330.94 1450.39 1334 1455 Q1337.08 1459.58 1337.08 1468.33 Q1337.08 1477.06 1334 1481.67 Q1330.94 1486.25 1325.13 1486.25 Q1319.32 1486.25 1316.24 1481.67 Q1313.19 1477.06 1313.19 1468.33 Q1313.19 1459.58 1316.24 1455 Q1319.32 1450.39 1325.13 1450.39 Z\" fill=\"#000000\" fill-rule=\"evenodd\" fill-opacity=\"1\" /><path clip-path=\"url(#clip910)\" d=\"M1614.75 1466.95 Q1618.11 1467.66 1619.98 1469.93 Q1621.88 1472.2 1621.88 1475.53 Q1621.88 1480.65 1618.36 1483.45 Q1614.85 1486.25 1608.36 1486.25 Q1606.19 1486.25 1603.87 1485.81 Q1601.58 1485.39 1599.13 1484.54 L1599.13 1480.02 Q1601.07 1481.16 1603.39 1481.74 Q1605.7 1482.32 1608.23 1482.32 Q1612.62 1482.32 1614.92 1480.58 Q1617.23 1478.84 1617.23 1475.53 Q1617.23 1472.48 1615.08 1470.77 Q1612.95 1469.03 1609.13 1469.03 L1605.1 1469.03 L1605.1 1465.19 L1609.31 1465.19 Q1612.76 1465.19 1614.59 1463.82 Q1616.42 1462.43 1616.42 1459.84 Q1616.42 1457.18 1614.52 1455.77 Q1612.65 1454.33 1609.13 1454.33 Q1607.21 1454.33 1605.01 1454.75 Q1602.81 1455.16 1600.17 1456.04 L1600.17 1451.88 Q1602.83 1451.14 1605.15 1450.77 Q1607.48 1450.39 1609.54 1450.39 Q1614.87 1450.39 1617.97 1452.83 Q1621.07 1455.23 1621.07 1459.35 Q1621.07 1462.22 1619.43 1464.21 Q1617.79 1466.18 1614.75 1466.95 Z\" fill=\"#000000\" fill-rule=\"evenodd\" fill-opacity=\"1\" /><path clip-path=\"url(#clip910)\" d=\"M1630.75 1479.7 L1635.63 1479.7 L1635.63 1485.58 L1630.75 1485.58 L1630.75 1479.7 Z\" fill=\"#000000\" fill-rule=\"evenodd\" fill-opacity=\"1\" /><path clip-path=\"url(#clip910)\" d=\"M1645.86 1451.02 L1664.22 1451.02 L1664.22 1454.96 L1650.15 1454.96 L1650.15 1463.43 Q1651.16 1463.08 1652.18 1462.92 Q1653.2 1462.73 1654.22 1462.73 Q1660.01 1462.73 1663.39 1465.9 Q1666.77 1469.08 1666.77 1474.49 Q1666.77 1480.07 1663.29 1483.17 Q1659.82 1486.25 1653.5 1486.25 Q1651.33 1486.25 1649.06 1485.88 Q1646.81 1485.51 1644.41 1484.77 L1644.41 1480.07 Q1646.49 1481.2 1648.71 1481.76 Q1650.93 1482.32 1653.41 1482.32 Q1657.41 1482.32 1659.75 1480.21 Q1662.09 1478.1 1662.09 1474.49 Q1662.09 1470.88 1659.75 1468.77 Q1657.41 1466.67 1653.41 1466.67 Q1651.54 1466.67 1649.66 1467.08 Q1647.81 1467.5 1645.86 1468.38 L1645.86 1451.02 Z\" fill=\"#000000\" fill-rule=\"evenodd\" fill-opacity=\"1\" /><path clip-path=\"url(#clip910)\" d=\"M1943.77 1455.09 L1931.97 1473.54 L1943.77 1473.54 L1943.77 1455.09 M1942.54 1451.02 L1948.42 1451.02 L1948.42 1473.54 L1953.35 1473.54 L1953.35 1477.43 L1948.42 1477.43 L1948.42 1485.58 L1943.77 1485.58 L1943.77 1477.43 L1928.17 1477.43 L1928.17 1472.92 L1942.54 1451.02 Z\" fill=\"#000000\" fill-rule=\"evenodd\" fill-opacity=\"1\" /><path clip-path=\"url(#clip910)\" d=\"M1961.09 1479.7 L1965.97 1479.7 L1965.97 1485.58 L1961.09 1485.58 L1961.09 1479.7 Z\" fill=\"#000000\" fill-rule=\"evenodd\" fill-opacity=\"1\" /><path clip-path=\"url(#clip910)\" d=\"M1986.16 1454.1 Q1982.54 1454.1 1980.72 1457.66 Q1978.91 1461.2 1978.91 1468.33 Q1978.91 1475.44 1980.72 1479.01 Q1982.54 1482.55 1986.16 1482.55 Q1989.79 1482.55 1991.6 1479.01 Q1993.42 1475.44 1993.42 1468.33 Q1993.42 1461.2 1991.6 1457.66 Q1989.79 1454.1 1986.16 1454.1 M1986.16 1450.39 Q1991.97 1450.39 1995.02 1455 Q1998.1 1459.58 1998.1 1468.33 Q1998.1 1477.06 1995.02 1481.67 Q1991.97 1486.25 1986.16 1486.25 Q1980.35 1486.25 1977.27 1481.67 Q1974.21 1477.06 1974.21 1468.33 Q1974.21 1459.58 1977.27 1455 Q1980.35 1450.39 1986.16 1450.39 Z\" fill=\"#000000\" fill-rule=\"evenodd\" fill-opacity=\"1\" /><path clip-path=\"url(#clip910)\" d=\"M2274.46 1455.09 L2262.65 1473.54 L2274.46 1473.54 L2274.46 1455.09 M2273.23 1451.02 L2279.11 1451.02 L2279.11 1473.54 L2284.04 1473.54 L2284.04 1477.43 L2279.11 1477.43 L2279.11 1485.58 L2274.46 1485.58 L2274.46 1477.43 L2258.85 1477.43 L2258.85 1472.92 L2273.23 1451.02 Z\" fill=\"#000000\" fill-rule=\"evenodd\" fill-opacity=\"1\" /><path clip-path=\"url(#clip910)\" d=\"M2291.77 1479.7 L2296.66 1479.7 L2296.66 1485.58 L2291.77 1485.58 L2291.77 1479.7 Z\" fill=\"#000000\" fill-rule=\"evenodd\" fill-opacity=\"1\" /><path clip-path=\"url(#clip910)\" d=\"M2306.89 1451.02 L2325.24 1451.02 L2325.24 1454.96 L2311.17 1454.96 L2311.17 1463.43 Q2312.19 1463.08 2313.21 1462.92 Q2314.22 1462.73 2315.24 1462.73 Q2321.03 1462.73 2324.41 1465.9 Q2327.79 1469.08 2327.79 1474.49 Q2327.79 1480.07 2324.32 1483.17 Q2320.85 1486.25 2314.53 1486.25 Q2312.35 1486.25 2310.08 1485.88 Q2307.84 1485.51 2305.43 1484.77 L2305.43 1480.07 Q2307.51 1481.2 2309.73 1481.76 Q2311.96 1482.32 2314.43 1482.32 Q2318.44 1482.32 2320.78 1480.21 Q2323.11 1478.1 2323.11 1474.49 Q2323.11 1470.88 2320.78 1468.77 Q2318.44 1466.67 2314.43 1466.67 Q2312.56 1466.67 2310.68 1467.08 Q2308.83 1467.5 2306.89 1468.38 L2306.89 1451.02 Z\" fill=\"#000000\" fill-rule=\"evenodd\" fill-opacity=\"1\" /><path clip-path=\"url(#clip910)\" d=\"M1316.36 1561.83 Q1316.36 1562.44 1315.65 1562.51 L1314.2 1562.51 Q1312.72 1562.51 1312.07 1562.28 Q1311.43 1562.06 1310.69 1561.03 Q1310.24 1560.38 1309.11 1557.39 Q1308.02 1554.36 1306.41 1549.79 Q1304.83 1545.21 1303.76 1542.51 L1287.89 1561.25 Q1286.79 1562.64 1285.7 1562.64 Q1284.89 1562.64 1284.31 1562.09 Q1283.73 1561.54 1283.73 1560.7 Q1283.73 1560.09 1283.96 1559.74 Q1284.22 1559.38 1284.89 1558.67 L1303.12 1540.61 L1296.71 1522.67 Q1295.49 1519.35 1294.78 1518.51 Q1294.1 1517.68 1292.43 1517.39 Q1291.82 1517.23 1291.82 1516.71 Q1291.82 1516 1293.01 1516 Q1299.38 1516 1301.06 1520.67 L1314.52 1558.19 Q1315.26 1560.35 1316.03 1561.25 Q1316.36 1561.67 1316.36 1561.83 Z\" fill=\"#000000\" fill-rule=\"evenodd\" fill-opacity=\"1\" /><polyline clip-path=\"url(#clip912)\" style=\"stroke:#000000; stroke-linecap:round; stroke-linejoin:round; stroke-width:2; stroke-opacity:0.1; fill:none\" points=\"252.764,977.006 2352.76,977.006 \"/>\n",
       "<polyline clip-path=\"url(#clip912)\" style=\"stroke:#000000; stroke-linecap:round; stroke-linejoin:round; stroke-width:2; stroke-opacity:0.1; fill:none\" points=\"252.764,395.699 2352.76,395.699 \"/>\n",
       "<polyline clip-path=\"url(#clip910)\" style=\"stroke:#000000; stroke-linecap:round; stroke-linejoin:round; stroke-width:4; stroke-opacity:1; fill:none\" points=\"252.764,1423.18 252.764,47.2441 \"/>\n",
       "<polyline clip-path=\"url(#clip910)\" style=\"stroke:#000000; stroke-linecap:round; stroke-linejoin:round; stroke-width:4; stroke-opacity:1; fill:none\" points=\"252.764,977.006 271.662,977.006 \"/>\n",
       "<polyline clip-path=\"url(#clip910)\" style=\"stroke:#000000; stroke-linecap:round; stroke-linejoin:round; stroke-width:4; stroke-opacity:1; fill:none\" points=\"252.764,395.699 271.662,395.699 \"/>\n",
       "<path clip-path=\"url(#clip910)\" d=\"M114.931 996.798 L122.57 996.798 L122.57 970.433 L114.26 972.099 L114.26 967.84 L122.524 966.174 L127.2 966.174 L127.2 996.798 L134.839 996.798 L134.839 1000.73 L114.931 1000.73 L114.931 996.798 Z\" fill=\"#000000\" fill-rule=\"evenodd\" fill-opacity=\"1\" /><path clip-path=\"url(#clip910)\" d=\"M154.283 969.252 Q150.672 969.252 148.843 972.817 Q147.038 976.359 147.038 983.488 Q147.038 990.595 148.843 994.159 Q150.672 997.701 154.283 997.701 Q157.917 997.701 159.723 994.159 Q161.552 990.595 161.552 983.488 Q161.552 976.359 159.723 972.817 Q157.917 969.252 154.283 969.252 M154.283 965.549 Q160.093 965.549 163.149 970.155 Q166.227 974.738 166.227 983.488 Q166.227 992.215 163.149 996.822 Q160.093 1001.4 154.283 1001.4 Q148.473 1001.4 145.394 996.822 Q142.339 992.215 142.339 983.488 Q142.339 974.738 145.394 970.155 Q148.473 965.549 154.283 965.549 Z\" fill=\"#000000\" fill-rule=\"evenodd\" fill-opacity=\"1\" /><path clip-path=\"url(#clip910)\" d=\"M166.227 959.65 L190.339 959.65 L190.339 962.847 L166.227 962.847 L166.227 959.65 Z\" fill=\"#000000\" fill-rule=\"evenodd\" fill-opacity=\"1\" /><path clip-path=\"url(#clip910)\" d=\"M208.978 948.553 L199.386 963.543 L208.978 963.543 L208.978 948.553 M207.981 945.243 L212.758 945.243 L212.758 963.543 L216.764 963.543 L216.764 966.703 L212.758 966.703 L212.758 973.323 L208.978 973.323 L208.978 966.703 L196.301 966.703 L196.301 963.035 L207.981 945.243 Z\" fill=\"#000000\" fill-rule=\"evenodd\" fill-opacity=\"1\" /><path clip-path=\"url(#clip910)\" d=\"M115.853 415.491 L123.492 415.491 L123.492 389.126 L115.182 390.792 L115.182 386.533 L123.446 384.866 L128.121 384.866 L128.121 415.491 L135.76 415.491 L135.76 419.426 L115.853 419.426 L115.853 415.491 Z\" fill=\"#000000\" fill-rule=\"evenodd\" fill-opacity=\"1\" /><path clip-path=\"url(#clip910)\" d=\"M155.205 387.945 Q151.594 387.945 149.765 391.51 Q147.959 395.052 147.959 402.181 Q147.959 409.288 149.765 412.852 Q151.594 416.394 155.205 416.394 Q158.839 416.394 160.644 412.852 Q162.473 409.288 162.473 402.181 Q162.473 395.052 160.644 391.51 Q158.839 387.945 155.205 387.945 M155.205 384.241 Q161.015 384.241 164.07 388.848 Q167.149 393.431 167.149 402.181 Q167.149 410.908 164.07 415.514 Q161.015 420.098 155.205 420.098 Q149.395 420.098 146.316 415.514 Q143.26 410.908 143.26 402.181 Q143.26 393.431 146.316 388.848 Q149.395 384.241 155.205 384.241 Z\" fill=\"#000000\" fill-rule=\"evenodd\" fill-opacity=\"1\" /><path clip-path=\"url(#clip910)\" d=\"M167.149 378.343 L191.261 378.343 L191.261 381.54 L167.149 381.54 L167.149 378.343 Z\" fill=\"#000000\" fill-rule=\"evenodd\" fill-opacity=\"1\" /><path clip-path=\"url(#clip910)\" d=\"M210.971 376.876 Q213.698 377.459 215.222 379.302 Q216.764 381.145 216.764 383.853 Q216.764 388.01 213.905 390.286 Q211.046 392.561 205.78 392.561 Q204.012 392.561 202.132 392.204 Q200.27 391.866 198.276 391.17 L198.276 387.502 Q199.856 388.424 201.737 388.894 Q203.617 389.364 205.667 389.364 Q209.241 389.364 211.103 387.954 Q212.984 386.543 212.984 383.853 Q212.984 381.371 211.234 379.979 Q209.504 378.568 206.401 378.568 L203.128 378.568 L203.128 375.446 L206.551 375.446 Q209.354 375.446 210.84 374.337 Q212.325 373.208 212.325 371.102 Q212.325 368.939 210.783 367.792 Q209.26 366.626 206.401 366.626 Q204.84 366.626 203.053 366.964 Q201.266 367.303 199.122 368.017 L199.122 364.632 Q201.285 364.03 203.166 363.729 Q205.066 363.428 206.739 363.428 Q211.065 363.428 213.585 365.403 Q216.106 367.359 216.106 370.707 Q216.106 373.039 214.77 374.656 Q213.435 376.255 210.971 376.876 Z\" fill=\"#000000\" fill-rule=\"evenodd\" fill-opacity=\"1\" /><path clip-path=\"url(#clip910)\" d=\"M27.4115 711.512 L27.9912 712.575 Q28.6354 713.509 30.3745 713.896 L49.5048 718.694 Q58.0071 720.788 63.4177 721.722 Q66.4772 722.205 67.7011 721.271 Q68.2164 720.852 68.2164 719.886 Q68.2164 718.823 67.3146 717.31 Q66.7671 716.408 65.1246 714.153 L66.2518 713.413 Q69.2147 716.601 71.1793 720.272 Q72.9184 723.3 72.9184 725.168 Q72.9184 726.714 71.9844 727.261 Q71.4047 727.68 70.0199 727.809 Q68.6994 727.809 66.7671 727.261 L56.3646 724.685 L56.3646 739.274 Q60.2937 741.722 63.8686 744.91 Q67.4112 748.098 69.408 750.546 Q72.5641 754.54 72.5641 758.211 Q72.5641 760.626 70.9217 761.979 Q69.1503 763.203 66.3162 762.559 Q64.7381 762.076 63.8686 760.916 Q63.2889 760.208 63.2889 758.791 Q63.2889 757.535 64.1906 757.019 Q64.6093 756.601 65.3822 756.826 Q65.6399 756.891 66.445 757.213 Q67.1858 757.599 68.0231 757.792 Q68.474 757.921 69.2147 757.47 Q69.8911 756.891 69.8911 755.957 Q69.8911 754.411 68.635 752.865 Q67.0892 750.932 63.4821 748.163 Q62.8702 747.68 61.1633 746.552 Q59.4564 745.425 57.8461 744.427 Q56.2358 743.396 53.5627 741.754 Q50.8896 740.079 49.8268 739.403 Q41.7753 734.443 37.3631 731.222 Q32.2746 727.551 30.3745 724.363 Q28.6676 721.529 27.6048 718.694 Q26.6386 716.15 26.1555 711.512 L27.4115 711.512 M29.827 718.115 L29.1184 718.501 Q29.5371 720.498 31.083 722.462 Q32.017 723.654 33.4662 724.91 Q34.9155 726.166 35.7851 726.778 Q36.6224 727.358 38.6192 728.71 Q44.062 732.35 53.5305 737.438 L53.5305 724.041 L29.827 718.115 Z\" fill=\"#000000\" fill-rule=\"evenodd\" fill-opacity=\"1\" /><circle clip-path=\"url(#clip912)\" cx=\"312.198\" cy=\"86.1857\" r=\"14.4\" fill=\"#009af9\" fill-rule=\"evenodd\" fill-opacity=\"1\" stroke=\"#000000\" stroke-opacity=\"1\" stroke-width=\"3.2\"/>\n",
       "<circle clip-path=\"url(#clip912)\" cx=\"1302.76\" cy=\"767.285\" r=\"14.4\" fill=\"#009af9\" fill-rule=\"evenodd\" fill-opacity=\"1\" stroke=\"#000000\" stroke-opacity=\"1\" stroke-width=\"3.2\"/>\n",
       "<circle clip-path=\"url(#clip912)\" cx=\"2293.32\" cy=\"1166.35\" r=\"14.4\" fill=\"#009af9\" fill-rule=\"evenodd\" fill-opacity=\"1\" stroke=\"#000000\" stroke-opacity=\"1\" stroke-width=\"3.2\"/>\n",
       "<circle clip-path=\"url(#clip912)\" cx=\"312.198\" cy=\"111.442\" r=\"14.4\" fill=\"#e26f46\" fill-rule=\"evenodd\" fill-opacity=\"1\" stroke=\"#000000\" stroke-opacity=\"1\" stroke-width=\"3.2\"/>\n",
       "<circle clip-path=\"url(#clip912)\" cx=\"1302.76\" cy=\"765.621\" r=\"14.4\" fill=\"#e26f46\" fill-rule=\"evenodd\" fill-opacity=\"1\" stroke=\"#000000\" stroke-opacity=\"1\" stroke-width=\"3.2\"/>\n",
       "<circle clip-path=\"url(#clip912)\" cx=\"2293.32\" cy=\"1165.67\" r=\"14.4\" fill=\"#e26f46\" fill-rule=\"evenodd\" fill-opacity=\"1\" stroke=\"#000000\" stroke-opacity=\"1\" stroke-width=\"3.2\"/>\n",
       "<circle clip-path=\"url(#clip912)\" cx=\"312.198\" cy=\"552.176\" r=\"14.4\" fill=\"#3da44d\" fill-rule=\"evenodd\" fill-opacity=\"1\" stroke=\"#000000\" stroke-opacity=\"1\" stroke-width=\"3.2\"/>\n",
       "<circle clip-path=\"url(#clip912)\" cx=\"1302.76\" cy=\"1077.15\" r=\"14.4\" fill=\"#3da44d\" fill-rule=\"evenodd\" fill-opacity=\"1\" stroke=\"#000000\" stroke-opacity=\"1\" stroke-width=\"3.2\"/>\n",
       "<circle clip-path=\"url(#clip912)\" cx=\"2293.32\" cy=\"1384.24\" r=\"14.4\" fill=\"#3da44d\" fill-rule=\"evenodd\" fill-opacity=\"1\" stroke=\"#000000\" stroke-opacity=\"1\" stroke-width=\"3.2\"/>\n",
       "<path clip-path=\"url(#clip910)\" d=\"M1750.31 300.469 L2282.76 300.469 L2282.76 93.1086 L1750.31 93.1086  Z\" fill=\"#ffffff\" fill-rule=\"evenodd\" fill-opacity=\"1\"/>\n",
       "<polyline clip-path=\"url(#clip910)\" style=\"stroke:#000000; stroke-linecap:round; stroke-linejoin:round; stroke-width:4; stroke-opacity:1; fill:none\" points=\"1750.31,300.469 2282.76,300.469 2282.76,93.1086 1750.31,93.1086 1750.31,300.469 \"/>\n",
       "<circle clip-path=\"url(#clip910)\" cx=\"1843.64\" cy=\"144.949\" r=\"23.04\" fill=\"#009af9\" fill-rule=\"evenodd\" fill-opacity=\"1\" stroke=\"#000000\" stroke-opacity=\"1\" stroke-width=\"5.12\"/>\n",
       "<path clip-path=\"url(#clip910)\" d=\"M1941.37 149.289 Q1941.37 153.988 1943.29 156.673 Q1945.23 159.335 1948.61 159.335 Q1951.99 159.335 1953.94 156.673 Q1955.88 153.988 1955.88 149.289 Q1955.88 144.59 1953.94 141.928 Q1951.99 139.243 1948.61 139.243 Q1945.23 139.243 1943.29 141.928 Q1941.37 144.59 1941.37 149.289 M1955.88 158.34 Q1954.54 160.655 1952.48 161.789 Q1950.44 162.9 1947.57 162.9 Q1942.87 162.9 1939.91 159.15 Q1936.97 155.4 1936.97 149.289 Q1936.97 143.178 1939.91 139.428 Q1942.87 135.678 1947.57 135.678 Q1950.44 135.678 1952.48 136.812 Q1954.54 137.923 1955.88 140.238 L1955.88 136.303 L1960.14 136.303 L1960.14 172.09 L1955.88 172.09 L1955.88 158.34 Z\" fill=\"#000000\" fill-rule=\"evenodd\" fill-opacity=\"1\" /><path clip-path=\"url(#clip910)\" d=\"M1968.48 151.997 L1968.48 136.303 L1972.73 136.303 L1972.73 151.835 Q1972.73 155.516 1974.17 157.368 Q1975.61 159.196 1978.48 159.196 Q1981.92 159.196 1983.92 156.997 Q1985.93 154.798 1985.93 151.002 L1985.93 136.303 L1990.19 136.303 L1990.19 162.229 L1985.93 162.229 L1985.93 158.247 Q1984.38 160.608 1982.32 161.766 Q1980.28 162.9 1977.57 162.9 Q1973.11 162.9 1970.79 160.122 Q1968.48 157.344 1968.48 151.997 M1979.19 135.678 L1979.19 135.678 Z\" fill=\"#000000\" fill-rule=\"evenodd\" fill-opacity=\"1\" /><path clip-path=\"url(#clip910)\" d=\"M2010.74 149.196 Q2005.58 149.196 2003.59 150.377 Q2001.6 151.557 2001.6 154.405 Q2001.6 156.673 2003.08 158.016 Q2004.59 159.335 2007.16 159.335 Q2010.7 159.335 2012.83 156.835 Q2014.98 154.312 2014.98 150.145 L2014.98 149.196 L2010.74 149.196 M2019.24 147.437 L2019.24 162.229 L2014.98 162.229 L2014.98 158.293 Q2013.52 160.655 2011.35 161.789 Q2009.17 162.9 2006.02 162.9 Q2002.04 162.9 1999.68 160.678 Q1997.34 158.432 1997.34 154.682 Q1997.34 150.307 2000.26 148.085 Q2003.2 145.863 2009.01 145.863 L2014.98 145.863 L2014.98 145.446 Q2014.98 142.507 2013.04 140.909 Q2011.11 139.289 2007.62 139.289 Q2005.4 139.289 2003.29 139.821 Q2001.18 140.354 1999.24 141.419 L1999.24 137.483 Q2001.58 136.581 2003.78 136.141 Q2005.98 135.678 2008.06 135.678 Q2013.68 135.678 2016.46 138.594 Q2019.24 141.511 2019.24 147.437 Z\" fill=\"#000000\" fill-rule=\"evenodd\" fill-opacity=\"1\" /><path clip-path=\"url(#clip910)\" d=\"M2049.56 146.581 L2049.56 162.229 L2045.3 162.229 L2045.3 146.719 Q2045.3 143.039 2043.87 141.21 Q2042.43 139.382 2039.56 139.382 Q2036.11 139.382 2034.12 141.581 Q2032.13 143.78 2032.13 147.576 L2032.13 162.229 L2027.85 162.229 L2027.85 136.303 L2032.13 136.303 L2032.13 140.331 Q2033.66 137.993 2035.72 136.835 Q2037.8 135.678 2040.51 135.678 Q2044.98 135.678 2047.27 138.456 Q2049.56 141.21 2049.56 146.581 Z\" fill=\"#000000\" fill-rule=\"evenodd\" fill-opacity=\"1\" /><path clip-path=\"url(#clip910)\" d=\"M2062.27 128.942 L2062.27 136.303 L2071.04 136.303 L2071.04 139.613 L2062.27 139.613 L2062.27 153.687 Q2062.27 156.858 2063.13 157.761 Q2064.01 158.664 2066.67 158.664 L2071.04 158.664 L2071.04 162.229 L2066.67 162.229 Q2061.74 162.229 2059.86 160.4 Q2057.99 158.548 2057.99 153.687 L2057.99 139.613 L2054.86 139.613 L2054.86 136.303 L2057.99 136.303 L2057.99 128.942 L2062.27 128.942 Z\" fill=\"#000000\" fill-rule=\"evenodd\" fill-opacity=\"1\" /><path clip-path=\"url(#clip910)\" d=\"M2076.21 151.997 L2076.21 136.303 L2080.47 136.303 L2080.47 151.835 Q2080.47 155.516 2081.9 157.368 Q2083.34 159.196 2086.21 159.196 Q2089.66 159.196 2091.65 156.997 Q2093.66 154.798 2093.66 151.002 L2093.66 136.303 L2097.92 136.303 L2097.92 162.229 L2093.66 162.229 L2093.66 158.247 Q2092.11 160.608 2090.05 161.766 Q2088.01 162.9 2085.3 162.9 Q2080.84 162.9 2078.52 160.122 Q2076.21 157.344 2076.21 151.997 M2086.92 135.678 L2086.92 135.678 Z\" fill=\"#000000\" fill-rule=\"evenodd\" fill-opacity=\"1\" /><path clip-path=\"url(#clip910)\" d=\"M2126.88 141.28 Q2128.47 138.409 2130.7 137.044 Q2132.92 135.678 2135.93 135.678 Q2139.98 135.678 2142.18 138.525 Q2144.38 141.349 2144.38 146.581 L2144.38 162.229 L2140.09 162.229 L2140.09 146.719 Q2140.09 142.993 2138.78 141.187 Q2137.46 139.382 2134.75 139.382 Q2131.44 139.382 2129.52 141.581 Q2127.59 143.78 2127.59 147.576 L2127.59 162.229 L2123.31 162.229 L2123.31 146.719 Q2123.31 142.969 2121.99 141.187 Q2120.67 139.382 2117.92 139.382 Q2114.66 139.382 2112.73 141.604 Q2110.81 143.803 2110.81 147.576 L2110.81 162.229 L2106.53 162.229 L2106.53 136.303 L2110.81 136.303 L2110.81 140.331 Q2112.27 137.946 2114.31 136.812 Q2116.34 135.678 2119.15 135.678 Q2121.97 135.678 2123.94 137.113 Q2125.93 138.548 2126.88 141.28 Z\" fill=\"#000000\" fill-rule=\"evenodd\" fill-opacity=\"1\" /><circle clip-path=\"url(#clip910)\" cx=\"1843.64\" cy=\"196.789\" r=\"23.04\" fill=\"#e26f46\" fill-rule=\"evenodd\" fill-opacity=\"1\" stroke=\"#000000\" stroke-opacity=\"1\" stroke-width=\"5.12\"/>\n",
       "<path clip-path=\"url(#clip910)\" d=\"M1961 200.041 L1961 202.124 L1941.42 202.124 Q1941.69 206.522 1944.05 208.837 Q1946.44 211.129 1950.67 211.129 Q1953.13 211.129 1955.42 210.527 Q1957.73 209.925 1960 208.721 L1960 212.749 Q1957.71 213.721 1955.3 214.231 Q1952.9 214.74 1950.42 214.74 Q1944.22 214.74 1940.58 211.129 Q1936.97 207.518 1936.97 201.36 Q1936.97 194.995 1940.4 191.268 Q1943.85 187.518 1949.68 187.518 Q1954.91 187.518 1957.94 190.897 Q1961 194.254 1961 200.041 M1956.74 198.791 Q1956.69 195.296 1954.77 193.212 Q1952.87 191.129 1949.73 191.129 Q1946.16 191.129 1944.01 193.143 Q1941.88 195.157 1941.55 198.814 L1956.74 198.791 Z\" fill=\"#000000\" fill-rule=\"evenodd\" fill-opacity=\"1\" /><path clip-path=\"url(#clip910)\" d=\"M1988.71 188.143 L1979.33 200.759 L1989.19 214.069 L1984.17 214.069 L1976.62 203.883 L1969.08 214.069 L1964.05 214.069 L1974.12 200.504 L1964.91 188.143 L1969.93 188.143 L1976.81 197.379 L1983.68 188.143 L1988.71 188.143 Z\" fill=\"#000000\" fill-rule=\"evenodd\" fill-opacity=\"1\" /><path clip-path=\"url(#clip910)\" d=\"M1999.42 180.782 L1999.42 188.143 L2008.2 188.143 L2008.2 191.453 L1999.42 191.453 L1999.42 205.527 Q1999.42 208.698 2000.28 209.601 Q2001.16 210.504 2003.82 210.504 L2008.2 210.504 L2008.2 214.069 L2003.82 214.069 Q1998.89 214.069 1997.02 212.24 Q1995.14 210.388 1995.14 205.527 L1995.14 191.453 L1992.02 191.453 L1992.02 188.143 L1995.14 188.143 L1995.14 180.782 L1999.42 180.782 Z\" fill=\"#000000\" fill-rule=\"evenodd\" fill-opacity=\"1\" /><path clip-path=\"url(#clip910)\" d=\"M2028.82 192.124 Q2028.1 191.708 2027.25 191.522 Q2026.41 191.314 2025.4 191.314 Q2021.79 191.314 2019.84 193.675 Q2017.92 196.013 2017.92 200.411 L2017.92 214.069 L2013.64 214.069 L2013.64 188.143 L2017.92 188.143 L2017.92 192.171 Q2019.26 189.809 2021.41 188.675 Q2023.57 187.518 2026.65 187.518 Q2027.09 187.518 2027.62 187.587 Q2028.15 187.634 2028.8 187.749 L2028.82 192.124 Z\" fill=\"#000000\" fill-rule=\"evenodd\" fill-opacity=\"1\" /><path clip-path=\"url(#clip910)\" d=\"M2045.07 201.036 Q2039.91 201.036 2037.92 202.217 Q2035.93 203.397 2035.93 206.245 Q2035.93 208.513 2037.41 209.856 Q2038.91 211.175 2041.48 211.175 Q2045.03 211.175 2047.16 208.675 Q2049.31 206.152 2049.31 201.985 L2049.31 201.036 L2045.07 201.036 M2053.57 199.277 L2053.57 214.069 L2049.31 214.069 L2049.31 210.133 Q2047.85 212.495 2045.67 213.629 Q2043.5 214.74 2040.35 214.74 Q2036.37 214.74 2034.01 212.518 Q2031.67 210.272 2031.67 206.522 Q2031.67 202.147 2034.59 199.925 Q2037.53 197.703 2043.34 197.703 L2049.31 197.703 L2049.31 197.286 Q2049.31 194.347 2047.36 192.749 Q2045.44 191.129 2041.95 191.129 Q2039.73 191.129 2037.62 191.661 Q2035.51 192.194 2033.57 193.259 L2033.57 189.323 Q2035.91 188.421 2038.1 187.981 Q2040.3 187.518 2042.39 187.518 Q2048.01 187.518 2050.79 190.434 Q2053.57 193.351 2053.57 199.277 Z\" fill=\"#000000\" fill-rule=\"evenodd\" fill-opacity=\"1\" /><path clip-path=\"url(#clip910)\" d=\"M2066.46 210.18 L2066.46 223.93 L2062.18 223.93 L2062.18 188.143 L2066.46 188.143 L2066.46 192.078 Q2067.8 189.763 2069.84 188.652 Q2071.9 187.518 2074.75 187.518 Q2079.47 187.518 2082.41 191.268 Q2085.37 195.018 2085.37 201.129 Q2085.37 207.24 2082.41 210.99 Q2079.47 214.74 2074.75 214.74 Q2071.9 214.74 2069.84 213.629 Q2067.8 212.495 2066.46 210.18 M2080.95 201.129 Q2080.95 196.43 2079.01 193.768 Q2077.09 191.083 2073.71 191.083 Q2070.33 191.083 2068.38 193.768 Q2066.46 196.43 2066.46 201.129 Q2066.46 205.828 2068.38 208.513 Q2070.33 211.175 2073.71 211.175 Q2077.09 211.175 2079.01 208.513 Q2080.95 205.828 2080.95 201.129 Z\" fill=\"#000000\" fill-rule=\"evenodd\" fill-opacity=\"1\" /><path clip-path=\"url(#clip910)\" d=\"M2102.48 191.129 Q2099.05 191.129 2097.06 193.814 Q2095.07 196.476 2095.07 201.129 Q2095.07 205.782 2097.04 208.467 Q2099.03 211.129 2102.48 211.129 Q2105.88 211.129 2107.87 208.444 Q2109.86 205.758 2109.86 201.129 Q2109.86 196.522 2107.87 193.837 Q2105.88 191.129 2102.48 191.129 M2102.48 187.518 Q2108.03 187.518 2111.21 191.129 Q2114.38 194.74 2114.38 201.129 Q2114.38 207.495 2111.21 211.129 Q2108.03 214.74 2102.48 214.74 Q2096.9 214.74 2093.73 211.129 Q2090.58 207.495 2090.58 201.129 Q2090.58 194.74 2093.73 191.129 Q2096.9 187.518 2102.48 187.518 Z\" fill=\"#000000\" fill-rule=\"evenodd\" fill-opacity=\"1\" /><path clip-path=\"url(#clip910)\" d=\"M2121.44 178.05 L2125.7 178.05 L2125.7 214.069 L2121.44 214.069 L2121.44 178.05 Z\" fill=\"#000000\" fill-rule=\"evenodd\" fill-opacity=\"1\" /><path clip-path=\"url(#clip910)\" d=\"M2146.39 201.036 Q2141.23 201.036 2139.24 202.217 Q2137.25 203.397 2137.25 206.245 Q2137.25 208.513 2138.73 209.856 Q2140.23 211.175 2142.8 211.175 Q2146.34 211.175 2148.47 208.675 Q2150.63 206.152 2150.63 201.985 L2150.63 201.036 L2146.39 201.036 M2154.89 199.277 L2154.89 214.069 L2150.63 214.069 L2150.63 210.133 Q2149.17 212.495 2146.99 213.629 Q2144.82 214.74 2141.67 214.74 Q2137.69 214.74 2135.33 212.518 Q2132.99 210.272 2132.99 206.522 Q2132.99 202.147 2135.91 199.925 Q2138.84 197.703 2144.66 197.703 L2150.63 197.703 L2150.63 197.286 Q2150.63 194.347 2148.68 192.749 Q2146.76 191.129 2143.27 191.129 Q2141.04 191.129 2138.94 191.661 Q2136.83 192.194 2134.89 193.259 L2134.89 189.323 Q2137.22 188.421 2139.42 187.981 Q2141.62 187.518 2143.71 187.518 Q2149.33 187.518 2152.11 190.434 Q2154.89 193.351 2154.89 199.277 Z\" fill=\"#000000\" fill-rule=\"evenodd\" fill-opacity=\"1\" /><path clip-path=\"url(#clip910)\" d=\"M2167.87 180.782 L2167.87 188.143 L2176.65 188.143 L2176.65 191.453 L2167.87 191.453 L2167.87 205.527 Q2167.87 208.698 2168.73 209.601 Q2169.61 210.504 2172.27 210.504 L2176.65 210.504 L2176.65 214.069 L2172.27 214.069 Q2167.34 214.069 2165.47 212.24 Q2163.59 210.388 2163.59 205.527 L2163.59 191.453 L2160.47 191.453 L2160.47 188.143 L2163.59 188.143 L2163.59 180.782 L2167.87 180.782 Z\" fill=\"#000000\" fill-rule=\"evenodd\" fill-opacity=\"1\" /><path clip-path=\"url(#clip910)\" d=\"M2204.42 200.041 L2204.42 202.124 L2184.84 202.124 Q2185.12 206.522 2187.48 208.837 Q2189.86 211.129 2194.1 211.129 Q2196.55 211.129 2198.84 210.527 Q2201.16 209.925 2203.43 208.721 L2203.43 212.749 Q2201.14 213.721 2198.73 214.231 Q2196.32 214.74 2193.84 214.74 Q2187.64 214.74 2184.01 211.129 Q2180.4 207.518 2180.4 201.36 Q2180.4 194.995 2183.82 191.268 Q2187.27 187.518 2193.1 187.518 Q2198.34 187.518 2201.37 190.897 Q2204.42 194.254 2204.42 200.041 M2200.16 198.791 Q2200.12 195.296 2198.2 193.212 Q2196.3 191.129 2193.15 191.129 Q2189.59 191.129 2187.43 193.143 Q2185.3 195.157 2184.98 198.814 L2200.16 198.791 Z\" fill=\"#000000\" fill-rule=\"evenodd\" fill-opacity=\"1\" /><path clip-path=\"url(#clip910)\" d=\"M2228.47 192.078 L2228.47 178.05 L2232.73 178.05 L2232.73 214.069 L2228.47 214.069 L2228.47 210.18 Q2227.13 212.495 2225.07 213.629 Q2223.03 214.74 2220.16 214.74 Q2215.46 214.74 2212.5 210.99 Q2209.56 207.24 2209.56 201.129 Q2209.56 195.018 2212.5 191.268 Q2215.46 187.518 2220.16 187.518 Q2223.03 187.518 2225.07 188.652 Q2227.13 189.763 2228.47 192.078 M2213.96 201.129 Q2213.96 205.828 2215.88 208.513 Q2217.83 211.175 2221.21 211.175 Q2224.59 211.175 2226.53 208.513 Q2228.47 205.828 2228.47 201.129 Q2228.47 196.43 2226.53 193.768 Q2224.59 191.083 2221.21 191.083 Q2217.83 191.083 2215.88 193.768 Q2213.96 196.43 2213.96 201.129 Z\" fill=\"#000000\" fill-rule=\"evenodd\" fill-opacity=\"1\" /><circle clip-path=\"url(#clip910)\" cx=\"1843.64\" cy=\"248.629\" r=\"23.04\" fill=\"#3da44d\" fill-rule=\"evenodd\" fill-opacity=\"1\" stroke=\"#000000\" stroke-opacity=\"1\" stroke-width=\"5.12\"/>\n",
       "<path clip-path=\"url(#clip910)\" d=\"M1955.4 240.747 L1955.4 244.774 Q1953.59 243.849 1951.65 243.386 Q1949.7 242.923 1947.62 242.923 Q1944.45 242.923 1942.85 243.895 Q1941.28 244.867 1941.28 246.811 Q1941.28 248.293 1942.41 249.149 Q1943.54 249.983 1946.97 250.747 L1948.43 251.071 Q1952.97 252.043 1954.86 253.825 Q1956.79 255.585 1956.79 258.756 Q1956.79 262.367 1953.92 264.473 Q1951.07 266.58 1946.07 266.58 Q1943.98 266.58 1941.72 266.163 Q1939.47 265.77 1936.97 264.96 L1936.97 260.561 Q1939.33 261.788 1941.62 262.413 Q1943.92 263.015 1946.16 263.015 Q1949.17 263.015 1950.79 261.997 Q1952.41 260.955 1952.41 259.08 Q1952.41 257.344 1951.23 256.418 Q1950.07 255.492 1946.11 254.636 L1944.63 254.288 Q1940.67 253.455 1938.92 251.742 Q1937.16 250.006 1937.16 246.997 Q1937.16 243.339 1939.75 241.349 Q1942.34 239.358 1947.11 239.358 Q1949.47 239.358 1951.55 239.705 Q1953.64 240.052 1955.4 240.747 Z\" fill=\"#000000\" fill-rule=\"evenodd\" fill-opacity=\"1\" /><path clip-path=\"url(#clip910)\" d=\"M1985.74 251.881 L1985.74 253.964 L1966.16 253.964 Q1966.44 258.362 1968.8 260.677 Q1971.18 262.969 1975.42 262.969 Q1977.87 262.969 1980.17 262.367 Q1982.48 261.765 1984.75 260.561 L1984.75 264.589 Q1982.46 265.561 1980.05 266.071 Q1977.64 266.58 1975.17 266.58 Q1968.96 266.58 1965.33 262.969 Q1961.72 259.358 1961.72 253.2 Q1961.72 246.835 1965.14 243.108 Q1968.59 239.358 1974.42 239.358 Q1979.66 239.358 1982.69 242.737 Q1985.74 246.094 1985.74 251.881 M1981.48 250.631 Q1981.44 247.136 1979.52 245.052 Q1977.62 242.969 1974.47 242.969 Q1970.91 242.969 1968.75 244.983 Q1966.62 246.997 1966.3 250.654 L1981.48 250.631 Z\" fill=\"#000000\" fill-rule=\"evenodd\" fill-opacity=\"1\" /><path clip-path=\"url(#clip910)\" d=\"M2012.92 244.96 Q2014.52 242.089 2016.74 240.724 Q2018.96 239.358 2021.97 239.358 Q2026.02 239.358 2028.22 242.205 Q2030.42 245.029 2030.42 250.261 L2030.42 265.909 L2026.14 265.909 L2026.14 250.399 Q2026.14 246.673 2024.82 244.867 Q2023.5 243.062 2020.79 243.062 Q2017.48 243.062 2015.56 245.261 Q2013.64 247.46 2013.64 251.256 L2013.64 265.909 L2009.35 265.909 L2009.35 250.399 Q2009.35 246.649 2008.04 244.867 Q2006.72 243.062 2003.96 243.062 Q2000.7 243.062 1998.78 245.284 Q1996.85 247.483 1996.85 251.256 L1996.85 265.909 L1992.57 265.909 L1992.57 239.983 L1996.85 239.983 L1996.85 244.011 Q1998.31 241.626 2000.35 240.492 Q2002.39 239.358 2005.19 239.358 Q2008.01 239.358 2009.98 240.793 Q2011.97 242.228 2012.92 244.96 Z\" fill=\"#000000\" fill-rule=\"evenodd\" fill-opacity=\"1\" /><path clip-path=\"url(#clip910)\" d=\"M2038.91 239.983 L2043.17 239.983 L2043.17 265.909 L2038.91 265.909 L2038.91 239.983 M2038.91 229.89 L2043.17 229.89 L2043.17 235.284 L2038.91 235.284 L2038.91 229.89 Z\" fill=\"#000000\" fill-rule=\"evenodd\" fill-opacity=\"1\" /><path clip-path=\"url(#clip910)\" d=\"M2049.93 251.024 L2062.41 251.024 L2062.41 254.821 L2049.93 254.821 L2049.93 251.024 Z\" fill=\"#000000\" fill-rule=\"evenodd\" fill-opacity=\"1\" /><path clip-path=\"url(#clip910)\" d=\"M2087.85 240.978 L2087.85 244.96 Q2086.04 243.964 2084.22 243.478 Q2082.41 242.969 2080.56 242.969 Q2076.41 242.969 2074.12 245.608 Q2071.83 248.224 2071.83 252.969 Q2071.83 257.714 2074.12 260.353 Q2076.41 262.969 2080.56 262.969 Q2082.41 262.969 2084.22 262.483 Q2086.04 261.973 2087.85 260.978 L2087.85 264.913 Q2086.07 265.747 2084.15 266.163 Q2082.25 266.58 2080.1 266.58 Q2074.24 266.58 2070.79 262.899 Q2067.34 259.219 2067.34 252.969 Q2067.34 246.626 2070.81 242.992 Q2074.31 239.358 2080.37 239.358 Q2082.34 239.358 2084.22 239.775 Q2086.09 240.168 2087.85 240.978 Z\" fill=\"#000000\" fill-rule=\"evenodd\" fill-opacity=\"1\" /><path clip-path=\"url(#clip910)\" d=\"M2095.26 229.89 L2099.52 229.89 L2099.52 265.909 L2095.26 265.909 L2095.26 229.89 Z\" fill=\"#000000\" fill-rule=\"evenodd\" fill-opacity=\"1\" /><path clip-path=\"url(#clip910)\" d=\"M2120.21 252.876 Q2115.05 252.876 2113.06 254.057 Q2111.07 255.237 2111.07 258.085 Q2111.07 260.353 2112.55 261.696 Q2114.05 263.015 2116.62 263.015 Q2120.16 263.015 2122.29 260.515 Q2124.45 257.992 2124.45 253.825 L2124.45 252.876 L2120.21 252.876 M2128.71 251.117 L2128.71 265.909 L2124.45 265.909 L2124.45 261.973 Q2122.99 264.335 2120.81 265.469 Q2118.64 266.58 2115.49 266.58 Q2111.51 266.58 2109.15 264.358 Q2106.81 262.112 2106.81 258.362 Q2106.81 253.987 2109.72 251.765 Q2112.66 249.543 2118.47 249.543 L2124.45 249.543 L2124.45 249.126 Q2124.45 246.187 2122.5 244.589 Q2120.58 242.969 2117.09 242.969 Q2114.86 242.969 2112.76 243.501 Q2110.65 244.034 2108.71 245.099 L2108.71 241.163 Q2111.04 240.261 2113.24 239.821 Q2115.44 239.358 2117.53 239.358 Q2123.15 239.358 2125.93 242.274 Q2128.71 245.191 2128.71 251.117 Z\" fill=\"#000000\" fill-rule=\"evenodd\" fill-opacity=\"1\" /><path clip-path=\"url(#clip910)\" d=\"M2154.01 240.747 L2154.01 244.774 Q2152.2 243.849 2150.26 243.386 Q2148.31 242.923 2146.23 242.923 Q2143.06 242.923 2141.46 243.895 Q2139.89 244.867 2139.89 246.811 Q2139.89 248.293 2141.02 249.149 Q2142.16 249.983 2145.58 250.747 L2147.04 251.071 Q2151.58 252.043 2153.47 253.825 Q2155.4 255.585 2155.4 258.756 Q2155.4 262.367 2152.53 264.473 Q2149.68 266.58 2144.68 266.58 Q2142.59 266.58 2140.33 266.163 Q2138.08 265.77 2135.58 264.96 L2135.58 260.561 Q2137.94 261.788 2140.23 262.413 Q2142.53 263.015 2144.77 263.015 Q2147.78 263.015 2149.4 261.997 Q2151.02 260.955 2151.02 259.08 Q2151.02 257.344 2149.84 256.418 Q2148.68 255.492 2144.72 254.636 L2143.24 254.288 Q2139.28 253.455 2137.53 251.742 Q2135.77 250.006 2135.77 246.997 Q2135.77 243.339 2138.36 241.349 Q2140.95 239.358 2145.72 239.358 Q2148.08 239.358 2150.16 239.705 Q2152.25 240.052 2154.01 240.747 Z\" fill=\"#000000\" fill-rule=\"evenodd\" fill-opacity=\"1\" /><path clip-path=\"url(#clip910)\" d=\"M2178.71 240.747 L2178.71 244.774 Q2176.9 243.849 2174.96 243.386 Q2173.01 242.923 2170.93 242.923 Q2167.76 242.923 2166.16 243.895 Q2164.59 244.867 2164.59 246.811 Q2164.59 248.293 2165.72 249.149 Q2166.85 249.983 2170.28 250.747 L2171.74 251.071 Q2176.28 252.043 2178.17 253.825 Q2180.09 255.585 2180.09 258.756 Q2180.09 262.367 2177.22 264.473 Q2174.38 266.58 2169.38 266.58 Q2167.29 266.58 2165.03 266.163 Q2162.78 265.77 2160.28 264.96 L2160.28 260.561 Q2162.64 261.788 2164.93 262.413 Q2167.22 263.015 2169.47 263.015 Q2172.48 263.015 2174.1 261.997 Q2175.72 260.955 2175.72 259.08 Q2175.72 257.344 2174.54 256.418 Q2173.38 255.492 2169.42 254.636 L2167.94 254.288 Q2163.98 253.455 2162.22 251.742 Q2160.47 250.006 2160.47 246.997 Q2160.47 243.339 2163.06 241.349 Q2165.65 239.358 2170.42 239.358 Q2172.78 239.358 2174.86 239.705 Q2176.95 240.052 2178.71 240.747 Z\" fill=\"#000000\" fill-rule=\"evenodd\" fill-opacity=\"1\" /><path clip-path=\"url(#clip910)\" d=\"M2186.88 239.983 L2191.14 239.983 L2191.14 265.909 L2186.88 265.909 L2186.88 239.983 M2186.88 229.89 L2191.14 229.89 L2191.14 235.284 L2186.88 235.284 L2186.88 229.89 Z\" fill=\"#000000\" fill-rule=\"evenodd\" fill-opacity=\"1\" /><path clip-path=\"url(#clip910)\" d=\"M2218.71 240.978 L2218.71 244.96 Q2216.9 243.964 2215.07 243.478 Q2213.27 242.969 2211.41 242.969 Q2207.27 242.969 2204.98 245.608 Q2202.69 248.224 2202.69 252.969 Q2202.69 257.714 2204.98 260.353 Q2207.27 262.969 2211.41 262.969 Q2213.27 262.969 2215.07 262.483 Q2216.9 261.973 2218.71 260.978 L2218.71 264.913 Q2216.92 265.747 2215 266.163 Q2213.1 266.58 2210.95 266.58 Q2205.09 266.58 2201.65 262.899 Q2198.2 259.219 2198.2 252.969 Q2198.2 246.626 2201.67 242.992 Q2205.16 239.358 2211.23 239.358 Q2213.2 239.358 2215.07 239.775 Q2216.95 240.168 2218.71 240.978 Z\" fill=\"#000000\" fill-rule=\"evenodd\" fill-opacity=\"1\" /><path clip-path=\"url(#clip910)\" d=\"M2237.9 252.876 Q2232.73 252.876 2230.74 254.057 Q2228.75 255.237 2228.75 258.085 Q2228.75 260.353 2230.23 261.696 Q2231.74 263.015 2234.31 263.015 Q2237.85 263.015 2239.98 260.515 Q2242.13 257.992 2242.13 253.825 L2242.13 252.876 L2237.9 252.876 M2246.39 251.117 L2246.39 265.909 L2242.13 265.909 L2242.13 261.973 Q2240.67 264.335 2238.5 265.469 Q2236.32 266.58 2233.17 266.58 Q2229.19 266.58 2226.83 264.358 Q2224.49 262.112 2224.49 258.362 Q2224.49 253.987 2227.41 251.765 Q2230.35 249.543 2236.16 249.543 L2242.13 249.543 L2242.13 249.126 Q2242.13 246.187 2240.19 244.589 Q2238.27 242.969 2234.77 242.969 Q2232.55 242.969 2230.44 243.501 Q2228.34 244.034 2226.39 245.099 L2226.39 241.163 Q2228.73 240.261 2230.93 239.821 Q2233.13 239.358 2235.21 239.358 Q2240.84 239.358 2243.61 242.274 Q2246.39 245.191 2246.39 251.117 Z\" fill=\"#000000\" fill-rule=\"evenodd\" fill-opacity=\"1\" /><path clip-path=\"url(#clip910)\" d=\"M2255.16 229.89 L2259.42 229.89 L2259.42 265.909 L2255.16 265.909 L2255.16 229.89 Z\" fill=\"#000000\" fill-rule=\"evenodd\" fill-opacity=\"1\" /></svg>\n"
      ]
     },
     "metadata": {},
     "output_type": "display_data"
    }
   ],
   "source": [
    "ns = [i for i in 1:15000 if EPRL_cond(0.5*i, rationalize(gamma)) == 1]\n",
    "dVamp_full = [dressed_Vamp_full[a][n,n] for a in 1:4, n in ns[1:3]]\n",
    "dVamp_extra = [dressed_Vamp_extra[a][n,n] for a in 1:4, n in ns[1:3]]\n",
    "dVamp_semi = [dressed_Vamp_semi[a][n,n] for a in 1:4, n in ns[1:3]]\n",
    "scatter(1.5:1.5:4.5, [dVamp_full[2,:], dVamp_extra[2,:], dVamp_semi[2,:]], yaxis=:log, xlabel=L\"$\\lambda$\", ylabel=L\"$\\mathcal{A}$\", label=[\"quantum\" \"extrapolated\" \"semi-classical\"])"
   ]
  },
  {
   "cell_type": "code",
   "execution_count": 46,
   "metadata": {},
   "outputs": [
    {
     "data": {
      "text/plain": [
       "\"/ssd/ri47hud/codes/Frusta quantum amplitude/figures/dVamp_relerr_exact.png\""
      ]
     },
     "metadata": {},
     "output_type": "display_data"
    }
   ],
   "source": [
    "spins = vec([(1.5*i, 1.5*j) for i in 1:3, j in 1:3])\n",
    "dVamp_relerr_full_extra = [vec([abs(dressed_Vamp_full[a][m,n] - dressed_Vamp_extra[a][m,n])/dressed_Vamp_full[a][m,n] for m in [3,6,9], n in [3,6,9]]) for a in 1:4]\n",
    "dVamp_relerr_full_semi = [vec([abs(dressed_Vamp_full[a][m,n] - dressed_Vamp_semi[a][m,n])/dressed_Vamp_full[a][m,n] for m in [3,6,9], n in [3,6,9]]) for a in 1:4]\n",
    "fig_dVamp_relerr_exact = scatter([dVamp_relerr_full_extra[2], dVamp_relerr_full_semi[2]], xticks=(1:1:9,spins), yticks=[10.0^i for i in -4:0.5:0], yaxis=:log, \n",
    "label= [\"extrapolated\" \"semi-classical\"], xlabel=L\"$(j,k)$\", ylabel=L\"$\\varepsilon$\", legend=:bottomleft, fmt=:png, xtickfontsize=8, ytickfontsize=12, labelfontsize=16, legendfontsize=10)\n",
    "savefig(fig_dVamp_relerr_exact, \"/ssd/ri47hud/codes/Frusta quantum amplitude/figures/dVamp_relerr_exact\")"
   ]
  },
  {
   "cell_type": "markdown",
   "metadata": {},
   "source": [
    "Consider the transition from (dVamp_extra - dVamp_semi) being negative to being positive, as a function of the parameter alpha."
   ]
  },
  {
   "cell_type": "code",
   "execution_count": null,
   "metadata": {},
   "outputs": [],
   "source": [
    "alpha_range = -0.3:0.0001:0.3\n",
    "dVamp_full_test = [dressed_QVAmp(SU2_Eamp_full[1:6,1:6], SU2_Vamp_full[1:6,1:6], alpha, gamma) for alpha in alpha_range]\n",
    "dVamp_extra_test = [dressed_QVAmp(SU2_Eamp_extra[1:39,1:39], SU2_Vamp_extra[1:39,1:39], alpha, gamma) for alpha in alpha_range]\n",
    "dVamp_semi_test = [Ampl_resc_tensor(alpha, 1.0, 1/3, 0.0, 22.5) for alpha in alpha_range]\n",
    "dVamp_difference = [[abs(dVamp_extra_test[a][j,j] - dVamp_semi_test[a][j,j]) for a in 1:length(alpha_range)] for j in [3*i for i in 1:15]]\n",
    "plot(alpha_range, [dVamp_difference[j] for j in 1:15], yaxis=:log, legend=false)"
   ]
  },
  {
   "cell_type": "markdown",
   "metadata": {},
   "source": [
    "Return probability for gamma = 1/3, jmin = 0.5, jmax = 7500"
   ]
  },
  {
   "cell_type": "code",
   "execution_count": 48,
   "metadata": {},
   "outputs": [
    {
     "data": {
      "text/plain": [
       "5-element Vector{Matrix{Float64}}:\n",
       " [0.0 0.0 … 0.0 0.0; 0.0 0.0 … 0.0 0.0; … ; 0.0 0.0 … 0.0 0.0; 0.0 0.0 … 0.0 8.61387079295624e-23]\n",
       " [0.0 0.0 … 0.0 0.0; 0.0 0.0 … 0.0 0.0; … ; 0.0 0.0 … 0.0 0.0; 0.0 0.0 … 0.0 1.1693159516968497e-17]\n",
       " [0.0 0.0 … 0.0 0.0; 0.0 0.0 … 0.0 0.0; … ; 0.0 0.0 … 0.0 0.0; 0.0 0.0 … 0.0 4.308227563235771e-15]\n",
       " [0.0 0.0 … 0.0 0.0; 0.0 0.0 … 0.0 0.0; … ; 0.0 0.0 … 0.0 0.0; 0.0 0.0 … 0.0 1.5873233157975772e-12]\n",
       " [0.0 0.0 … 0.0 0.0; 0.0 0.0 … 0.0 0.0; … ; 0.0 0.0 … 0.0 0.0; 0.0 0.0 … 0.0 2.1547600588346466e-7]"
      ]
     },
     "metadata": {},
     "output_type": "display_data"
    }
   ],
   "source": [
    "alphas = [12/36, 16/36, 18/36, 20/36, 24/36]\n",
    "gamma = 1/3\n",
    "dVamp_extra_a36 = [dressed_QVAmp(SU2_Eamp_extra, SU2_Vamp_extra, alpha, gamma) for alpha in alphas]"
   ]
  },
  {
   "cell_type": "code",
   "execution_count": 61,
   "metadata": {},
   "outputs": [],
   "source": [
    "taus = [10.0^(i) for i in -3:0.5:5]\n",
    "file_endings = [Int(10*i) for i in -3:0.5:5]\n",
    "#ev1_semi = zeros(4, 17)\n",
    "ev1_extra = zeros(5, 17)\n",
    "\n",
    "for t in 1:17\n",
    "    for a in 1:5\n",
    "        tau = file_endings[t]\n",
    "        rp1 = load(\"/ssd/ri47hud/codes/Spectral Dimension/RP1/Quantum/rp1_1_15000_g13_$tau.jld\", \"rp1_EPRL\")\n",
    "        #ev1_semi[a,t] =     QExpval_P1(dressed_Vamp_semi[a], rp1)[1]\n",
    "        ev1_extra[a,t] =    QExpval_P1(dVamp_extra_a36[a], rp1)[1]\n",
    "    end\n",
    "end\n",
    "\n",
    "#specdim1_semi = [-2*(log(ev1_semi[a,t+1]) - log(ev1_semi[a,t]))/(log(taus[t+1]) - log(taus[t])) for a in 1:4, t in 1:16]"
   ]
  },
  {
   "cell_type": "code",
   "execution_count": 64,
   "metadata": {},
   "outputs": [
    {
     "data": {
      "text/plain": [
       "\"/ssd/ri47hud/codes/Frusta quantum amplitude/figures/ev1_extra.png\""
      ]
     },
     "metadata": {},
     "output_type": "display_data"
    }
   ],
   "source": [
    "fig_ev1_extra = plot(taus, [ev1_extra[a,:] for a in 1:5], xaxis=:log, yaxis=:log, xlabel=L\"$\\tau$\", ylabel=L\"$P_1$\", \n",
    "label=[L\"$\\alpha = 1/3$\" L\"$\\alpha = 4/9$\" L\"$\\alpha = 1/2$\" L\"$\\alpha = 5/9$\" L\"$\\alpha = 2/3$\"],marker=:circle, markersize=:3.0, markerstrokewidth=0.5, legend=:bottomleft, \n",
    "xticks=[10.0^i for i in -4:2:5], yticks=[10.0^i for i in -14:2:0], fmt=:png, xtickfontsize=12, ytickfontsize=12, labelfontsize=16, legendfontsize=12)\n",
    "savefig(fig_ev1_extra, \"/ssd/ri47hud/codes/Frusta quantum amplitude/figures/ev1_extra\")"
   ]
  },
  {
   "cell_type": "markdown",
   "metadata": {},
   "source": [
    "Spectral dimension with extrapolated amplitude"
   ]
  },
  {
   "cell_type": "code",
   "execution_count": 65,
   "metadata": {},
   "outputs": [
    {
     "data": {
      "text/plain": [
       "\"/ssd/ri47hud/codes/Frusta quantum amplitude/figures/specdim1_extra.png\""
      ]
     },
     "metadata": {},
     "output_type": "display_data"
    }
   ],
   "source": [
    "specdim1_extra = [-2*(log(ev1_extra[a,t+1]) - log(ev1_extra[a,t]))/(log(taus[t+1]) - log(taus[t])) for a in 1:5, t in 1:16]\n",
    "fig_specdim1_extra = plot(taus[1:16], [specdim1_extra[a,:] for a in 1:5], xlabel=L\"$\\tau$\", ylabel=L\"$D_S$\", label=[L\"$\\alpha = 1/3$\" L\"$\\alpha = 4/9$\" L\"$\\alpha = 1/2$\" L\"$\\alpha = 5/9$\" L\"$\\alpha = 2/3$\"], \n",
    "xaxis=:log, legend=:bottomright, marker=:circle, fmt=:png, markersize=:3.0, markerstrokewidth=0.5, xtickfontsize=12, ytickfontsize=12, labelfontsize=16, legendfontsize=12)\n",
    "savefig(fig_specdim1_extra, \"/ssd/ri47hud/codes/Frusta quantum amplitude/figures/specdim1_extra\")"
   ]
  },
  {
   "cell_type": "markdown",
   "metadata": {},
   "source": [
    "Influence of L finite vs. L infinite"
   ]
  },
  {
   "cell_type": "code",
   "execution_count": 4,
   "metadata": {},
   "outputs": [],
   "source": [
    "dVamp_extra_a05 = dressed_QVAmp(SU2_Eamp_extra, SU2_Vamp_extra, 0.5, 1/3)\n",
    "taus = [10.0^(i) for i in -2:0.5:4]\n",
    "file_endings = [Int(10*i) for i in -2:0.5:4]\n",
    "ev1_L_inf = zeros(17)\n",
    "for (t, tau) in enumerate(file_endings)\n",
    "    rp1 = load(\"/ssd/ri47hud/codes/Spectral Dimension/RP1/Quantum/rp1_1_15000_g13_$tau.jld\", \"rp1_EPRL\")\n",
    "    ev1_L_inf[t] = QExpval_P1(dVamp_extra_a05, rp1)[1]\n",
    "end\n",
    "#ev1_L_finite = QExpval_P1(dVamp_extra_a05, transpose(load(\"/ssd/ri47hud/codes/Spectral Dimension/RP1/Summation/rp1_sum_1_15000_g13_-2_05_4.jld\", \"rp1_EPRL\")))"
   ]
  },
  {
   "cell_type": "code",
   "execution_count": 29,
   "metadata": {},
   "outputs": [
    {
     "data": {
      "text/plain": [
       "\"/ssd/ri47hud/codes/Frusta quantum amplitude/figures/ev1_relerr_L_inf_vs_100.png\""
      ]
     },
     "metadata": {},
     "output_type": "display_data"
    }
   ],
   "source": [
    "#scatter(taus, [ev1_L_inf[1:13], ev1_L_finite], xaxis=:log, yaxis=:log, marker=:3.0)\n",
    "#specdim_L_inf = [-2*(log(ev1_L_inf[t+1]) - log(ev1_L_inf[t]))/(log(taus[t+1]) - log(taus[t])) for t in 1:12]\n",
    "#specdim_L_finite = [-2*(log(ev1_L_finite[t+1]) - log(ev1_L_finite[t]))/(log(taus[t+1]) - log(taus[t])) for t in 1:12]\n",
    "#scatter(taus[1:12], [specdim_L_inf, specdim_L_inf], xaxis=:log, legend=:bottomright)\n",
    "#ev1_relerr_L_inf_vs_100 = [abs(ev1_L_inf[t] - ev1_L_finite[t])/ev1_L_finite[t] for t in 1:13]\n",
    "#specdim1_relerr_L_inf_vs_100 = [abs(specdim_L_inf[t] - specdim_L_finite[t])/specdim_L_finite[t] for t in 1:12]\n",
    "fig_relerr_Linf_vs_L100 = scatter(taus, ev1_relerr_L_inf_vs_100, xaxis=:log, yaxis=:log, legend=false, xlabel=L\"$\\tau$\", ylabel=L\"$\\varepsilon$\")\n",
    "savefig(fig_relerr_Linf_vs_L100, \"/ssd/ri47hud/codes/Frusta quantum amplitude/figures/ev1_relerr_L_inf_vs_100\")\n",
    "#scatter(taus[1:12], specdim1_relerr_L_inf_vs_100, xaxis=:log, yaxis=:log)"
   ]
  },
  {
   "cell_type": "markdown",
   "metadata": {},
   "source": [
    "Spectral dimension with semi-classical amplitude"
   ]
  },
  {
   "cell_type": "code",
   "execution_count": 55,
   "metadata": {},
   "outputs": [],
   "source": [
    "dVamp_semi_a05 = Ampl_resc_tensor(0.5, 1.0, 1/3, 0.0, 7500.0)\n",
    "dVamp_extra_a05 = dressed_QVAmp(SU2_Eamp_extra, SU2_Vamp_extra, 0.5, 1/3)\n",
    "taus = [10.0^(i) for i in -3:0.5:5]\n",
    "file_endings = [Int(10*i) for i in -3:0.5:5]\n",
    "ev1_semi = zeros(17)\n",
    "ev1_extra = zeros(17)\n",
    "for (t,tau) in enumerate(file_endings)\n",
    "    rp1 = load(\"/ssd/ri47hud/codes/Spectral Dimension/RP1/Quantum/rp1_1_15000_g13_$tau.jld\", \"rp1_EPRL\")\n",
    "    ev1_semi[t] = QExpval_P1(dVamp_semi_a05, rp1)[1]\n",
    "    ev1_extra[t] = QExpval_P1(dVamp_extra_a05, rp1)[1]\n",
    "end"
   ]
  },
  {
   "cell_type": "code",
   "execution_count": 57,
   "metadata": {},
   "outputs": [
    {
     "data": {
      "text/plain": [
       "\"/ssd/ri47hud/codes/Frusta quantum amplitude/figures/specdim_sc_vs_qu.png\""
      ]
     },
     "metadata": {},
     "output_type": "display_data"
    }
   ],
   "source": [
    "specdim1_semi = [-2*(log(ev1_semi[t+1]) - log(ev1_semi[t]))/(log(taus[t+1]) - log(taus[t])) for t in 1:16]\n",
    "specdim1_extra = [-2*(log(ev1_extra[t+1]) - log(ev1_extra[t]))/(log(taus[t+1]) - log(taus[t])) for t in 1:16]\n",
    "fig_specdim_sc_vs_qu = plot(taus[1:16], [specdim1_extra, specdim1_semi], label=[\"extraploated\" \"semi-classical\"], xaxis=:log, xlabel=L\"$\\tau$\", ylabel=L\"D_S\", \n",
    "legend=:bottomright, fmt=:png, marker=:circle, markersize=:3.0, markerstrokewidth=:0.5, xtickfontsize=12, ytickfontsize=12, labelfontsize=16, legendfontsize=10)\n",
    "savefig(fig_specdim_sc_vs_qu, \"/ssd/ri47hud/codes/Frusta quantum amplitude/figures/specdim_sc_vs_qu\")"
   ]
  },
  {
   "cell_type": "code",
   "execution_count": 22,
   "metadata": {},
   "outputs": [
    {
     "data": {
      "image/png": "[encoded data removed]",
      "image/svg+xml": "<?xml version=\"1.0\" encoding=\"utf-8\"?>\n<svg xmlns=\"http://www.w3.org/2000/svg\" xmlns:xlink=\"http://www.w3.org/1999/xlink\" width=\"600\" height=\"400\" viewBox=\"0 0 2400 1600\">\n<defs>\n  <clipPath id=\"clip430\">\n    <rect x=\"0\" y=\"0\" width=\"2400\" height=\"1600\"/>\n  </clipPath>\n</defs>\n<path clip-path=\"url(#clip430)\" d=\"M0 1600 L2400 1600 L2400 0 L0 0  Z\" fill=\"#ffffff\" fill-rule=\"evenodd\" fill-opacity=\"1\"/>\n<defs>\n  <clipPath id=\"clip431\">\n    <rect x=\"480\" y=\"0\" width=\"1681\" height=\"1600\"/>\n  </clipPath>\n</defs>\n<defs>\n  <clipPath id=\"clip432\">\n    <rect x=\"175\" y=\"47\" width=\"2178\" height=\"1365\"/>\n  </clipPath>\n</defs>\n<path clip-path=\"url(#clip430)\" d=\"M175.445 1410.9 L2352.76 1410.9 L2352.76 47.2441 L175.445 47.2441  Z\" fill=\"#ffffff\" fill-rule=\"evenodd\" fill-opacity=\"1\"/>\n<polyline clip-path=\"url(#clip432)\" style=\"stroke:#000000; stroke-linecap:round; stroke-linejoin:round; stroke-width:2; stroke-opacity:0.1; fill:none\" points=\"510.943,1410.9 510.943,47.2441 \"/>\n<polyline clip-path=\"url(#clip432)\" style=\"stroke:#000000; stroke-linecap:round; stroke-linejoin:round; stroke-width:2; stroke-opacity:0.1; fill:none\" points=\"1058.69,1410.9 1058.69,47.2441 \"/>\n<polyline clip-path=\"url(#clip432)\" style=\"stroke:#000000; stroke-linecap:round; stroke-linejoin:round; stroke-width:2; stroke-opacity:0.1; fill:none\" points=\"1606.45,1410.9 1606.45,47.2441 \"/>\n<polyline clip-path=\"url(#clip432)\" style=\"stroke:#000000; stroke-linecap:round; stroke-linejoin:round; stroke-width:2; stroke-opacity:0.1; fill:none\" points=\"2154.2,1410.9 2154.2,47.2441 \"/>\n<polyline clip-path=\"url(#clip430)\" style=\"stroke:#000000; stroke-linecap:round; stroke-linejoin:round; stroke-width:4; stroke-opacity:1; fill:none\" points=\"175.445,1410.9 2352.76,1410.9 \"/>\n<polyline clip-path=\"url(#clip430)\" style=\"stroke:#000000; stroke-linecap:round; stroke-linejoin:round; stroke-width:4; stroke-opacity:1; fill:none\" points=\"510.943,1410.9 510.943,1392 \"/>\n<polyline clip-path=\"url(#clip430)\" style=\"stroke:#000000; stroke-linecap:round; stroke-linejoin:round; stroke-width:4; stroke-opacity:1; fill:none\" points=\"1058.69,1410.9 1058.69,1392 \"/>\n<polyline clip-path=\"url(#clip430)\" style=\"stroke:#000000; stroke-linecap:round; stroke-linejoin:round; stroke-width:4; stroke-opacity:1; fill:none\" points=\"1606.45,1410.9 1606.45,1392 \"/>\n<polyline clip-path=\"url(#clip430)\" style=\"stroke:#000000; stroke-linecap:round; stroke-linejoin:round; stroke-width:4; stroke-opacity:1; fill:none\" points=\"2154.2,1410.9 2154.2,1392 \"/>\n<path clip-path=\"url(#clip430)\" d=\"M461.209 1485.02 L468.847 1485.02 L468.847 1458.66 L460.537 1460.32 L460.537 1456.06 L468.801 1454.4 L473.477 1454.4 L473.477 1485.02 L481.116 1485.02 L481.116 1488.96 L461.209 1488.96 L461.209 1485.02 Z\" fill=\"#000000\" fill-rule=\"evenodd\" fill-opacity=\"1\" /><path clip-path=\"url(#clip430)\" d=\"M500.56 1457.48 Q496.949 1457.48 495.12 1461.04 Q493.315 1464.58 493.315 1471.71 Q493.315 1478.82 495.12 1482.38 Q496.949 1485.92 500.56 1485.92 Q504.194 1485.92 506 1482.38 Q507.829 1478.82 507.829 1471.71 Q507.829 1464.58 506 1461.04 Q504.194 1457.48 500.56 1457.48 M500.56 1453.77 Q506.37 1453.77 509.426 1458.38 Q512.505 1462.96 512.505 1471.71 Q512.505 1480.44 509.426 1485.04 Q506.37 1489.63 500.56 1489.63 Q494.75 1489.63 491.671 1485.04 Q488.616 1480.44 488.616 1471.71 Q488.616 1462.96 491.671 1458.38 Q494.75 1453.77 500.56 1453.77 Z\" fill=\"#000000\" fill-rule=\"evenodd\" fill-opacity=\"1\" /><path clip-path=\"url(#clip430)\" d=\"M512.505 1447.87 L536.616 1447.87 L536.616 1451.07 L512.505 1451.07 L512.505 1447.87 Z\" fill=\"#000000\" fill-rule=\"evenodd\" fill-opacity=\"1\" /><path clip-path=\"url(#clip430)\" d=\"M548.089 1458.35 L561.348 1458.35 L561.348 1461.55 L543.519 1461.55 L543.519 1458.35 Q545.681 1456.11 549.405 1452.35 Q553.148 1448.57 554.107 1447.48 Q555.932 1445.43 556.646 1444.02 Q557.38 1442.59 557.38 1441.22 Q557.38 1438.98 555.8 1437.57 Q554.239 1436.16 551.719 1436.16 Q549.932 1436.16 547.938 1436.78 Q545.964 1437.4 543.707 1438.66 L543.707 1434.82 Q546.001 1433.9 547.995 1433.43 Q549.988 1432.96 551.644 1432.96 Q556.007 1432.96 558.602 1435.14 Q561.198 1437.32 561.198 1440.97 Q561.198 1442.7 560.54 1444.26 Q559.9 1445.8 558.189 1447.91 Q557.718 1448.46 555.198 1451.07 Q552.678 1453.67 548.089 1458.35 Z\" fill=\"#000000\" fill-rule=\"evenodd\" fill-opacity=\"1\" /><path clip-path=\"url(#clip430)\" d=\"M1023.68 1485.02 L1031.32 1485.02 L1031.32 1458.66 L1023.01 1460.32 L1023.01 1456.06 L1031.27 1454.4 L1035.95 1454.4 L1035.95 1485.02 L1043.58 1485.02 L1043.58 1488.96 L1023.68 1488.96 L1023.68 1485.02 Z\" fill=\"#000000\" fill-rule=\"evenodd\" fill-opacity=\"1\" /><path clip-path=\"url(#clip430)\" d=\"M1063.03 1457.48 Q1059.42 1457.48 1057.59 1461.04 Q1055.78 1464.58 1055.78 1471.71 Q1055.78 1478.82 1057.59 1482.38 Q1059.42 1485.92 1063.03 1485.92 Q1066.66 1485.92 1068.47 1482.38 Q1070.3 1478.82 1070.3 1471.71 Q1070.3 1464.58 1068.47 1461.04 Q1066.66 1457.48 1063.03 1457.48 M1063.03 1453.77 Q1068.84 1453.77 1071.89 1458.38 Q1074.97 1462.96 1074.97 1471.71 Q1074.97 1480.44 1071.89 1485.04 Q1068.84 1489.63 1063.03 1489.63 Q1057.22 1489.63 1054.14 1485.04 Q1051.08 1480.44 1051.08 1471.71 Q1051.08 1462.96 1054.14 1458.38 Q1057.22 1453.77 1063.03 1453.77 Z\" fill=\"#000000\" fill-rule=\"evenodd\" fill-opacity=\"1\" /><path clip-path=\"url(#clip430)\" d=\"M1084.68 1435.97 Q1081.74 1435.97 1080.26 1438.86 Q1078.79 1441.74 1078.79 1447.53 Q1078.79 1453.31 1080.26 1456.2 Q1081.74 1459.08 1084.68 1459.08 Q1087.63 1459.08 1089.1 1456.2 Q1090.58 1453.31 1090.58 1447.53 Q1090.58 1441.74 1089.1 1438.86 Q1087.63 1435.97 1084.68 1435.97 M1084.68 1432.96 Q1089.4 1432.96 1091.88 1436.7 Q1094.38 1440.43 1094.38 1447.53 Q1094.38 1454.62 1091.88 1458.37 Q1089.4 1462.09 1084.68 1462.09 Q1079.96 1462.09 1077.46 1458.37 Q1074.97 1454.62 1074.97 1447.53 Q1074.97 1440.43 1077.46 1436.7 Q1079.96 1432.96 1084.68 1432.96 Z\" fill=\"#000000\" fill-rule=\"evenodd\" fill-opacity=\"1\" /><path clip-path=\"url(#clip430)\" d=\"M1572.22 1485.02 L1579.86 1485.02 L1579.86 1458.66 L1571.55 1460.32 L1571.55 1456.06 L1579.81 1454.4 L1584.49 1454.4 L1584.49 1485.02 L1592.13 1485.02 L1592.13 1488.96 L1572.22 1488.96 L1572.22 1485.02 Z\" fill=\"#000000\" fill-rule=\"evenodd\" fill-opacity=\"1\" /><path clip-path=\"url(#clip430)\" d=\"M1611.57 1457.48 Q1607.96 1457.48 1606.13 1461.04 Q1604.32 1464.58 1604.32 1471.71 Q1604.32 1478.82 1606.13 1482.38 Q1607.96 1485.92 1611.57 1485.92 Q1615.2 1485.92 1617.01 1482.38 Q1618.84 1478.82 1618.84 1471.71 Q1618.84 1464.58 1617.01 1461.04 Q1615.2 1457.48 1611.57 1457.48 M1611.57 1453.77 Q1617.38 1453.77 1620.44 1458.38 Q1623.51 1462.96 1623.51 1471.71 Q1623.51 1480.44 1620.44 1485.04 Q1617.38 1489.63 1611.57 1489.63 Q1605.76 1489.63 1602.68 1485.04 Q1599.63 1480.44 1599.63 1471.71 Q1599.63 1462.96 1602.68 1458.38 Q1605.76 1453.77 1611.57 1453.77 Z\" fill=\"#000000\" fill-rule=\"evenodd\" fill-opacity=\"1\" /><path clip-path=\"url(#clip430)\" d=\"M1628.08 1458.35 L1641.34 1458.35 L1641.34 1461.55 L1623.51 1461.55 L1623.51 1458.35 Q1625.68 1456.11 1629.4 1452.35 Q1633.14 1448.57 1634.1 1447.48 Q1635.93 1445.43 1636.64 1444.02 Q1637.38 1442.59 1637.38 1441.22 Q1637.38 1438.98 1635.8 1437.57 Q1634.23 1436.16 1631.71 1436.16 Q1629.93 1436.16 1627.93 1436.78 Q1625.96 1437.4 1623.7 1438.66 L1623.7 1434.82 Q1626 1433.9 1627.99 1433.43 Q1629.98 1432.96 1631.64 1432.96 Q1636 1432.96 1638.6 1435.14 Q1641.19 1437.32 1641.19 1440.97 Q1641.19 1442.7 1640.53 1444.26 Q1639.9 1445.8 1638.18 1447.91 Q1637.71 1448.46 1635.19 1451.07 Q1632.67 1453.67 1628.08 1458.35 Z\" fill=\"#000000\" fill-rule=\"evenodd\" fill-opacity=\"1\" /><path clip-path=\"url(#clip430)\" d=\"M2118.65 1485.02 L2126.29 1485.02 L2126.29 1458.66 L2117.98 1460.32 L2117.98 1456.06 L2126.24 1454.4 L2130.92 1454.4 L2130.92 1485.02 L2138.56 1485.02 L2138.56 1488.96 L2118.65 1488.96 L2118.65 1485.02 Z\" fill=\"#000000\" fill-rule=\"evenodd\" fill-opacity=\"1\" /><path clip-path=\"url(#clip430)\" d=\"M2158 1457.48 Q2154.39 1457.48 2152.56 1461.04 Q2150.76 1464.58 2150.76 1471.71 Q2150.76 1478.82 2152.56 1482.38 Q2154.39 1485.92 2158 1485.92 Q2161.64 1485.92 2163.44 1482.38 Q2165.27 1478.82 2165.27 1471.71 Q2165.27 1464.58 2163.44 1461.04 Q2161.64 1457.48 2158 1457.48 M2158 1453.77 Q2163.81 1453.77 2166.87 1458.38 Q2169.95 1462.96 2169.95 1471.71 Q2169.95 1480.44 2166.87 1485.04 Q2163.81 1489.63 2158 1489.63 Q2152.19 1489.63 2149.12 1485.04 Q2146.06 1480.44 2146.06 1471.71 Q2146.06 1462.96 2149.12 1458.38 Q2152.19 1453.77 2158 1453.77 Z\" fill=\"#000000\" fill-rule=\"evenodd\" fill-opacity=\"1\" /><path clip-path=\"url(#clip430)\" d=\"M2182.62 1436.78 L2173.03 1451.77 L2182.62 1451.77 L2182.62 1436.78 M2181.63 1433.47 L2186.41 1433.47 L2186.41 1451.77 L2190.41 1451.77 L2190.41 1454.93 L2186.41 1454.93 L2186.41 1461.55 L2182.62 1461.55 L2182.62 1454.93 L2169.95 1454.93 L2169.95 1451.26 L2181.63 1433.47 Z\" fill=\"#000000\" fill-rule=\"evenodd\" fill-opacity=\"1\" /><path clip-path=\"url(#clip430)\" d=\"M1281.79 1532.5 Q1281.79 1534.76 1278.54 1534.76 L1267.46 1534.76 L1263.05 1557.33 Q1262.95 1557.91 1262.82 1558.23 Q1262.72 1558.56 1262.43 1559.1 Q1262.18 1559.62 1261.63 1559.88 Q1261.11 1560.17 1260.34 1560.17 Q1259.37 1560.17 1258.89 1559.59 Q1258.44 1559.04 1258.44 1558.36 Q1258.44 1557.94 1259.09 1555.95 L1265.56 1534.76 L1260.08 1534.76 Q1254.93 1534.76 1251.71 1539.84 Q1251.19 1540.52 1250.9 1540.58 Q1250.78 1540.62 1250.65 1540.62 Q1250.29 1540.62 1250.07 1540.46 Q1249.87 1540.3 1249.87 1540.13 L1249.84 1539.97 Q1249.84 1539.75 1250.36 1538.85 Q1250.9 1537.91 1251.87 1536.53 Q1252.87 1535.14 1253.87 1534.05 Q1255.19 1532.63 1256.67 1531.89 Q1258.15 1531.12 1258.89 1531.02 Q1259.66 1530.92 1260.66 1530.92 L1279.15 1530.92 Q1279.99 1530.92 1280.44 1530.99 Q1280.89 1531.02 1281.34 1531.41 Q1281.79 1531.76 1281.79 1532.5 Z\" fill=\"#000000\" fill-rule=\"evenodd\" fill-opacity=\"1\" /><polyline clip-path=\"url(#clip432)\" style=\"stroke:#000000; stroke-linecap:round; stroke-linejoin:round; stroke-width:2; stroke-opacity:0.1; fill:none\" points=\"175.445,1378.06 2352.76,1378.06 \"/>\n<polyline clip-path=\"url(#clip432)\" style=\"stroke:#000000; stroke-linecap:round; stroke-linejoin:round; stroke-width:2; stroke-opacity:0.1; fill:none\" points=\"175.445,1069.74 2352.76,1069.74 \"/>\n<polyline clip-path=\"url(#clip432)\" style=\"stroke:#000000; stroke-linecap:round; stroke-linejoin:round; stroke-width:2; stroke-opacity:0.1; fill:none\" points=\"175.445,761.414 2352.76,761.414 \"/>\n<polyline clip-path=\"url(#clip432)\" style=\"stroke:#000000; stroke-linecap:round; stroke-linejoin:round; stroke-width:2; stroke-opacity:0.1; fill:none\" points=\"175.445,453.091 2352.76,453.091 \"/>\n<polyline clip-path=\"url(#clip432)\" style=\"stroke:#000000; stroke-linecap:round; stroke-linejoin:round; stroke-width:2; stroke-opacity:0.1; fill:none\" points=\"175.445,144.769 2352.76,144.769 \"/>\n<polyline clip-path=\"url(#clip430)\" style=\"stroke:#000000; stroke-linecap:round; stroke-linejoin:round; stroke-width:4; stroke-opacity:1; fill:none\" points=\"175.445,1410.9 175.445,47.2441 \"/>\n<polyline clip-path=\"url(#clip430)\" style=\"stroke:#000000; stroke-linecap:round; stroke-linejoin:round; stroke-width:4; stroke-opacity:1; fill:none\" points=\"175.445,1378.06 194.343,1378.06 \"/>\n<polyline clip-path=\"url(#clip430)\" style=\"stroke:#000000; stroke-linecap:round; stroke-linejoin:round; stroke-width:4; stroke-opacity:1; fill:none\" points=\"175.445,1069.74 194.343,1069.74 \"/>\n<polyline clip-path=\"url(#clip430)\" style=\"stroke:#000000; stroke-linecap:round; stroke-linejoin:round; stroke-width:4; stroke-opacity:1; fill:none\" points=\"175.445,761.414 194.343,761.414 \"/>\n<polyline clip-path=\"url(#clip430)\" style=\"stroke:#000000; stroke-linecap:round; stroke-linejoin:round; stroke-width:4; stroke-opacity:1; fill:none\" points=\"175.445,453.091 194.343,453.091 \"/>\n<polyline clip-path=\"url(#clip430)\" style=\"stroke:#000000; stroke-linecap:round; stroke-linejoin:round; stroke-width:4; stroke-opacity:1; fill:none\" points=\"175.445,144.769 194.343,144.769 \"/>\n<path clip-path=\"url(#clip430)\" d=\"M127.501 1363.86 Q123.89 1363.86 122.061 1367.42 Q120.255 1370.96 120.255 1378.09 Q120.255 1385.2 122.061 1388.77 Q123.89 1392.31 127.501 1392.31 Q131.135 1392.31 132.941 1388.77 Q134.769 1385.2 134.769 1378.09 Q134.769 1370.96 132.941 1367.42 Q131.135 1363.86 127.501 1363.86 M127.501 1360.15 Q133.311 1360.15 136.367 1364.76 Q139.445 1369.34 139.445 1378.09 Q139.445 1386.82 136.367 1391.43 Q133.311 1396.01 127.501 1396.01 Q121.691 1396.01 118.612 1391.43 Q115.556 1386.82 115.556 1378.09 Q115.556 1369.34 118.612 1364.76 Q121.691 1360.15 127.501 1360.15 Z\" fill=\"#000000\" fill-rule=\"evenodd\" fill-opacity=\"1\" /><path clip-path=\"url(#clip430)\" d=\"M119.538 1083.08 L127.177 1083.08 L127.177 1056.72 L118.867 1058.38 L118.867 1054.12 L127.13 1052.46 L131.806 1052.46 L131.806 1083.08 L139.445 1083.08 L139.445 1087.02 L119.538 1087.02 L119.538 1083.08 Z\" fill=\"#000000\" fill-rule=\"evenodd\" fill-opacity=\"1\" /><path clip-path=\"url(#clip430)\" d=\"M123.126 774.759 L139.445 774.759 L139.445 778.694 L117.501 778.694 L117.501 774.759 Q120.163 772.004 124.746 767.375 Q129.353 762.722 130.533 761.379 Q132.779 758.856 133.658 757.12 Q134.561 755.361 134.561 753.671 Q134.561 750.916 132.617 749.18 Q130.695 747.444 127.593 747.444 Q125.394 747.444 122.941 748.208 Q120.51 748.972 117.732 750.523 L117.732 745.801 Q120.556 744.666 123.01 744.088 Q125.464 743.509 127.501 743.509 Q132.871 743.509 136.066 746.194 Q139.26 748.879 139.26 753.37 Q139.26 755.5 138.45 757.421 Q137.663 759.319 135.556 761.912 Q134.978 762.583 131.876 765.801 Q128.774 768.995 123.126 774.759 Z\" fill=\"#000000\" fill-rule=\"evenodd\" fill-opacity=\"1\" /><path clip-path=\"url(#clip430)\" d=\"M132.316 451.737 Q135.672 452.455 137.547 454.723 Q139.445 456.992 139.445 460.325 Q139.445 465.441 135.927 468.242 Q132.408 471.043 125.927 471.043 Q123.751 471.043 121.436 470.603 Q119.144 470.186 116.691 469.33 L116.691 464.816 Q118.635 465.95 120.95 466.529 Q123.265 467.108 125.788 467.108 Q130.186 467.108 132.478 465.371 Q134.792 463.635 134.792 460.325 Q134.792 457.27 132.64 455.557 Q130.51 453.821 126.691 453.821 L122.663 453.821 L122.663 449.978 L126.876 449.978 Q130.325 449.978 132.154 448.612 Q133.982 447.223 133.982 444.631 Q133.982 441.969 132.084 440.557 Q130.209 439.122 126.691 439.122 Q124.769 439.122 122.57 439.538 Q120.371 439.955 117.732 440.835 L117.732 436.668 Q120.394 435.927 122.709 435.557 Q125.047 435.186 127.107 435.186 Q132.431 435.186 135.533 437.617 Q138.635 440.024 138.635 444.145 Q138.635 447.015 136.992 449.006 Q135.348 450.973 132.316 451.737 Z\" fill=\"#000000\" fill-rule=\"evenodd\" fill-opacity=\"1\" /><path clip-path=\"url(#clip430)\" d=\"M129.862 131.563 L118.056 150.012 L129.862 150.012 L129.862 131.563 M128.635 127.489 L134.515 127.489 L134.515 150.012 L139.445 150.012 L139.445 153.901 L134.515 153.901 L134.515 162.049 L129.862 162.049 L129.862 153.901 L114.26 153.901 L114.26 149.387 L128.635 127.489 Z\" fill=\"#000000\" fill-rule=\"evenodd\" fill-opacity=\"1\" /><path clip-path=\"url(#clip430)\" d=\"M33.511 724.232 Q38.825 724.232 44.0424 726.518 Q49.2275 728.773 53.1566 732.444 Q57.0535 736.083 59.469 741.011 Q61.8844 745.938 61.8844 750.962 L61.8844 772.798 Q61.8844 773.571 61.8522 773.893 Q61.82 774.183 61.659 774.408 Q61.4657 774.634 61.0793 774.634 Q60.4673 774.634 60.2097 774.376 Q59.9198 774.119 59.8876 773.829 Q59.8554 773.539 59.8554 772.798 Q59.8554 771.188 59.7588 770.222 Q59.6622 769.255 59.5334 768.644 Q59.3724 767.999 58.9215 767.677 Q58.4706 767.323 58.0841 767.162 Q57.6654 767.001 56.7315 766.776 L21.305 757.951 Q20.2422 757.694 20.0812 757.694 Q19.5337 757.694 19.3405 758.016 Q19.115 758.305 19.0184 759.143 Q18.8896 760.753 18.8896 761.977 Q18.8896 762.782 18.8574 763.104 Q18.8252 763.394 18.6641 763.652 Q18.4709 763.877 18.0844 763.877 Q17.4725 763.877 17.2149 763.619 Q16.925 763.33 16.8928 763.007 Q16.8284 762.685 16.8284 761.912 L16.8284 739.755 Q16.8284 734.956 19.0828 731.381 Q21.305 727.806 25.0731 726.035 Q28.809 724.232 33.511 724.232 M31.0956 729.996 Q24.9443 729.996 21.9169 733.346 Q18.8896 736.663 18.8896 741.913 L18.8896 748.966 Q18.8896 751.059 19.2761 751.574 Q19.6303 752.09 21.4016 752.541 L57.601 761.59 Q58.7926 761.912 59.1147 761.912 Q59.469 761.912 59.5978 761.751 Q59.6944 761.558 59.7588 761.043 Q59.8554 760.463 59.8554 759.594 L59.8554 752.154 Q59.8554 749.288 59.0825 746.679 Q58.2774 744.038 57.0213 742.138 Q55.7331 740.238 54.6381 739.014 Q53.5109 737.79 52.3837 736.921 Q49.8394 734.956 46.5222 733.507 Q43.205 732.025 40.1777 731.349 Q37.1181 730.641 34.8637 730.319 Q32.5771 729.996 31.0956 729.996 Z\" fill=\"#000000\" fill-rule=\"evenodd\" fill-opacity=\"1\" /><path clip-path=\"url(#clip430)\" d=\"M49.1504 690.281 L59.2502 692.783 Q59.8588 692.919 60.0167 693.031 Q60.1745 693.144 60.1745 693.46 Q60.1745 693.708 60.0617 693.865 Q59.949 694.001 59.8363 694.001 L59.7236 694.023 Q59.656 694.023 59.3178 693.978 Q58.9571 693.933 58.3709 693.888 Q57.7848 693.843 57.131 693.843 Q53.4338 693.843 51.7204 695.646 Q49.9845 697.427 49.9845 700.493 Q49.9845 702.612 51.1117 704.506 Q52.2389 706.4 54.0199 707.482 Q55.7784 708.564 57.627 708.564 Q59.3178 708.564 60.3999 707.707 Q61.482 706.851 61.8427 705.746 L62.6769 702.658 Q63.511 699.411 63.8717 698.487 Q64.2099 697.563 64.9764 696.796 Q67.0955 694.519 70.3869 694.519 Q73.2275 694.519 75.9779 696.12 Q78.7057 697.72 80.4867 700.471 Q82.2451 703.221 82.2451 706.265 Q82.2451 711.608 78.9312 714.065 L81.5463 716.319 Q82.0422 716.748 82.1324 716.883 Q82.2451 716.996 82.2451 717.153 Q82.2451 717.356 82.1099 717.514 Q81.9972 717.672 81.7943 717.672 Q81.6365 717.672 76.3386 716.342 Q71.0407 715.012 70.928 714.899 Q70.7476 714.719 70.7476 714.426 Q70.7476 713.885 71.2662 713.885 Q71.4014 713.93 71.5818 713.975 Q73.205 714.245 74.0842 714.245 Q75.7299 714.245 76.9924 713.682 Q78.2323 713.118 78.9537 712.284 Q79.6526 711.427 80.1035 710.277 Q80.5318 709.128 80.6896 708.158 Q80.8249 707.189 80.8249 706.174 Q80.8249 703.988 79.5624 702.049 Q78.2999 700.088 76.3386 698.983 Q74.3773 697.856 72.3257 697.856 Q71.2436 697.856 70.4095 698.149 Q69.5528 698.442 69.0794 698.848 Q68.606 699.231 68.2453 699.885 Q67.8845 700.538 67.7493 700.989 Q67.5915 701.418 67.4337 702.094 L66.1261 707.031 Q65.54 709.015 63.8492 710.435 Q62.1583 711.833 59.5658 711.833 Q56.8379 711.833 54.313 710.232 Q51.7655 708.609 50.2325 705.972 Q48.677 703.311 48.677 700.448 Q48.677 698.194 49.5562 696.458 Q50.4129 694.722 52.0135 693.843 L49.3758 691.611 Q48.8573 691.16 48.7671 691.07 Q48.677 690.957 48.677 690.799 Q48.677 690.529 48.8348 690.416 Q48.9926 690.281 49.1504 690.281 Z\" fill=\"#000000\" fill-rule=\"evenodd\" fill-opacity=\"1\" /><circle clip-path=\"url(#clip432)\" cx=\"237.067\" cy=\"1372.26\" r=\"14.4\" fill=\"#009af9\" fill-rule=\"evenodd\" fill-opacity=\"1\" stroke=\"#000000\" stroke-opacity=\"1\" stroke-width=\"3.2\"/>\n<circle clip-path=\"url(#clip432)\" cx=\"374.005\" cy=\"1359.83\" r=\"14.4\" fill=\"#009af9\" fill-rule=\"evenodd\" fill-opacity=\"1\" stroke=\"#000000\" stroke-opacity=\"1\" stroke-width=\"3.2\"/>\n<circle clip-path=\"url(#clip432)\" cx=\"510.943\" cy=\"1321.22\" r=\"14.4\" fill=\"#009af9\" fill-rule=\"evenodd\" fill-opacity=\"1\" stroke=\"#000000\" stroke-opacity=\"1\" stroke-width=\"3.2\"/>\n<circle clip-path=\"url(#clip432)\" cx=\"647.881\" cy=\"1206.29\" r=\"14.4\" fill=\"#009af9\" fill-rule=\"evenodd\" fill-opacity=\"1\" stroke=\"#000000\" stroke-opacity=\"1\" stroke-width=\"3.2\"/>\n<circle clip-path=\"url(#clip432)\" cx=\"784.818\" cy=\"904.242\" r=\"14.4\" fill=\"#009af9\" fill-rule=\"evenodd\" fill-opacity=\"1\" stroke=\"#000000\" stroke-opacity=\"1\" stroke-width=\"3.2\"/>\n<circle clip-path=\"url(#clip432)\" cx=\"921.756\" cy=\"390.361\" r=\"14.4\" fill=\"#009af9\" fill-rule=\"evenodd\" fill-opacity=\"1\" stroke=\"#000000\" stroke-opacity=\"1\" stroke-width=\"3.2\"/>\n<circle clip-path=\"url(#clip432)\" cx=\"1058.69\" cy=\"107.145\" r=\"14.4\" fill=\"#009af9\" fill-rule=\"evenodd\" fill-opacity=\"1\" stroke=\"#000000\" stroke-opacity=\"1\" stroke-width=\"3.2\"/>\n<circle clip-path=\"url(#clip432)\" cx=\"1195.63\" cy=\"85.838\" r=\"14.4\" fill=\"#009af9\" fill-rule=\"evenodd\" fill-opacity=\"1\" stroke=\"#000000\" stroke-opacity=\"1\" stroke-width=\"3.2\"/>\n<circle clip-path=\"url(#clip432)\" cx=\"1332.57\" cy=\"109.489\" r=\"14.4\" fill=\"#009af9\" fill-rule=\"evenodd\" fill-opacity=\"1\" stroke=\"#000000\" stroke-opacity=\"1\" stroke-width=\"3.2\"/>\n<circle clip-path=\"url(#clip432)\" cx=\"1469.51\" cy=\"128.133\" r=\"14.4\" fill=\"#009af9\" fill-rule=\"evenodd\" fill-opacity=\"1\" stroke=\"#000000\" stroke-opacity=\"1\" stroke-width=\"3.2\"/>\n<circle clip-path=\"url(#clip432)\" cx=\"1606.45\" cy=\"134.278\" r=\"14.4\" fill=\"#009af9\" fill-rule=\"evenodd\" fill-opacity=\"1\" stroke=\"#000000\" stroke-opacity=\"1\" stroke-width=\"3.2\"/>\n<circle clip-path=\"url(#clip432)\" cx=\"1743.38\" cy=\"139.634\" r=\"14.4\" fill=\"#009af9\" fill-rule=\"evenodd\" fill-opacity=\"1\" stroke=\"#000000\" stroke-opacity=\"1\" stroke-width=\"3.2\"/>\n<circle clip-path=\"url(#clip432)\" cx=\"1880.32\" cy=\"144.079\" r=\"14.4\" fill=\"#009af9\" fill-rule=\"evenodd\" fill-opacity=\"1\" stroke=\"#000000\" stroke-opacity=\"1\" stroke-width=\"3.2\"/>\n<circle clip-path=\"url(#clip432)\" cx=\"2017.26\" cy=\"144.557\" r=\"14.4\" fill=\"#009af9\" fill-rule=\"evenodd\" fill-opacity=\"1\" stroke=\"#000000\" stroke-opacity=\"1\" stroke-width=\"3.2\"/>\n<circle clip-path=\"url(#clip432)\" cx=\"2154.2\" cy=\"144.75\" r=\"14.4\" fill=\"#009af9\" fill-rule=\"evenodd\" fill-opacity=\"1\" stroke=\"#000000\" stroke-opacity=\"1\" stroke-width=\"3.2\"/>\n<circle clip-path=\"url(#clip432)\" cx=\"2291.13\" cy=\"144.22\" r=\"14.4\" fill=\"#009af9\" fill-rule=\"evenodd\" fill-opacity=\"1\" stroke=\"#000000\" stroke-opacity=\"1\" stroke-width=\"3.2\"/>\n<circle clip-path=\"url(#clip432)\" cx=\"237.067\" cy=\"1372.3\" r=\"14.4\" fill=\"#e26f46\" fill-rule=\"evenodd\" fill-opacity=\"1\" stroke=\"#000000\" stroke-opacity=\"1\" stroke-width=\"3.2\"/>\n<circle clip-path=\"url(#clip432)\" cx=\"374.005\" cy=\"1359.95\" r=\"14.4\" fill=\"#e26f46\" fill-rule=\"evenodd\" fill-opacity=\"1\" stroke=\"#000000\" stroke-opacity=\"1\" stroke-width=\"3.2\"/>\n<circle clip-path=\"url(#clip432)\" cx=\"510.943\" cy=\"1321.53\" r=\"14.4\" fill=\"#e26f46\" fill-rule=\"evenodd\" fill-opacity=\"1\" stroke=\"#000000\" stroke-opacity=\"1\" stroke-width=\"3.2\"/>\n<circle clip-path=\"url(#clip432)\" cx=\"647.881\" cy=\"1206.88\" r=\"14.4\" fill=\"#e26f46\" fill-rule=\"evenodd\" fill-opacity=\"1\" stroke=\"#000000\" stroke-opacity=\"1\" stroke-width=\"3.2\"/>\n<circle clip-path=\"url(#clip432)\" cx=\"784.818\" cy=\"905.236\" r=\"14.4\" fill=\"#e26f46\" fill-rule=\"evenodd\" fill-opacity=\"1\" stroke=\"#000000\" stroke-opacity=\"1\" stroke-width=\"3.2\"/>\n<circle clip-path=\"url(#clip432)\" cx=\"921.756\" cy=\"396.053\" r=\"14.4\" fill=\"#e26f46\" fill-rule=\"evenodd\" fill-opacity=\"1\" stroke=\"#000000\" stroke-opacity=\"1\" stroke-width=\"3.2\"/>\n<circle clip-path=\"url(#clip432)\" cx=\"1058.69\" cy=\"123.568\" r=\"14.4\" fill=\"#e26f46\" fill-rule=\"evenodd\" fill-opacity=\"1\" stroke=\"#000000\" stroke-opacity=\"1\" stroke-width=\"3.2\"/>\n<circle clip-path=\"url(#clip432)\" cx=\"1195.63\" cy=\"95.8515\" r=\"14.4\" fill=\"#e26f46\" fill-rule=\"evenodd\" fill-opacity=\"1\" stroke=\"#000000\" stroke-opacity=\"1\" stroke-width=\"3.2\"/>\n<circle clip-path=\"url(#clip432)\" cx=\"1332.57\" cy=\"110.589\" r=\"14.4\" fill=\"#e26f46\" fill-rule=\"evenodd\" fill-opacity=\"1\" stroke=\"#000000\" stroke-opacity=\"1\" stroke-width=\"3.2\"/>\n<circle clip-path=\"url(#clip432)\" cx=\"1469.51\" cy=\"126.523\" r=\"14.4\" fill=\"#e26f46\" fill-rule=\"evenodd\" fill-opacity=\"1\" stroke=\"#000000\" stroke-opacity=\"1\" stroke-width=\"3.2\"/>\n<circle clip-path=\"url(#clip432)\" cx=\"1606.45\" cy=\"133.044\" r=\"14.4\" fill=\"#e26f46\" fill-rule=\"evenodd\" fill-opacity=\"1\" stroke=\"#000000\" stroke-opacity=\"1\" stroke-width=\"3.2\"/>\n<circle clip-path=\"url(#clip432)\" cx=\"1743.38\" cy=\"138.81\" r=\"14.4\" fill=\"#e26f46\" fill-rule=\"evenodd\" fill-opacity=\"1\" stroke=\"#000000\" stroke-opacity=\"1\" stroke-width=\"3.2\"/>\n<circle clip-path=\"url(#clip432)\" cx=\"1880.32\" cy=\"143.49\" r=\"14.4\" fill=\"#e26f46\" fill-rule=\"evenodd\" fill-opacity=\"1\" stroke=\"#000000\" stroke-opacity=\"1\" stroke-width=\"3.2\"/>\n<circle clip-path=\"url(#clip432)\" cx=\"2017.26\" cy=\"144.304\" r=\"14.4\" fill=\"#e26f46\" fill-rule=\"evenodd\" fill-opacity=\"1\" stroke=\"#000000\" stroke-opacity=\"1\" stroke-width=\"3.2\"/>\n<circle clip-path=\"url(#clip432)\" cx=\"2154.2\" cy=\"144.666\" r=\"14.4\" fill=\"#e26f46\" fill-rule=\"evenodd\" fill-opacity=\"1\" stroke=\"#000000\" stroke-opacity=\"1\" stroke-width=\"3.2\"/>\n<circle clip-path=\"url(#clip432)\" cx=\"2291.13\" cy=\"144.218\" r=\"14.4\" fill=\"#e26f46\" fill-rule=\"evenodd\" fill-opacity=\"1\" stroke=\"#000000\" stroke-opacity=\"1\" stroke-width=\"3.2\"/>\n<path clip-path=\"url(#clip430)\" d=\"M1740 1365.44 L2280.18 1365.44 L2280.18 1209.92 L1740 1209.92  Z\" fill=\"#ffffff\" fill-rule=\"evenodd\" fill-opacity=\"1\"/>\n<polyline clip-path=\"url(#clip430)\" style=\"stroke:#000000; stroke-linecap:round; stroke-linejoin:round; stroke-width:4; stroke-opacity:1; fill:none\" points=\"1740,1365.44 2280.18,1365.44 2280.18,1209.92 1740,1209.92 1740,1365.44 \"/>\n<circle clip-path=\"url(#clip430)\" cx=\"1836.77\" cy=\"1261.76\" r=\"23.04\" fill=\"#009af9\" fill-rule=\"evenodd\" fill-opacity=\"1\" stroke=\"#000000\" stroke-opacity=\"1\" stroke-width=\"5.12\"/>\n<path clip-path=\"url(#clip430)\" d=\"M1957.56 1265.01 L1957.56 1267.1 L1937.98 1267.1 Q1938.26 1271.5 1940.62 1273.81 Q1943 1276.1 1947.24 1276.1 Q1949.69 1276.1 1951.98 1275.5 Q1954.3 1274.9 1956.57 1273.69 L1956.57 1277.72 Q1954.28 1278.69 1951.87 1279.2 Q1949.46 1279.71 1946.98 1279.71 Q1940.78 1279.71 1937.15 1276.1 Q1933.53 1272.49 1933.53 1266.33 Q1933.53 1259.97 1936.96 1256.24 Q1940.41 1252.49 1946.24 1252.49 Q1951.47 1252.49 1954.51 1255.87 Q1957.56 1259.23 1957.56 1265.01 M1953.3 1263.76 Q1953.26 1260.27 1951.34 1258.19 Q1949.44 1256.1 1946.29 1256.1 Q1942.72 1256.1 1940.57 1258.12 Q1938.44 1260.13 1938.12 1263.79 L1953.3 1263.76 Z\" fill=\"#000000\" fill-rule=\"evenodd\" fill-opacity=\"1\" /><path clip-path=\"url(#clip430)\" d=\"M1985.27 1253.12 L1975.9 1265.73 L1985.76 1279.04 L1980.73 1279.04 L1973.19 1268.86 L1965.64 1279.04 L1960.62 1279.04 L1970.69 1265.48 L1961.47 1253.12 L1966.5 1253.12 L1973.37 1262.35 L1980.25 1253.12 L1985.27 1253.12 Z\" fill=\"#000000\" fill-rule=\"evenodd\" fill-opacity=\"1\" /><path clip-path=\"url(#clip430)\" d=\"M1995.99 1245.75 L1995.99 1253.12 L2004.76 1253.12 L2004.76 1256.43 L1995.99 1256.43 L1995.99 1270.5 Q1995.99 1273.67 1996.84 1274.57 Q1997.72 1275.48 2000.39 1275.48 L2004.76 1275.48 L2004.76 1279.04 L2000.39 1279.04 Q1995.46 1279.04 1993.58 1277.21 Q1991.71 1275.36 1991.71 1270.5 L1991.71 1256.43 L1988.58 1256.43 L1988.58 1253.12 L1991.71 1253.12 L1991.71 1245.75 L1995.99 1245.75 Z\" fill=\"#000000\" fill-rule=\"evenodd\" fill-opacity=\"1\" /><path clip-path=\"url(#clip430)\" d=\"M2025.39 1257.1 Q2024.67 1256.68 2023.81 1256.5 Q2022.98 1256.29 2021.96 1256.29 Q2018.35 1256.29 2016.4 1258.65 Q2014.48 1260.99 2014.48 1265.38 L2014.48 1279.04 L2010.2 1279.04 L2010.2 1253.12 L2014.48 1253.12 L2014.48 1257.14 Q2015.83 1254.78 2017.98 1253.65 Q2020.13 1252.49 2023.21 1252.49 Q2023.65 1252.49 2024.18 1252.56 Q2024.71 1252.61 2025.36 1252.72 L2025.39 1257.1 Z\" fill=\"#000000\" fill-rule=\"evenodd\" fill-opacity=\"1\" /><path clip-path=\"url(#clip430)\" d=\"M2041.64 1266.01 Q2036.47 1266.01 2034.48 1267.19 Q2032.49 1268.37 2032.49 1271.22 Q2032.49 1273.49 2033.97 1274.83 Q2035.48 1276.15 2038.05 1276.15 Q2041.59 1276.15 2043.72 1273.65 Q2045.87 1271.12 2045.87 1266.96 L2045.87 1266.01 L2041.64 1266.01 M2050.13 1264.25 L2050.13 1279.04 L2045.87 1279.04 L2045.87 1275.11 Q2044.41 1277.47 2042.24 1278.6 Q2040.06 1279.71 2036.91 1279.71 Q2032.93 1279.71 2030.57 1277.49 Q2028.23 1275.25 2028.23 1271.5 Q2028.23 1267.12 2031.15 1264.9 Q2034.09 1262.68 2039.9 1262.68 L2045.87 1262.68 L2045.87 1262.26 Q2045.87 1259.32 2043.93 1257.72 Q2042.01 1256.1 2038.51 1256.1 Q2036.29 1256.1 2034.18 1256.63 Q2032.08 1257.17 2030.13 1258.23 L2030.13 1254.3 Q2032.47 1253.39 2034.67 1252.95 Q2036.87 1252.49 2038.95 1252.49 Q2044.58 1252.49 2047.35 1255.41 Q2050.13 1258.32 2050.13 1264.25 Z\" fill=\"#000000\" fill-rule=\"evenodd\" fill-opacity=\"1\" /><path clip-path=\"url(#clip430)\" d=\"M2063.02 1275.15 L2063.02 1288.9 L2058.74 1288.9 L2058.74 1253.12 L2063.02 1253.12 L2063.02 1257.05 Q2064.37 1254.74 2066.4 1253.63 Q2068.46 1252.49 2071.31 1252.49 Q2076.03 1252.49 2078.97 1256.24 Q2081.94 1259.99 2081.94 1266.1 Q2081.94 1272.21 2078.97 1275.96 Q2076.03 1279.71 2071.31 1279.71 Q2068.46 1279.71 2066.4 1278.6 Q2064.37 1277.47 2063.02 1275.15 M2077.52 1266.1 Q2077.52 1261.4 2075.57 1258.74 Q2073.65 1256.06 2070.27 1256.06 Q2066.89 1256.06 2064.95 1258.74 Q2063.02 1261.4 2063.02 1266.1 Q2063.02 1270.8 2064.95 1273.49 Q2066.89 1276.15 2070.27 1276.15 Q2073.65 1276.15 2075.57 1273.49 Q2077.52 1270.8 2077.52 1266.1 Z\" fill=\"#000000\" fill-rule=\"evenodd\" fill-opacity=\"1\" /><path clip-path=\"url(#clip430)\" d=\"M2089 1243.02 L2093.26 1243.02 L2093.26 1279.04 L2089 1279.04 L2089 1243.02 Z\" fill=\"#000000\" fill-rule=\"evenodd\" fill-opacity=\"1\" /><path clip-path=\"url(#clip430)\" d=\"M2112.21 1256.1 Q2108.79 1256.1 2106.8 1258.79 Q2104.81 1261.45 2104.81 1266.1 Q2104.81 1270.75 2106.77 1273.44 Q2108.77 1276.1 2112.21 1276.1 Q2115.62 1276.1 2117.61 1273.42 Q2119.6 1270.73 2119.6 1266.1 Q2119.6 1261.5 2117.61 1258.81 Q2115.62 1256.1 2112.21 1256.1 M2112.21 1252.49 Q2117.77 1252.49 2120.94 1256.1 Q2124.11 1259.71 2124.11 1266.1 Q2124.11 1272.47 2120.94 1276.1 Q2117.77 1279.71 2112.21 1279.71 Q2106.64 1279.71 2103.46 1276.1 Q2100.32 1272.47 2100.32 1266.1 Q2100.32 1259.71 2103.46 1256.1 Q2106.64 1252.49 2112.21 1252.49 Z\" fill=\"#000000\" fill-rule=\"evenodd\" fill-opacity=\"1\" /><path clip-path=\"url(#clip430)\" d=\"M2142.95 1266.01 Q2137.79 1266.01 2135.8 1267.19 Q2133.81 1268.37 2133.81 1271.22 Q2133.81 1273.49 2135.29 1274.83 Q2136.8 1276.15 2139.37 1276.15 Q2142.91 1276.15 2145.04 1273.65 Q2147.19 1271.12 2147.19 1266.96 L2147.19 1266.01 L2142.95 1266.01 M2151.45 1264.25 L2151.45 1279.04 L2147.19 1279.04 L2147.19 1275.11 Q2145.73 1277.47 2143.56 1278.6 Q2141.38 1279.71 2138.23 1279.71 Q2134.25 1279.71 2131.89 1277.49 Q2129.55 1275.25 2129.55 1271.5 Q2129.55 1267.12 2132.47 1264.9 Q2135.41 1262.68 2141.22 1262.68 L2147.19 1262.68 L2147.19 1262.26 Q2147.19 1259.32 2145.25 1257.72 Q2143.33 1256.1 2139.83 1256.1 Q2137.61 1256.1 2135.5 1256.63 Q2133.39 1257.17 2131.45 1258.23 L2131.45 1254.3 Q2133.79 1253.39 2135.99 1252.95 Q2138.19 1252.49 2140.27 1252.49 Q2145.89 1252.49 2148.67 1255.41 Q2151.45 1258.32 2151.45 1264.25 Z\" fill=\"#000000\" fill-rule=\"evenodd\" fill-opacity=\"1\" /><path clip-path=\"url(#clip430)\" d=\"M2164.44 1245.75 L2164.44 1253.12 L2173.21 1253.12 L2173.21 1256.43 L2164.44 1256.43 L2164.44 1270.5 Q2164.44 1273.67 2165.29 1274.57 Q2166.17 1275.48 2168.83 1275.48 L2173.21 1275.48 L2173.21 1279.04 L2168.83 1279.04 Q2163.9 1279.04 2162.03 1277.21 Q2160.15 1275.36 2160.15 1270.5 L2160.15 1256.43 L2157.03 1256.43 L2157.03 1253.12 L2160.15 1253.12 L2160.15 1245.75 L2164.44 1245.75 Z\" fill=\"#000000\" fill-rule=\"evenodd\" fill-opacity=\"1\" /><path clip-path=\"url(#clip430)\" d=\"M2200.99 1265.01 L2200.99 1267.1 L2181.4 1267.1 Q2181.68 1271.5 2184.04 1273.81 Q2186.43 1276.1 2190.66 1276.1 Q2193.12 1276.1 2195.41 1275.5 Q2197.72 1274.9 2199.99 1273.69 L2199.99 1277.72 Q2197.7 1278.69 2195.29 1279.2 Q2192.89 1279.71 2190.41 1279.71 Q2184.2 1279.71 2180.57 1276.1 Q2176.96 1272.49 2176.96 1266.33 Q2176.96 1259.97 2180.39 1256.24 Q2183.83 1252.49 2189.67 1252.49 Q2194.9 1252.49 2197.93 1255.87 Q2200.99 1259.23 2200.99 1265.01 M2196.73 1263.76 Q2196.68 1260.27 2194.76 1258.19 Q2192.86 1256.1 2189.71 1256.1 Q2186.15 1256.1 2184 1258.12 Q2181.87 1260.13 2181.54 1263.79 L2196.73 1263.76 Z\" fill=\"#000000\" fill-rule=\"evenodd\" fill-opacity=\"1\" /><path clip-path=\"url(#clip430)\" d=\"M2225.04 1257.05 L2225.04 1243.02 L2229.3 1243.02 L2229.3 1279.04 L2225.04 1279.04 L2225.04 1275.15 Q2223.7 1277.47 2221.63 1278.6 Q2219.6 1279.71 2216.73 1279.71 Q2212.03 1279.71 2209.07 1275.96 Q2206.13 1272.21 2206.13 1266.1 Q2206.13 1259.99 2209.07 1256.24 Q2212.03 1252.49 2216.73 1252.49 Q2219.6 1252.49 2221.63 1253.63 Q2223.7 1254.74 2225.04 1257.05 M2210.52 1266.1 Q2210.52 1270.8 2212.45 1273.49 Q2214.39 1276.15 2217.77 1276.15 Q2221.15 1276.15 2223.09 1273.49 Q2225.04 1270.8 2225.04 1266.1 Q2225.04 1261.4 2223.09 1258.74 Q2221.15 1256.06 2217.77 1256.06 Q2214.39 1256.06 2212.45 1258.74 Q2210.52 1261.4 2210.52 1266.1 Z\" fill=\"#000000\" fill-rule=\"evenodd\" fill-opacity=\"1\" /><circle clip-path=\"url(#clip430)\" cx=\"1836.77\" cy=\"1313.6\" r=\"23.04\" fill=\"#e26f46\" fill-rule=\"evenodd\" fill-opacity=\"1\" stroke=\"#000000\" stroke-opacity=\"1\" stroke-width=\"5.12\"/>\n<path clip-path=\"url(#clip430)\" d=\"M1951.96 1305.72 L1951.96 1309.75 Q1950.15 1308.82 1948.21 1308.36 Q1946.27 1307.9 1944.18 1307.9 Q1941.01 1307.9 1939.41 1308.87 Q1937.84 1309.84 1937.84 1311.78 Q1937.84 1313.27 1938.97 1314.12 Q1940.11 1314.96 1943.53 1315.72 L1944.99 1316.04 Q1949.53 1317.02 1951.43 1318.8 Q1953.35 1320.56 1953.35 1323.73 Q1953.35 1327.34 1950.48 1329.45 Q1947.63 1331.55 1942.63 1331.55 Q1940.55 1331.55 1938.28 1331.14 Q1936.03 1330.74 1933.53 1329.93 L1933.53 1325.53 Q1935.9 1326.76 1938.19 1327.39 Q1940.48 1327.99 1942.72 1327.99 Q1945.73 1327.99 1947.35 1326.97 Q1948.97 1325.93 1948.97 1324.05 Q1948.97 1322.32 1947.79 1321.39 Q1946.64 1320.46 1942.68 1319.61 L1941.2 1319.26 Q1937.24 1318.43 1935.48 1316.71 Q1933.72 1314.98 1933.72 1311.97 Q1933.72 1308.31 1936.31 1306.32 Q1938.9 1304.33 1943.67 1304.33 Q1946.03 1304.33 1948.12 1304.68 Q1950.2 1305.03 1951.96 1305.72 Z\" fill=\"#000000\" fill-rule=\"evenodd\" fill-opacity=\"1\" /><path clip-path=\"url(#clip430)\" d=\"M1982.31 1316.85 L1982.31 1318.94 L1962.72 1318.94 Q1963 1323.34 1965.36 1325.65 Q1967.75 1327.94 1971.98 1327.94 Q1974.44 1327.94 1976.73 1327.34 Q1979.04 1326.74 1981.31 1325.53 L1981.31 1329.56 Q1979.02 1330.53 1976.61 1331.04 Q1974.21 1331.55 1971.73 1331.55 Q1965.53 1331.55 1961.89 1327.94 Q1958.28 1324.33 1958.28 1318.17 Q1958.28 1311.81 1961.71 1308.08 Q1965.15 1304.33 1970.99 1304.33 Q1976.22 1304.33 1979.25 1307.71 Q1982.31 1311.07 1982.31 1316.85 M1978.05 1315.6 Q1978 1312.11 1976.08 1310.03 Q1974.18 1307.94 1971.03 1307.94 Q1967.47 1307.94 1965.32 1309.96 Q1963.19 1311.97 1962.86 1315.63 L1978.05 1315.6 Z\" fill=\"#000000\" fill-rule=\"evenodd\" fill-opacity=\"1\" /><path clip-path=\"url(#clip430)\" d=\"M2009.48 1309.93 Q2011.08 1307.06 2013.3 1305.7 Q2015.52 1304.33 2018.53 1304.33 Q2022.59 1304.33 2024.78 1307.18 Q2026.98 1310 2026.98 1315.23 L2026.98 1330.88 L2022.7 1330.88 L2022.7 1315.37 Q2022.7 1311.65 2021.38 1309.84 Q2020.06 1308.03 2017.35 1308.03 Q2014.04 1308.03 2012.12 1310.23 Q2010.2 1312.43 2010.2 1316.23 L2010.2 1330.88 L2005.92 1330.88 L2005.92 1315.37 Q2005.92 1311.62 2004.6 1309.84 Q2003.28 1308.03 2000.52 1308.03 Q1997.26 1308.03 1995.34 1310.26 Q1993.42 1312.46 1993.42 1316.23 L1993.42 1330.88 L1989.14 1330.88 L1989.14 1304.96 L1993.42 1304.96 L1993.42 1308.98 Q1994.88 1306.6 1996.91 1305.47 Q1998.95 1304.33 2001.75 1304.33 Q2004.58 1304.33 2006.54 1305.77 Q2008.53 1307.2 2009.48 1309.93 Z\" fill=\"#000000\" fill-rule=\"evenodd\" fill-opacity=\"1\" /><path clip-path=\"url(#clip430)\" d=\"M2035.48 1304.96 L2039.74 1304.96 L2039.74 1330.88 L2035.48 1330.88 L2035.48 1304.96 M2035.48 1294.86 L2039.74 1294.86 L2039.74 1300.26 L2035.48 1300.26 L2035.48 1294.86 Z\" fill=\"#000000\" fill-rule=\"evenodd\" fill-opacity=\"1\" /><path clip-path=\"url(#clip430)\" d=\"M2046.5 1316 L2058.97 1316 L2058.97 1319.79 L2046.5 1319.79 L2046.5 1316 Z\" fill=\"#000000\" fill-rule=\"evenodd\" fill-opacity=\"1\" /><path clip-path=\"url(#clip430)\" d=\"M2084.41 1305.95 L2084.41 1309.93 Q2082.61 1308.94 2080.78 1308.45 Q2078.97 1307.94 2077.12 1307.94 Q2072.98 1307.94 2070.69 1310.58 Q2068.39 1313.2 2068.39 1317.94 Q2068.39 1322.69 2070.69 1325.33 Q2072.98 1327.94 2077.12 1327.94 Q2078.97 1327.94 2080.78 1327.46 Q2082.61 1326.95 2084.41 1325.95 L2084.41 1329.89 Q2082.63 1330.72 2080.71 1331.14 Q2078.81 1331.55 2076.66 1331.55 Q2070.8 1331.55 2067.35 1327.87 Q2063.9 1324.19 2063.9 1317.94 Q2063.9 1311.6 2067.38 1307.97 Q2070.87 1304.33 2076.94 1304.33 Q2078.9 1304.33 2080.78 1304.75 Q2082.65 1305.14 2084.41 1305.95 Z\" fill=\"#000000\" fill-rule=\"evenodd\" fill-opacity=\"1\" /><path clip-path=\"url(#clip430)\" d=\"M2091.82 1294.86 L2096.08 1294.86 L2096.08 1330.88 L2091.82 1330.88 L2091.82 1294.86 Z\" fill=\"#000000\" fill-rule=\"evenodd\" fill-opacity=\"1\" /><path clip-path=\"url(#clip430)\" d=\"M2116.77 1317.85 Q2111.61 1317.85 2109.62 1319.03 Q2107.63 1320.21 2107.63 1323.06 Q2107.63 1325.33 2109.11 1326.67 Q2110.62 1327.99 2113.19 1327.99 Q2116.73 1327.99 2118.86 1325.49 Q2121.01 1322.96 2121.01 1318.8 L2121.01 1317.85 L2116.77 1317.85 M2125.27 1316.09 L2125.27 1330.88 L2121.01 1330.88 L2121.01 1326.95 Q2119.55 1329.31 2117.38 1330.44 Q2115.2 1331.55 2112.05 1331.55 Q2108.07 1331.55 2105.71 1329.33 Q2103.37 1327.09 2103.37 1323.34 Q2103.37 1318.96 2106.29 1316.74 Q2109.23 1314.52 2115.04 1314.52 L2121.01 1314.52 L2121.01 1314.1 Q2121.01 1311.16 2119.07 1309.56 Q2117.14 1307.94 2113.65 1307.94 Q2111.43 1307.94 2109.32 1308.47 Q2107.21 1309.01 2105.27 1310.07 L2105.27 1306.14 Q2107.61 1305.23 2109.81 1304.79 Q2112.01 1304.33 2114.09 1304.33 Q2119.71 1304.33 2122.49 1307.25 Q2125.27 1310.16 2125.27 1316.09 Z\" fill=\"#000000\" fill-rule=\"evenodd\" fill-opacity=\"1\" /><path clip-path=\"url(#clip430)\" d=\"M2150.57 1305.72 L2150.57 1309.75 Q2148.76 1308.82 2146.82 1308.36 Q2144.88 1307.9 2142.79 1307.9 Q2139.62 1307.9 2138.02 1308.87 Q2136.45 1309.84 2136.45 1311.78 Q2136.45 1313.27 2137.58 1314.12 Q2138.72 1314.96 2142.14 1315.72 L2143.6 1316.04 Q2148.14 1317.02 2150.04 1318.8 Q2151.96 1320.56 2151.96 1323.73 Q2151.96 1327.34 2149.09 1329.45 Q2146.24 1331.55 2141.24 1331.55 Q2139.16 1331.55 2136.89 1331.14 Q2134.64 1330.74 2132.14 1329.93 L2132.14 1325.53 Q2134.51 1326.76 2136.8 1327.39 Q2139.09 1327.99 2141.33 1327.99 Q2144.34 1327.99 2145.96 1326.97 Q2147.58 1325.93 2147.58 1324.05 Q2147.58 1322.32 2146.4 1321.39 Q2145.25 1320.46 2141.29 1319.61 L2139.81 1319.26 Q2135.85 1318.43 2134.09 1316.71 Q2132.33 1314.98 2132.33 1311.97 Q2132.33 1308.31 2134.92 1306.32 Q2137.51 1304.33 2142.28 1304.33 Q2144.64 1304.33 2146.73 1304.68 Q2148.81 1305.03 2150.57 1305.72 Z\" fill=\"#000000\" fill-rule=\"evenodd\" fill-opacity=\"1\" /><path clip-path=\"url(#clip430)\" d=\"M2175.27 1305.72 L2175.27 1309.75 Q2173.46 1308.82 2171.52 1308.36 Q2169.57 1307.9 2167.49 1307.9 Q2164.32 1307.9 2162.72 1308.87 Q2161.15 1309.84 2161.15 1311.78 Q2161.15 1313.27 2162.28 1314.12 Q2163.42 1314.96 2166.84 1315.72 L2168.3 1316.04 Q2172.84 1317.02 2174.74 1318.8 Q2176.66 1320.56 2176.66 1323.73 Q2176.66 1327.34 2173.79 1329.45 Q2170.94 1331.55 2165.94 1331.55 Q2163.86 1331.55 2161.59 1331.14 Q2159.34 1330.74 2156.84 1329.93 L2156.84 1325.53 Q2159.2 1326.76 2161.5 1327.39 Q2163.79 1327.99 2166.03 1327.99 Q2169.04 1327.99 2170.66 1326.97 Q2172.28 1325.93 2172.28 1324.05 Q2172.28 1322.32 2171.1 1321.39 Q2169.95 1320.46 2165.99 1319.61 L2164.51 1319.26 Q2160.55 1318.43 2158.79 1316.71 Q2157.03 1314.98 2157.03 1311.97 Q2157.03 1308.31 2159.62 1306.32 Q2162.21 1304.33 2166.98 1304.33 Q2169.34 1304.33 2171.43 1304.68 Q2173.51 1305.03 2175.27 1305.72 Z\" fill=\"#000000\" fill-rule=\"evenodd\" fill-opacity=\"1\" /><path clip-path=\"url(#clip430)\" d=\"M2183.44 1304.96 L2187.7 1304.96 L2187.7 1330.88 L2183.44 1330.88 L2183.44 1304.96 M2183.44 1294.86 L2187.7 1294.86 L2187.7 1300.26 L2183.44 1300.26 L2183.44 1294.86 Z\" fill=\"#000000\" fill-rule=\"evenodd\" fill-opacity=\"1\" /><path clip-path=\"url(#clip430)\" d=\"M2215.27 1305.95 L2215.27 1309.93 Q2213.46 1308.94 2211.63 1308.45 Q2209.83 1307.94 2207.98 1307.94 Q2203.83 1307.94 2201.54 1310.58 Q2199.25 1313.2 2199.25 1317.94 Q2199.25 1322.69 2201.54 1325.33 Q2203.83 1327.94 2207.98 1327.94 Q2209.83 1327.94 2211.63 1327.46 Q2213.46 1326.95 2215.27 1325.95 L2215.27 1329.89 Q2213.49 1330.72 2211.57 1331.14 Q2209.67 1331.55 2207.51 1331.55 Q2201.66 1331.55 2198.21 1327.87 Q2194.76 1324.19 2194.76 1317.94 Q2194.76 1311.6 2198.23 1307.97 Q2201.73 1304.33 2207.79 1304.33 Q2209.76 1304.33 2211.63 1304.75 Q2213.51 1305.14 2215.27 1305.95 Z\" fill=\"#000000\" fill-rule=\"evenodd\" fill-opacity=\"1\" /><path clip-path=\"url(#clip430)\" d=\"M2234.46 1317.85 Q2229.3 1317.85 2227.31 1319.03 Q2225.32 1320.21 2225.32 1323.06 Q2225.32 1325.33 2226.8 1326.67 Q2228.3 1327.99 2230.87 1327.99 Q2234.41 1327.99 2236.54 1325.49 Q2238.69 1322.96 2238.69 1318.8 L2238.69 1317.85 L2234.46 1317.85 M2242.95 1316.09 L2242.95 1330.88 L2238.69 1330.88 L2238.69 1326.95 Q2237.24 1329.31 2235.06 1330.44 Q2232.88 1331.55 2229.74 1331.55 Q2225.76 1331.55 2223.39 1329.33 Q2221.06 1327.09 2221.06 1323.34 Q2221.06 1318.96 2223.97 1316.74 Q2226.91 1314.52 2232.72 1314.52 L2238.69 1314.52 L2238.69 1314.1 Q2238.69 1311.16 2236.75 1309.56 Q2234.83 1307.94 2231.33 1307.94 Q2229.11 1307.94 2227.01 1308.47 Q2224.9 1309.01 2222.95 1310.07 L2222.95 1306.14 Q2225.29 1305.23 2227.49 1304.79 Q2229.69 1304.33 2231.77 1304.33 Q2237.4 1304.33 2240.18 1307.25 Q2242.95 1310.16 2242.95 1316.09 Z\" fill=\"#000000\" fill-rule=\"evenodd\" fill-opacity=\"1\" /><path clip-path=\"url(#clip430)\" d=\"M2251.73 1294.86 L2255.99 1294.86 L2255.99 1330.88 L2251.73 1330.88 L2251.73 1294.86 Z\" fill=\"#000000\" fill-rule=\"evenodd\" fill-opacity=\"1\" /></svg>\n",
      "text/html": [
       "<img src=\"data:image/png;base64,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\" />"
      ]
     },
     "metadata": {},
     "output_type": "display_data"
    }
   ],
   "source": [
    "alph = 6/18\n",
    "dVamp_semi_a718 = Ampl_resc_tensor(alph, 1.0, 1/3, 0.0, 7500.0)\n",
    "dVamp_extra_a718 = dressed_QVAmp(SU2_Eamp_extra, SU2_Vamp_extra, alph, 1/3)\n",
    "taus = [10.0^(i) for i in -3:0.5:5]\n",
    "file_endings = [Int(10*i) for i in -3:0.5:5]\n",
    "ev1_semi_a718 = zeros(17)\n",
    "ev1_extra_a718 = zeros(17)\n",
    "for (t,tau) in enumerate(file_endings)\n",
    "    rp1 = load(\"/ssd/ri47hud/codes/Spectral Dimension/RP1/Quantum/rp1_1_15000_g13_$tau.jld\", \"rp1_EPRL\")\n",
    "    ev1_semi_a718[t] = QExpval_P1(dVamp_semi_a718, rp1)[1]\n",
    "    ev1_extra_a718[t] = QExpval_P1(dVamp_extra_a718, rp1)[1]\n",
    "end\n",
    "specdim1_semi_a718 = [-2*(log(ev1_semi_a718[t+1]) - log(ev1_semi_a718[t]))/(log(taus[t+1]) - log(taus[t])) for t in 1:16]\n",
    "specdim1_extra_a718 = [-2*(log(ev1_extra_a718[t+1]) - log(ev1_extra_a718[t]))/(log(taus[t+1]) - log(taus[t])) for t in 1:16]\n",
    "scatter(taus[1:16], [specdim1_extra_a718, specdim1_semi_a718], label=[\"extraploated\" \"semi-classical\"], xaxis=:log, xlabel=L\"$\\tau$\", ylabel=L\"D_S\", legend=:bottomright, fmt=:png)"
   ]
  }
 ],
 "metadata": {
  "kernelspec": {
   "display_name": "Julia 1.8.2",
   "language": "julia",
   "name": "julia-1.8"
  },
  "language_info": {
   "file_extension": ".jl",
   "mimetype": "application/julia",
   "name": "julia",
   "version": "1.8.5"
  },
  "orig_nbformat": 4
 },
 "nbformat": 4,
 "nbformat_minor": 2
}
